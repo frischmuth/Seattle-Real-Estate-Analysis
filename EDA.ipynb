{
 "cells": [
  {
   "cell_type": "code",
   "execution_count": 54,
   "metadata": {},
   "outputs": [],
   "source": [
    "import numpy as np\n",
    "import pandas as pd\n",
    "# pd.set_option('display.height', 1000)\n",
    "pd.set_option('display.max_rows', 500)\n",
    "pd.set_option('display.max_columns', 500)\n",
    "pd.set_option('display.width', 1000)"
   ]
  },
  {
   "cell_type": "code",
   "execution_count": 2,
   "metadata": {},
   "outputs": [],
   "source": [
    "building_permits = pd.read_csv('data/Building_Permits.csv')"
   ]
  },
  {
   "cell_type": "code",
   "execution_count": 13,
   "metadata": {},
   "outputs": [],
   "source": [
    "res_bldg_prmts = building_permits[building_permits['PermitClassMapped']=='Residential'].copy()\n",
    "demo = res_bldg_prmts[res_bldg_prmts['PermitTypeDesc']=='Demolition']"
   ]
  },
  {
   "cell_type": "code",
   "execution_count": 64,
   "metadata": {},
   "outputs": [
    {
     "data": {
      "text/plain": [
       "PermitNum                                                       6739166-DM\n",
       "PermitClass                                                    Multifamily\n",
       "PermitClassMapped                                              Residential\n",
       "PermitTypeMapped                                                Demolition\n",
       "PermitTypeDesc                                                  Demolition\n",
       "Description              Demolish existing 4-plex to foundation, subjec...\n",
       "HousingUnits                                                           NaN\n",
       "HousingUnitsRemoved                                                    NaN\n",
       "HousingUnitsAdded                                                      NaN\n",
       "EstProjectCost                                                           0\n",
       "AppliedDate                                                            NaN\n",
       "IssuedDate                                                      2019-07-22\n",
       "ExpiresDate                                                     2021-01-22\n",
       "CompletedDate                                                   2019-09-11\n",
       "StatusCurrent                                                    Completed\n",
       "OriginalAddress1                                         12718 33RD AVE NE\n",
       "OriginalCity                                                       SEATTLE\n",
       "OriginalState                                                           WA\n",
       "OriginalZip                                                          98125\n",
       "ContractorCompanyName                                                  NaN\n",
       "Link                     https://cosaccela.seattle.gov/portal/customize...\n",
       "Latitude                                                           47.7218\n",
       "Longitude                                                         -122.292\n",
       "Location1                12718 33RD AVE NE\\nSEATTLE, WA 98125\\n(47.7217...\n",
       "Name: 134, dtype: object"
      ]
     },
     "execution_count": 64,
     "metadata": {},
     "output_type": "execute_result"
    }
   ],
   "source": [
    "res_bldg_prmts.iloc[100]"
   ]
  },
  {
   "cell_type": "code",
   "execution_count": 35,
   "metadata": {},
   "outputs": [],
   "source": [
    "import zipfile\n",
    "with zipfile.ZipFile('data/Parcel.zip', 'r') as zip_ref:\n",
    "    zip_ref.extractall('data/')"
   ]
  },
  {
   "cell_type": "code",
   "execution_count": 47,
   "metadata": {},
   "outputs": [],
   "source": [
    "parcels = pd.read_csv('data/EXTR_Parcel.csv', encoding=\"Latin1\")"
   ]
  },
  {
   "cell_type": "code",
   "execution_count": 67,
   "metadata": {},
   "outputs": [
    {
     "data": {
      "text/html": [
       "<div>\n",
       "<style scoped>\n",
       "    .dataframe tbody tr th:only-of-type {\n",
       "        vertical-align: middle;\n",
       "    }\n",
       "\n",
       "    .dataframe tbody tr th {\n",
       "        vertical-align: top;\n",
       "    }\n",
       "\n",
       "    .dataframe thead th {\n",
       "        text-align: right;\n",
       "    }\n",
       "</style>\n",
       "<table border=\"1\" class=\"dataframe\">\n",
       "  <thead>\n",
       "    <tr style=\"text-align: right;\">\n",
       "      <th></th>\n",
       "      <th>Major</th>\n",
       "      <th>Minor</th>\n",
       "      <th>PropName</th>\n",
       "      <th>PlatName</th>\n",
       "      <th>PlatLot</th>\n",
       "      <th>PlatBlock</th>\n",
       "      <th>Range</th>\n",
       "      <th>Township</th>\n",
       "      <th>Section</th>\n",
       "      <th>QuarterSection</th>\n",
       "      <th>PropType</th>\n",
       "      <th>Area</th>\n",
       "      <th>SubArea</th>\n",
       "      <th>SpecArea</th>\n",
       "      <th>SpecSubArea</th>\n",
       "      <th>DistrictName</th>\n",
       "      <th>LevyCode</th>\n",
       "      <th>CurrentZoning</th>\n",
       "      <th>HBUAsIfVacant</th>\n",
       "      <th>HBUAsImproved</th>\n",
       "      <th>PresentUse</th>\n",
       "      <th>SqFtLot</th>\n",
       "      <th>WaterSystem</th>\n",
       "      <th>SewerSystem</th>\n",
       "      <th>Access</th>\n",
       "      <th>Topography</th>\n",
       "      <th>StreetSurface</th>\n",
       "      <th>RestrictiveSzShape</th>\n",
       "      <th>InadequateParking</th>\n",
       "      <th>PcntUnusable</th>\n",
       "      <th>Unbuildable</th>\n",
       "      <th>MtRainier</th>\n",
       "      <th>Olympics</th>\n",
       "      <th>Cascades</th>\n",
       "      <th>Territorial</th>\n",
       "      <th>SeattleSkyline</th>\n",
       "      <th>PugetSound</th>\n",
       "      <th>LakeWashington</th>\n",
       "      <th>LakeSammamish</th>\n",
       "      <th>SmallLakeRiverCreek</th>\n",
       "      <th>OtherView</th>\n",
       "      <th>WfntLocation</th>\n",
       "      <th>WfntFootage</th>\n",
       "      <th>WfntBank</th>\n",
       "      <th>WfntPoorQuality</th>\n",
       "      <th>WfntRestrictedAccess</th>\n",
       "      <th>WfntAccessRights</th>\n",
       "      <th>WfntProximityInfluence</th>\n",
       "      <th>TidelandShoreland</th>\n",
       "      <th>LotDepthFactor</th>\n",
       "      <th>TrafficNoise</th>\n",
       "      <th>AirportNoise</th>\n",
       "      <th>PowerLines</th>\n",
       "      <th>OtherNuisances</th>\n",
       "      <th>NbrBldgSites</th>\n",
       "      <th>Contamination</th>\n",
       "      <th>DNRLease</th>\n",
       "      <th>AdjacentGolfFairway</th>\n",
       "      <th>AdjacentGreenbelt</th>\n",
       "      <th>HistoricSite</th>\n",
       "      <th>CurrentUseDesignation</th>\n",
       "      <th>NativeGrowthProtEsmt</th>\n",
       "      <th>Easements</th>\n",
       "      <th>OtherDesignation</th>\n",
       "      <th>DeedRestrictions</th>\n",
       "      <th>DevelopmentRightsPurch</th>\n",
       "      <th>CoalMineHazard</th>\n",
       "      <th>CriticalDrainage</th>\n",
       "      <th>ErosionHazard</th>\n",
       "      <th>LandfillBuffer</th>\n",
       "      <th>HundredYrFloodPlain</th>\n",
       "      <th>SeismicHazard</th>\n",
       "      <th>LandslideHazard</th>\n",
       "      <th>SteepSlopeHazard</th>\n",
       "      <th>Stream</th>\n",
       "      <th>Wetland</th>\n",
       "      <th>SpeciesOfConcern</th>\n",
       "      <th>SensitiveAreaTract</th>\n",
       "      <th>WaterProblems</th>\n",
       "      <th>TranspConcurrency</th>\n",
       "      <th>OtherProblems</th>\n",
       "    </tr>\n",
       "  </thead>\n",
       "  <tbody>\n",
       "    <tr>\n",
       "      <td>11049</td>\n",
       "      <td>329940</td>\n",
       "      <td>0</td>\n",
       "      <td>HIGHLAND QUEEN ANNE CONDOMINIUM</td>\n",
       "      <td>HIGHLAND QUEEN ANNE</td>\n",
       "      <td></td>\n",
       "      <td></td>\n",
       "      <td>4</td>\n",
       "      <td>25</td>\n",
       "      <td>30</td>\n",
       "      <td>NW</td>\n",
       "      <td>K</td>\n",
       "      <td>20.0</td>\n",
       "      <td>30.0</td>\n",
       "      <td>700.0</td>\n",
       "      <td>15.0</td>\n",
       "      <td>SEATTLE</td>\n",
       "      <td>10</td>\n",
       "      <td>LR3</td>\n",
       "      <td>6</td>\n",
       "      <td>1</td>\n",
       "      <td>20</td>\n",
       "      <td>17082</td>\n",
       "      <td>2</td>\n",
       "      <td>2</td>\n",
       "      <td>4</td>\n",
       "      <td>1</td>\n",
       "      <td>1</td>\n",
       "      <td>0</td>\n",
       "      <td>2</td>\n",
       "      <td>0</td>\n",
       "      <td>False</td>\n",
       "      <td>0</td>\n",
       "      <td>0</td>\n",
       "      <td>0</td>\n",
       "      <td>2</td>\n",
       "      <td>0</td>\n",
       "      <td>2</td>\n",
       "      <td>0</td>\n",
       "      <td>0</td>\n",
       "      <td>0</td>\n",
       "      <td>0</td>\n",
       "      <td>0</td>\n",
       "      <td>0</td>\n",
       "      <td>0</td>\n",
       "      <td>0</td>\n",
       "      <td>0</td>\n",
       "      <td>N</td>\n",
       "      <td>N</td>\n",
       "      <td>0</td>\n",
       "      <td>0</td>\n",
       "      <td>0</td>\n",
       "      <td>0</td>\n",
       "      <td>N</td>\n",
       "      <td>N</td>\n",
       "      <td>0</td>\n",
       "      <td>0</td>\n",
       "      <td>N</td>\n",
       "      <td>N</td>\n",
       "      <td>N</td>\n",
       "      <td>0</td>\n",
       "      <td>0</td>\n",
       "      <td>N</td>\n",
       "      <td>N</td>\n",
       "      <td>N</td>\n",
       "      <td>N</td>\n",
       "      <td>N</td>\n",
       "      <td>N</td>\n",
       "      <td>N</td>\n",
       "      <td>N</td>\n",
       "      <td>N</td>\n",
       "      <td>N</td>\n",
       "      <td>N</td>\n",
       "      <td>N</td>\n",
       "      <td>N</td>\n",
       "      <td>N</td>\n",
       "      <td>N</td>\n",
       "      <td>N</td>\n",
       "      <td>N</td>\n",
       "      <td>N</td>\n",
       "      <td>N</td>\n",
       "      <td>N</td>\n",
       "    </tr>\n",
       "  </tbody>\n",
       "</table>\n",
       "</div>"
      ],
      "text/plain": [
       "        Major  Minor                         PropName             PlatName         PlatLot PlatBlock  Range  Township  Section QuarterSection PropType  Area  SubArea  SpecArea  SpecSubArea DistrictName  LevyCode CurrentZoning  HBUAsIfVacant  HBUAsImproved  PresentUse  SqFtLot  WaterSystem  SewerSystem  Access  Topography  StreetSurface  RestrictiveSzShape  InadequateParking  PcntUnusable  Unbuildable  MtRainier  Olympics  Cascades  Territorial  SeattleSkyline  PugetSound  LakeWashington  LakeSammamish  SmallLakeRiverCreek  OtherView  WfntLocation  WfntFootage  WfntBank  WfntPoorQuality  WfntRestrictedAccess WfntAccessRights WfntProximityInfluence  TidelandShoreland  LotDepthFactor  TrafficNoise  AirportNoise PowerLines OtherNuisances  NbrBldgSites  Contamination DNRLease AdjacentGolfFairway AdjacentGreenbelt  HistoricSite  CurrentUseDesignation NativeGrowthProtEsmt Easements OtherDesignation DeedRestrictions DevelopmentRightsPurch CoalMineHazard CriticalDrainage ErosionHazard  \\\n",
       "11049  329940      0  HIGHLAND QUEEN ANNE CONDOMINIUM  HIGHLAND QUEEN ANNE                                4        25       30             NW        K  20.0     30.0     700.0         15.0      SEATTLE        10           LR3              6              1          20    17082            2            2       4           1              1                   0                  2             0        False          0         0         0            2               0           2               0              0                    0          0             0            0         0                0                     0                N                      N                  0               0             0             0          N              N             0              0        N                   N                 N             0                      0                    N         N                N                N                      N              N                N             N   \n",
       "\n",
       "      LandfillBuffer HundredYrFloodPlain SeismicHazard LandslideHazard SteepSlopeHazard Stream Wetland SpeciesOfConcern SensitiveAreaTract WaterProblems TranspConcurrency OtherProblems  \n",
       "11049              N                   N             N               N                N      N       N                N                  N             N                 N             N  "
      ]
     },
     "execution_count": 67,
     "metadata": {},
     "output_type": "execute_result"
    }
   ],
   "source": [
    "parcels[(parcels.Major==329940)]"
   ]
  },
  {
   "cell_type": "code",
   "execution_count": 80,
   "metadata": {},
   "outputs": [
    {
     "data": {
      "text/plain": [
       "Index(['Major', 'Minor', 'PropName', 'PlatName', 'PlatLot', 'PlatBlock', 'Range', 'Township', 'Section', 'QuarterSection', 'PropType', 'Area', 'SubArea', 'SpecArea', 'SpecSubArea', 'DistrictName', 'LevyCode', 'CurrentZoning', 'HBUAsIfVacant', 'HBUAsImproved', 'PresentUse', 'SqFtLot', 'WaterSystem', 'SewerSystem', 'Access', 'Topography', 'StreetSurface', 'RestrictiveSzShape', 'InadequateParking', 'PcntUnusable', 'Unbuildable', 'MtRainier', 'Olympics', 'Cascades', 'Territorial', 'SeattleSkyline', 'PugetSound', 'LakeWashington', 'LakeSammamish', 'SmallLakeRiverCreek', 'OtherView', 'WfntLocation', 'WfntFootage', 'WfntBank', 'WfntPoorQuality', 'WfntRestrictedAccess', 'WfntAccessRights', 'WfntProximityInfluence', 'TidelandShoreland', 'LotDepthFactor', 'TrafficNoise', 'AirportNoise', 'PowerLines', 'OtherNuisances', 'NbrBldgSites', 'Contamination', 'DNRLease', 'AdjacentGolfFairway', 'AdjacentGreenbelt', 'HistoricSite', 'CurrentUseDesignation', 'NativeGrowthProtEsmt', 'Easements',\n",
       "       'OtherDesignation', 'DeedRestrictions', 'DevelopmentRightsPurch', 'CoalMineHazard', 'CriticalDrainage', 'ErosionHazard', 'LandfillBuffer', 'HundredYrFloodPlain', 'SeismicHazard', 'LandslideHazard', 'SteepSlopeHazard', 'Stream', 'Wetland', 'SpeciesOfConcern', 'SensitiveAreaTract', 'WaterProblems', 'TranspConcurrency', 'OtherProblems'],\n",
       "      dtype='object')"
      ]
     },
     "execution_count": 80,
     "metadata": {},
     "output_type": "execute_result"
    }
   ],
   "source": [
    "parcels.columns"
   ]
  },
  {
   "cell_type": "code",
   "execution_count": null,
   "metadata": {},
   "outputs": [],
   "source": [
    "with open('data/EXTR_Parcel.csv') as file:\n",
    "    for line in file:\n",
    "        print(line)"
   ]
  },
  {
   "cell_type": "code",
   "execution_count": 68,
   "metadata": {},
   "outputs": [],
   "source": [
    "tax = pd.read_csv('data/Tax Data.zip')"
   ]
  },
  {
   "cell_type": "code",
   "execution_count": 74,
   "metadata": {},
   "outputs": [
    {
     "data": {
      "text/plain": [
       "AcctNbr           216200018002\n",
       "ReceivableType               R\n",
       "BillYr                    1993\n",
       "OmitYr                       0\n",
       "LevyCode                  1031\n",
       "ApprLandVal                  0\n",
       "ApprImpsVal                  0\n",
       "NewDollar                    0\n",
       "LandVal                  58800\n",
       "ImpsVal                 337000\n",
       "TaxValReason                  \n",
       "TaxStat                      T\n",
       "AcctStat                     A\n",
       "Name: 0, dtype: object"
      ]
     },
     "execution_count": 74,
     "metadata": {},
     "output_type": "execute_result"
    }
   ],
   "source": [
    "tax.iloc[0]"
   ]
  },
  {
   "cell_type": "code",
   "execution_count": 75,
   "metadata": {},
   "outputs": [
    {
     "name": "stderr",
     "output_type": "stream",
     "text": [
      "/Users/ross/anaconda3/lib/python3.7/site-packages/IPython/core/interactiveshell.py:3058: DtypeWarning: Columns (6,7,11,19) have mixed types. Specify dtype option on import or set low_memory=False.\n",
      "  interactivity=interactivity, compiler=compiler, result=result)\n"
     ]
    }
   ],
   "source": [
    "gis = pd.read_csv('data/Parcels_for_King_County_with_Address_with_Property_Information__parcel_address_area.csv')"
   ]
  },
  {
   "cell_type": "code",
   "execution_count": 76,
   "metadata": {},
   "outputs": [
    {
     "data": {
      "text/plain": [
       "Index(['OBJECTID', 'MAJOR', 'MINOR', 'PIN', 'COMMENTS', 'SITETYPE', 'ALIAS1', 'ALIAS2', 'SITEID', 'ADDR_HN', 'ADDR_PD', 'ADDR_PT', 'ADDR_SN', 'ADDR_ST', 'ADDR_SD', 'ADDR_NUM', 'ADDR_FULL', 'FULLNAME', 'ZIP5', 'PLUS4', 'CTYNAME', 'POSTALCTYNAME', 'LAT', 'LON', 'POINT_X', 'POINT_Y', 'COUNTY', 'KROLL', 'KCTP_CITY', 'KCTP_STATE', 'PLSS', 'PROP_NAME', 'PLAT_NAME', 'PLAT_LOT', 'PLAT_BLOCK', 'LOTSQFT', 'LEVYCODE', 'LEVY_JURIS', 'NEW_CONSTR', 'TAXVAL_RSN', 'APPRLNDVAL', 'APPR_IMPR', 'TAX_LNDVAL', 'TAX_IMPR', 'ACCNT_NUM', 'KCTP_TAXYR', 'UNIT_NUM', 'BLDG_NUM', 'CONDOSITUS', 'QTS', 'SEC', 'TWP', 'RNG', 'PRIMARY_ADDR', 'LEGALDESC', 'Shape_Length', 'Shape_Area', 'ANNEXING_CITY', 'PAAUNIQUENAME', 'PROPTYPE', 'KCA_ZONING', 'KCA_ACRES', 'PREUSE_CODE', 'PREUSE_DESC'], dtype='object')"
      ]
     },
     "execution_count": 76,
     "metadata": {},
     "output_type": "execute_result"
    }
   ],
   "source": [
    "gis.columns"
   ]
  },
  {
   "cell_type": "code",
   "execution_count": 79,
   "metadata": {},
   "outputs": [
    {
     "data": {
      "text/html": [
       "<div>\n",
       "<style scoped>\n",
       "    .dataframe tbody tr th:only-of-type {\n",
       "        vertical-align: middle;\n",
       "    }\n",
       "\n",
       "    .dataframe tbody tr th {\n",
       "        vertical-align: top;\n",
       "    }\n",
       "\n",
       "    .dataframe thead th {\n",
       "        text-align: right;\n",
       "    }\n",
       "</style>\n",
       "<table border=\"1\" class=\"dataframe\">\n",
       "  <thead>\n",
       "    <tr style=\"text-align: right;\">\n",
       "      <th></th>\n",
       "      <th>OBJECTID</th>\n",
       "      <th>MAJOR</th>\n",
       "      <th>MINOR</th>\n",
       "      <th>PIN</th>\n",
       "      <th>COMMENTS</th>\n",
       "      <th>SITETYPE</th>\n",
       "      <th>ALIAS1</th>\n",
       "      <th>ALIAS2</th>\n",
       "      <th>SITEID</th>\n",
       "      <th>ADDR_HN</th>\n",
       "      <th>ADDR_PD</th>\n",
       "      <th>ADDR_PT</th>\n",
       "      <th>ADDR_SN</th>\n",
       "      <th>ADDR_ST</th>\n",
       "      <th>ADDR_SD</th>\n",
       "      <th>ADDR_NUM</th>\n",
       "      <th>ADDR_FULL</th>\n",
       "      <th>FULLNAME</th>\n",
       "      <th>ZIP5</th>\n",
       "      <th>PLUS4</th>\n",
       "      <th>CTYNAME</th>\n",
       "      <th>POSTALCTYNAME</th>\n",
       "      <th>LAT</th>\n",
       "      <th>LON</th>\n",
       "      <th>POINT_X</th>\n",
       "      <th>POINT_Y</th>\n",
       "      <th>COUNTY</th>\n",
       "      <th>KROLL</th>\n",
       "      <th>KCTP_CITY</th>\n",
       "      <th>KCTP_STATE</th>\n",
       "      <th>PLSS</th>\n",
       "      <th>PROP_NAME</th>\n",
       "      <th>PLAT_NAME</th>\n",
       "      <th>PLAT_LOT</th>\n",
       "      <th>PLAT_BLOCK</th>\n",
       "      <th>LOTSQFT</th>\n",
       "      <th>LEVYCODE</th>\n",
       "      <th>LEVY_JURIS</th>\n",
       "      <th>NEW_CONSTR</th>\n",
       "      <th>TAXVAL_RSN</th>\n",
       "      <th>APPRLNDVAL</th>\n",
       "      <th>APPR_IMPR</th>\n",
       "      <th>TAX_LNDVAL</th>\n",
       "      <th>TAX_IMPR</th>\n",
       "      <th>ACCNT_NUM</th>\n",
       "      <th>KCTP_TAXYR</th>\n",
       "      <th>UNIT_NUM</th>\n",
       "      <th>BLDG_NUM</th>\n",
       "      <th>CONDOSITUS</th>\n",
       "      <th>QTS</th>\n",
       "      <th>SEC</th>\n",
       "      <th>TWP</th>\n",
       "      <th>RNG</th>\n",
       "      <th>PRIMARY_ADDR</th>\n",
       "      <th>LEGALDESC</th>\n",
       "      <th>Shape_Length</th>\n",
       "      <th>Shape_Area</th>\n",
       "      <th>ANNEXING_CITY</th>\n",
       "      <th>PAAUNIQUENAME</th>\n",
       "      <th>PROPTYPE</th>\n",
       "      <th>KCA_ZONING</th>\n",
       "      <th>KCA_ACRES</th>\n",
       "      <th>PREUSE_CODE</th>\n",
       "      <th>PREUSE_DESC</th>\n",
       "    </tr>\n",
       "  </thead>\n",
       "  <tbody>\n",
       "    <tr>\n",
       "      <td>273650</td>\n",
       "      <td>273651</td>\n",
       "      <td>329940</td>\n",
       "      <td>0000</td>\n",
       "      <td>3299400000</td>\n",
       "      <td>tan/reflective wndw 5 stry apt bldg, gry trm</td>\n",
       "      <td>R2</td>\n",
       "      <td>NaN</td>\n",
       "      <td>NaN</td>\n",
       "      <td>451710.0</td>\n",
       "      <td>900</td>\n",
       "      <td>NaN</td>\n",
       "      <td>NaN</td>\n",
       "      <td>WARREN</td>\n",
       "      <td>AVE</td>\n",
       "      <td>N</td>\n",
       "      <td>900.0</td>\n",
       "      <td>900 WARREN AVE N</td>\n",
       "      <td>WARREN AVE N</td>\n",
       "      <td>98109.0</td>\n",
       "      <td>5605</td>\n",
       "      <td>SEATTLE</td>\n",
       "      <td>SEATTLE</td>\n",
       "      <td>47.627418</td>\n",
       "      <td>-122.353612</td>\n",
       "      <td>1.265562e+06</td>\n",
       "      <td>232565.728563</td>\n",
       "      <td>KING</td>\n",
       "      <td>35</td>\n",
       "      <td>SEATTLE</td>\n",
       "      <td>WA</td>\n",
       "      <td>NW30-25-4</td>\n",
       "      <td>HIGHLAND QUEEN ANNE CONDOMINIUM</td>\n",
       "      <td>HIGHLAND QUEEN ANNE</td>\n",
       "      <td></td>\n",
       "      <td></td>\n",
       "      <td>17082.0</td>\n",
       "      <td>10.0</td>\n",
       "      <td>NaN</td>\n",
       "      <td>N</td>\n",
       "      <td></td>\n",
       "      <td>70500.0</td>\n",
       "      <td>260500.0</td>\n",
       "      <td>70500.0</td>\n",
       "      <td>260500.0</td>\n",
       "      <td>3.299400e+11</td>\n",
       "      <td>2019.0</td>\n",
       "      <td>200</td>\n",
       "      <td>1</td>\n",
       "      <td>900  WARREN AVE N</td>\n",
       "      <td>NW</td>\n",
       "      <td>30.0</td>\n",
       "      <td>25.0</td>\n",
       "      <td>4.0</td>\n",
       "      <td>1</td>\n",
       "      <td>NaN</td>\n",
       "      <td>527.778446</td>\n",
       "      <td>17094.91199</td>\n",
       "      <td>NaN</td>\n",
       "      <td>NaN</td>\n",
       "      <td>K</td>\n",
       "      <td>LR3</td>\n",
       "      <td>0.392149</td>\n",
       "      <td>20.0</td>\n",
       "      <td>Condominium(Residential)                      ...</td>\n",
       "    </tr>\n",
       "  </tbody>\n",
       "</table>\n",
       "</div>"
      ],
      "text/plain": [
       "        OBJECTID   MAJOR MINOR         PIN                                      COMMENTS SITETYPE ALIAS1 ALIAS2    SITEID ADDR_HN ADDR_PD ADDR_PT ADDR_SN ADDR_ST ADDR_SD  ADDR_NUM         ADDR_FULL      FULLNAME     ZIP5 PLUS4  CTYNAME POSTALCTYNAME        LAT         LON       POINT_X        POINT_Y COUNTY KROLL KCTP_CITY KCTP_STATE       PLSS                        PROP_NAME            PLAT_NAME        PLAT_LOT PLAT_BLOCK  LOTSQFT  LEVYCODE LEVY_JURIS NEW_CONSTR TAXVAL_RSN  APPRLNDVAL  APPR_IMPR  TAX_LNDVAL  TAX_IMPR     ACCNT_NUM  KCTP_TAXYR   UNIT_NUM BLDG_NUM          CONDOSITUS QTS   SEC   TWP  RNG  PRIMARY_ADDR LEGALDESC  Shape_Length   Shape_Area ANNEXING_CITY PAAUNIQUENAME PROPTYPE KCA_ZONING  KCA_ACRES  PREUSE_CODE                                        PREUSE_DESC\n",
       "273650    273651  329940  0000  3299400000  tan/reflective wndw 5 stry apt bldg, gry trm       R2    NaN    NaN  451710.0     900     NaN     NaN  WARREN     AVE       N     900.0  900 WARREN AVE N  WARREN AVE N  98109.0  5605  SEATTLE       SEATTLE  47.627418 -122.353612  1.265562e+06  232565.728563   KING    35   SEATTLE         WA  NW30-25-4  HIGHLAND QUEEN ANNE CONDOMINIUM  HIGHLAND QUEEN ANNE                             17082.0      10.0        NaN          N                70500.0   260500.0     70500.0  260500.0  3.299400e+11      2019.0  200              1  900  WARREN AVE N   NW  30.0  25.0  4.0             1       NaN    527.778446  17094.91199           NaN           NaN        K        LR3   0.392149         20.0  Condominium(Residential)                      ..."
      ]
     },
     "execution_count": 79,
     "metadata": {},
     "output_type": "execute_result"
    }
   ],
   "source": [
    "gis[gis.ADDR_FULL=='900 WARREN AVE N']"
   ]
  },
  {
   "cell_type": "code",
   "execution_count": null,
   "metadata": {},
   "outputs": [],
   "source": []
  }
 ],
 "metadata": {
  "kernelspec": {
   "display_name": "Python 3",
   "language": "python",
   "name": "python3"
  },
  "language_info": {
   "codemirror_mode": {
    "name": "ipython",
    "version": 3
   },
   "file_extension": ".py",
   "mimetype": "text/x-python",
   "name": "python",
   "nbconvert_exporter": "python",
   "pygments_lexer": "ipython3",
   "version": "3.7.3"
  }
 },
 "nbformat": 4,
 "nbformat_minor": 4
}
