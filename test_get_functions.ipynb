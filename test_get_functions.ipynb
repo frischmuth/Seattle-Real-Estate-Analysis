{
 "cells": [
  {
   "cell_type": "code",
   "execution_count": 1,
   "metadata": {},
   "outputs": [],
   "source": [
    "from src.helpers import *\n",
    "import pandas as pd\n",
    "%autoreload 2"
   ]
  },
  {
   "cell_type": "code",
   "execution_count": 20,
   "metadata": {},
   "outputs": [],
   "source": [
    "gis = get_gis_data()"
   ]
  },
  {
   "cell_type": "code",
   "execution_count": 21,
   "metadata": {},
   "outputs": [
    {
     "data": {
      "text/html": [
       "<div>\n",
       "<style scoped>\n",
       "    .dataframe tbody tr th:only-of-type {\n",
       "        vertical-align: middle;\n",
       "    }\n",
       "\n",
       "    .dataframe tbody tr th {\n",
       "        vertical-align: top;\n",
       "    }\n",
       "\n",
       "    .dataframe thead th {\n",
       "        text-align: right;\n",
       "    }\n",
       "</style>\n",
       "<table border=\"1\" class=\"dataframe\">\n",
       "  <thead>\n",
       "    <tr style=\"text-align: right;\">\n",
       "      <th></th>\n",
       "      <th>MAJOR</th>\n",
       "      <th>MINOR</th>\n",
       "      <th>ADDR_FULL</th>\n",
       "      <th>LAT</th>\n",
       "      <th>LON</th>\n",
       "      <th>KCTP_STATE</th>\n",
       "      <th>LOTSQFT</th>\n",
       "      <th>APPRLNDVAL</th>\n",
       "      <th>APPR_IMPR</th>\n",
       "      <th>TAX_LNDVAL</th>\n",
       "      <th>...</th>\n",
       "      <th>PREUSE_DESC_Single Family(Res Use/Zone)</th>\n",
       "      <th>PREUSE_DESC_Townhouse Plat</th>\n",
       "      <th>PREUSE_DESC_Transferable Dev Rights</th>\n",
       "      <th>PREUSE_DESC_Triplex</th>\n",
       "      <th>PREUSE_DESC_Utility, Public</th>\n",
       "      <th>PREUSE_DESC_Vacant(Commercial)</th>\n",
       "      <th>PREUSE_DESC_Vacant(Industrial)</th>\n",
       "      <th>PREUSE_DESC_Vacant(Multi-family)</th>\n",
       "      <th>PREUSE_DESC_Vacant(Single-family)</th>\n",
       "      <th>PREUSE_DESC_nan</th>\n",
       "    </tr>\n",
       "    <tr>\n",
       "      <th>PIN</th>\n",
       "      <th></th>\n",
       "      <th></th>\n",
       "      <th></th>\n",
       "      <th></th>\n",
       "      <th></th>\n",
       "      <th></th>\n",
       "      <th></th>\n",
       "      <th></th>\n",
       "      <th></th>\n",
       "      <th></th>\n",
       "      <th></th>\n",
       "      <th></th>\n",
       "      <th></th>\n",
       "      <th></th>\n",
       "      <th></th>\n",
       "      <th></th>\n",
       "      <th></th>\n",
       "      <th></th>\n",
       "      <th></th>\n",
       "      <th></th>\n",
       "      <th></th>\n",
       "    </tr>\n",
       "  </thead>\n",
       "  <tbody>\n",
       "    <tr>\n",
       "      <td>0001800001</td>\n",
       "      <td>180</td>\n",
       "      <td>0001</td>\n",
       "      <td>1742 S COLUMBIAN WAY</td>\n",
       "      <td>47.561070</td>\n",
       "      <td>-122.308502</td>\n",
       "      <td>WA</td>\n",
       "      <td>7820.0</td>\n",
       "      <td>250000.0</td>\n",
       "      <td>637000.0</td>\n",
       "      <td>140000.0</td>\n",
       "      <td>...</td>\n",
       "      <td>1</td>\n",
       "      <td>0</td>\n",
       "      <td>0</td>\n",
       "      <td>0</td>\n",
       "      <td>0</td>\n",
       "      <td>0</td>\n",
       "      <td>0</td>\n",
       "      <td>0</td>\n",
       "      <td>0</td>\n",
       "      <td>0</td>\n",
       "    </tr>\n",
       "    <tr>\n",
       "      <td>0001800002</td>\n",
       "      <td>180</td>\n",
       "      <td>0002</td>\n",
       "      <td>1727 S SNOQUALMIE ST</td>\n",
       "      <td>47.561432</td>\n",
       "      <td>-122.308935</td>\n",
       "      <td>WA</td>\n",
       "      <td>5060.0</td>\n",
       "      <td>218000.0</td>\n",
       "      <td>349000.0</td>\n",
       "      <td>218000.0</td>\n",
       "      <td>...</td>\n",
       "      <td>1</td>\n",
       "      <td>0</td>\n",
       "      <td>0</td>\n",
       "      <td>0</td>\n",
       "      <td>0</td>\n",
       "      <td>0</td>\n",
       "      <td>0</td>\n",
       "      <td>0</td>\n",
       "      <td>0</td>\n",
       "      <td>0</td>\n",
       "    </tr>\n",
       "    <tr>\n",
       "      <td>0001800004</td>\n",
       "      <td>180</td>\n",
       "      <td>0004</td>\n",
       "      <td>1716 S ANGELINE ST</td>\n",
       "      <td>47.560666</td>\n",
       "      <td>-122.309648</td>\n",
       "      <td>WA</td>\n",
       "      <td>5225.0</td>\n",
       "      <td>168000.0</td>\n",
       "      <td>291000.0</td>\n",
       "      <td>168000.0</td>\n",
       "      <td>...</td>\n",
       "      <td>1</td>\n",
       "      <td>0</td>\n",
       "      <td>0</td>\n",
       "      <td>0</td>\n",
       "      <td>0</td>\n",
       "      <td>0</td>\n",
       "      <td>0</td>\n",
       "      <td>0</td>\n",
       "      <td>0</td>\n",
       "      <td>0</td>\n",
       "    </tr>\n",
       "    <tr>\n",
       "      <td>0001800006</td>\n",
       "      <td>180</td>\n",
       "      <td>0006</td>\n",
       "      <td>1568 S ANGELINE ST</td>\n",
       "      <td>47.560745</td>\n",
       "      <td>-122.310471</td>\n",
       "      <td>WA</td>\n",
       "      <td>18203.0</td>\n",
       "      <td>374000.0</td>\n",
       "      <td>268000.0</td>\n",
       "      <td>374000.0</td>\n",
       "      <td>...</td>\n",
       "      <td>1</td>\n",
       "      <td>0</td>\n",
       "      <td>0</td>\n",
       "      <td>0</td>\n",
       "      <td>0</td>\n",
       "      <td>0</td>\n",
       "      <td>0</td>\n",
       "      <td>0</td>\n",
       "      <td>0</td>\n",
       "      <td>0</td>\n",
       "    </tr>\n",
       "    <tr>\n",
       "      <td>0001800008</td>\n",
       "      <td>180</td>\n",
       "      <td>0008</td>\n",
       "      <td>1526 S ANGELINE ST</td>\n",
       "      <td>47.560762</td>\n",
       "      <td>-122.312170</td>\n",
       "      <td>WA</td>\n",
       "      <td>11970.0</td>\n",
       "      <td>260000.0</td>\n",
       "      <td>358000.0</td>\n",
       "      <td>260000.0</td>\n",
       "      <td>...</td>\n",
       "      <td>1</td>\n",
       "      <td>0</td>\n",
       "      <td>0</td>\n",
       "      <td>0</td>\n",
       "      <td>0</td>\n",
       "      <td>0</td>\n",
       "      <td>0</td>\n",
       "      <td>0</td>\n",
       "      <td>0</td>\n",
       "      <td>0</td>\n",
       "    </tr>\n",
       "  </tbody>\n",
       "</table>\n",
       "<p>5 rows × 220 columns</p>\n",
       "</div>"
      ],
      "text/plain": [
       "            MAJOR MINOR             ADDR_FULL        LAT         LON  \\\n",
       "PIN                                                                    \n",
       "0001800001    180  0001  1742 S COLUMBIAN WAY  47.561070 -122.308502   \n",
       "0001800002    180  0002  1727 S SNOQUALMIE ST  47.561432 -122.308935   \n",
       "0001800004    180  0004    1716 S ANGELINE ST  47.560666 -122.309648   \n",
       "0001800006    180  0006    1568 S ANGELINE ST  47.560745 -122.310471   \n",
       "0001800008    180  0008    1526 S ANGELINE ST  47.560762 -122.312170   \n",
       "\n",
       "           KCTP_STATE  LOTSQFT  APPRLNDVAL  APPR_IMPR  TAX_LNDVAL  ...  \\\n",
       "PIN                                                                ...   \n",
       "0001800001         WA   7820.0    250000.0   637000.0    140000.0  ...   \n",
       "0001800002         WA   5060.0    218000.0   349000.0    218000.0  ...   \n",
       "0001800004         WA   5225.0    168000.0   291000.0    168000.0  ...   \n",
       "0001800006         WA  18203.0    374000.0   268000.0    374000.0  ...   \n",
       "0001800008         WA  11970.0    260000.0   358000.0    260000.0  ...   \n",
       "\n",
       "            PREUSE_DESC_Single Family(Res Use/Zone)                         \\\n",
       "PIN                                                                          \n",
       "0001800001                                                  1                \n",
       "0001800002                                                  1                \n",
       "0001800004                                                  1                \n",
       "0001800006                                                  1                \n",
       "0001800008                                                  1                \n",
       "\n",
       "            PREUSE_DESC_Townhouse Plat                                      \\\n",
       "PIN                                                                          \n",
       "0001800001                                                  0                \n",
       "0001800002                                                  0                \n",
       "0001800004                                                  0                \n",
       "0001800006                                                  0                \n",
       "0001800008                                                  0                \n",
       "\n",
       "            PREUSE_DESC_Transferable Dev Rights                             \\\n",
       "PIN                                                                          \n",
       "0001800001                                                  0                \n",
       "0001800002                                                  0                \n",
       "0001800004                                                  0                \n",
       "0001800006                                                  0                \n",
       "0001800008                                                  0                \n",
       "\n",
       "            PREUSE_DESC_Triplex                                             \\\n",
       "PIN                                                                          \n",
       "0001800001                                                  0                \n",
       "0001800002                                                  0                \n",
       "0001800004                                                  0                \n",
       "0001800006                                                  0                \n",
       "0001800008                                                  0                \n",
       "\n",
       "            PREUSE_DESC_Utility, Public                                     \\\n",
       "PIN                                                                          \n",
       "0001800001                                                  0                \n",
       "0001800002                                                  0                \n",
       "0001800004                                                  0                \n",
       "0001800006                                                  0                \n",
       "0001800008                                                  0                \n",
       "\n",
       "            PREUSE_DESC_Vacant(Commercial)                                  \\\n",
       "PIN                                                                          \n",
       "0001800001                                                  0                \n",
       "0001800002                                                  0                \n",
       "0001800004                                                  0                \n",
       "0001800006                                                  0                \n",
       "0001800008                                                  0                \n",
       "\n",
       "            PREUSE_DESC_Vacant(Industrial)                                  \\\n",
       "PIN                                                                          \n",
       "0001800001                                                  0                \n",
       "0001800002                                                  0                \n",
       "0001800004                                                  0                \n",
       "0001800006                                                  0                \n",
       "0001800008                                                  0                \n",
       "\n",
       "            PREUSE_DESC_Vacant(Multi-family)                                \\\n",
       "PIN                                                                          \n",
       "0001800001                                                  0                \n",
       "0001800002                                                  0                \n",
       "0001800004                                                  0                \n",
       "0001800006                                                  0                \n",
       "0001800008                                                  0                \n",
       "\n",
       "            PREUSE_DESC_Vacant(Single-family)                               \\\n",
       "PIN                                                                          \n",
       "0001800001                                                  0                \n",
       "0001800002                                                  0                \n",
       "0001800004                                                  0                \n",
       "0001800006                                                  0                \n",
       "0001800008                                                  0                \n",
       "\n",
       "            PREUSE_DESC_nan  \n",
       "PIN                          \n",
       "0001800001                0  \n",
       "0001800002                0  \n",
       "0001800004                0  \n",
       "0001800006                0  \n",
       "0001800008                0  \n",
       "\n",
       "[5 rows x 220 columns]"
      ]
     },
     "execution_count": 21,
     "metadata": {},
     "output_type": "execute_result"
    }
   ],
   "source": [
    "gis.head()"
   ]
  },
  {
   "cell_type": "code",
   "execution_count": null,
   "metadata": {},
   "outputs": [],
   "source": [
    "c = gis.columns"
   ]
  },
  {
   "cell_type": "code",
   "execution_count": null,
   "metadata": {},
   "outputs": [],
   "source": [
    "gis.shape"
   ]
  },
  {
   "cell_type": "code",
   "execution_count": null,
   "metadata": {},
   "outputs": [],
   "source": [
    "gis['MAJOR'].isnull().sum()"
   ]
  },
  {
   "cell_type": "code",
   "execution_count": null,
   "metadata": {},
   "outputs": [],
   "source": [
    "for col in c:\n",
    "    print(col, gis[col].isnull().sum(), gis[col].dtype)"
   ]
  },
  {
   "cell_type": "code",
   "execution_count": null,
   "metadata": {},
   "outputs": [],
   "source": [
    "gis[gis['SITETYPE'].isnull()]['PREUSE_DESC'].value_counts()"
   ]
  },
  {
   "cell_type": "code",
   "execution_count": null,
   "metadata": {},
   "outputs": [],
   "source": [
    "gis['MAJOR'].describe()"
   ]
  },
  {
   "cell_type": "code",
   "execution_count": 2,
   "metadata": {},
   "outputs": [],
   "source": [
    "parcels = get_parcels()"
   ]
  },
  {
   "cell_type": "code",
   "execution_count": null,
   "metadata": {},
   "outputs": [],
   "source": [
    "parcels.head()\n"
   ]
  },
  {
   "cell_type": "code",
   "execution_count": null,
   "metadata": {},
   "outputs": [],
   "source": [
    "parcels.shape"
   ]
  },
  {
   "cell_type": "code",
   "execution_count": null,
   "metadata": {},
   "outputs": [],
   "source": [
    "c = parcels.columns"
   ]
  },
  {
   "cell_type": "code",
   "execution_count": null,
   "metadata": {},
   "outputs": [],
   "source": [
    "for col in c:\n",
    "    print(col, parcels[col].dtype , parcels[col].isnull().sum())"
   ]
  },
  {
   "cell_type": "code",
   "execution_count": 17,
   "metadata": {},
   "outputs": [
    {
     "data": {
      "text/plain": [
       "0     161511\n",
       "46        10\n",
       "Name: Contamination, dtype: int64"
      ]
     },
     "execution_count": 17,
     "metadata": {},
     "output_type": "execute_result"
    }
   ],
   "source": [
    "parcels['Contamination'].value_counts()"
   ]
  },
  {
   "cell_type": "code",
   "execution_count": null,
   "metadata": {},
   "outputs": [],
   "source": [
    "c"
   ]
  },
  {
   "cell_type": "code",
   "execution_count": null,
   "metadata": {},
   "outputs": [],
   "source": [
    "d = ['Major', 'Minor','Range', 'Township', 'Section', 'QuarterSection', 'Area',\n",
    "       'SubArea','DistrictName', 'LevyCode',\n",
    "       'CurrentZoning', 'PresentUse',\n",
    "       'SqFtLot', 'WaterSystem', 'SewerSystem', 'Access', 'Topography',\n",
    "       'StreetSurface', 'InadequateParking',\n",
    "       'PcntUnusable', 'Unbuildable', 'MtRainier', 'Olympics', 'Cascades',\n",
    "       'Territorial', 'SeattleSkyline', 'PugetSound', 'LakeWashington',\n",
    "       'LakeSammamish', 'SmallLakeRiverCreek', 'OtherView', 'WfntLocation',\n",
    "       'WfntFootage', 'WfntBank', 'WfntPoorQuality', 'WfntRestrictedAccess',\n",
    "       'WfntAccessRights', 'WfntProximityInfluence', 'TidelandShoreland',\n",
    "       'LotDepthFactor', 'TrafficNoise', 'AirportNoise', 'PowerLines',\n",
    "       'OtherNuisances', 'NbrBldgSites', 'Contamination',\n",
    "       'AdjacentGolfFairway', 'AdjacentGreenbelt', 'HistoricSite',\n",
    "       'CurrentUseDesignation', 'NativeGrowthProtEsmt', 'Easements',\n",
    "       'OtherDesignation', 'DeedRestrictions', 'DevelopmentRightsPurch',\n",
    "       'CoalMineHazard', 'CriticalDrainage', 'ErosionHazard', 'LandfillBuffer',\n",
    "       'HundredYrFloodPlain', 'SeismicHazard', 'LandslideHazard',\n",
    "       'SteepSlopeHazard', 'Stream', 'Wetland', 'SpeciesOfConcern',\n",
    "       'SensitiveAreaTract', 'WaterProblems',\n",
    "       'OtherProblems']"
   ]
  },
  {
   "cell_type": "code",
   "execution_count": null,
   "metadata": {},
   "outputs": [],
   "source": [
    "2/2.75"
   ]
  },
  {
   "cell_type": "code",
   "execution_count": null,
   "metadata": {},
   "outputs": [],
   "source": [
    "['AdjacentGolfFairway', 'AdjacentGreenbelt', 'HistoricSite',\n",
    "       'CurrentUseDesignation', 'NativeGrowthProtEsmt', 'Easements',\n",
    "       'OtherDesignation', 'DeedRestrictions', 'DevelopmentRightsPurch',\n",
    "       'CoalMineHazard', 'CriticalDrainage', 'ErosionHazard', 'LandfillBuffer',\n",
    "       'HundredYrFloodPlain', 'SeismicHazard', 'LandslideHazard',\n",
    "       'SteepSlopeHazard', 'Stream', 'Wetland', 'SpeciesOfConcern',\n",
    "       'SensitiveAreaTract', 'WaterProblems', 'TranspConcurrency',\n",
    "       'OtherProblems']"
   ]
  },
  {
   "cell_type": "code",
   "execution_count": null,
   "metadata": {},
   "outputs": [],
   "source": [
    "x = []\n",
    "for col in c:\n",
    "    if col not in d:\n",
    "        x.append(col)"
   ]
  },
  {
   "cell_type": "code",
   "execution_count": null,
   "metadata": {},
   "outputs": [],
   "source": [
    "x"
   ]
  },
  {
   "cell_type": "code",
   "execution_count": null,
   "metadata": {},
   "outputs": [],
   "source": []
  },
  {
   "cell_type": "code",
   "execution_count": 38,
   "metadata": {},
   "outputs": [
    {
     "name": "stdout",
     "output_type": "stream",
     "text": [
      "+--------------+--------------+-------------+-------------+\n",
      "|categoryIndex1|categoryIndex2| categoryVec1| categoryVec2|\n",
      "+--------------+--------------+-------------+-------------+\n",
      "|             0|             1|(6,[0],[1.0])|(4,[1],[1.0])|\n",
      "|             1|             0|(6,[1],[1.0])|(4,[0],[1.0])|\n",
      "|             2|             1|(6,[2],[1.0])|(4,[1],[1.0])|\n",
      "|             0|             4|(6,[0],[1.0])|    (4,[],[])|\n",
      "|             6|             1|    (6,[],[])|(4,[1],[1.0])|\n",
      "|             1|             0|(6,[1],[1.0])|(4,[0],[1.0])|\n",
      "+--------------+--------------+-------------+-------------+\n",
      "\n"
     ]
    }
   ],
   "source": [
    "# $example on$\n",
    "from pyspark.ml.feature import OneHotEncoderEstimator, VectorAssembler\n",
    "# $example off$\n",
    "from pyspark.sql import SparkSession\n",
    "\n",
    "\n",
    "spark = SparkSession\\\n",
    "    .builder\\\n",
    "    .appName(\"OneHotEncoderExample\")\\\n",
    "    .getOrCreate()\n",
    "\n",
    "# Note: categorical features are usually first encoded with StringIndexer\n",
    "# $example on$\n",
    "df = spark.read()\n",
    "df = spark.createDataFrame([\n",
    "    (0, 1),\n",
    "    (1, 0),\n",
    "    (2, 1),\n",
    "    (0, 4),\n",
    "    (6, 1),\n",
    "    (1, 0)\n",
    "], [\"categoryIndex1\", \"categoryIndex2\"])\n",
    "\n",
    "encoder = OneHotEncoderEstimator(inputCols=[\"categoryIndex1\", \"categoryIndex2\"],\n",
    "                        outputCols=[\"categoryVec1\", \"categoryVec2\"])\n",
    "model = encoder.fit(df)\n",
    "encoded = model.transform(df)\n",
    "encoded.show()\n",
    "# $example off$\n",
    "\n",
    "# spark.stop()"
   ]
  },
  {
   "cell_type": "code",
   "execution_count": 39,
   "metadata": {},
   "outputs": [
    {
     "name": "stdout",
     "output_type": "stream",
     "text": [
      "+-------------+-------------+--------------------+\n",
      "| categoryVec1| categoryVec2|                Test|\n",
      "+-------------+-------------+--------------------+\n",
      "|(6,[0],[1.0])|(4,[1],[1.0])|(10,[0,7],[1.0,1.0])|\n",
      "|(6,[1],[1.0])|(4,[0],[1.0])|(10,[1,6],[1.0,1.0])|\n",
      "|(6,[2],[1.0])|(4,[1],[1.0])|(10,[2,7],[1.0,1.0])|\n",
      "|(6,[0],[1.0])|    (4,[],[])|      (10,[0],[1.0])|\n",
      "|    (6,[],[])|(4,[1],[1.0])|      (10,[7],[1.0])|\n",
      "|(6,[1],[1.0])|(4,[0],[1.0])|(10,[1,6],[1.0,1.0])|\n",
      "+-------------+-------------+--------------------+\n",
      "\n"
     ]
    }
   ],
   "source": [
    "va = VectorAssembler(inputCols = [\"categoryVec1\", \"categoryVec2\"], outputCol = 'Test')\n",
    "test = va.transform(encoded)\n",
    "test[\"categoryVec1\", \"categoryVec2\",'Test'].show()"
   ]
  },
  {
   "cell_type": "code",
   "execution_count": 41,
   "metadata": {},
   "outputs": [
    {
     "name": "stdout",
     "output_type": "stream",
     "text": [
      "\n",
      "INSTALLED VERSIONS\n",
      "------------------\n",
      "commit           : None\n",
      "python           : 3.7.4.final.0\n",
      "python-bits      : 64\n",
      "OS               : Darwin\n",
      "OS-release       : 19.0.0\n",
      "machine          : x86_64\n",
      "processor        : i386\n",
      "byteorder        : little\n",
      "LC_ALL           : None\n",
      "LANG             : en_US.UTF-8\n",
      "LOCALE           : en_US.UTF-8\n",
      "\n",
      "pandas           : 0.25.1\n",
      "numpy            : 1.17.2\n",
      "pytz             : 2019.3\n",
      "dateutil         : 2.8.0\n",
      "pip              : 19.3.1\n",
      "setuptools       : 41.4.0\n",
      "Cython           : 0.29.13\n",
      "pytest           : 5.2.1\n",
      "hypothesis       : None\n",
      "sphinx           : 2.2.0\n",
      "blosc            : None\n",
      "feather          : None\n",
      "xlsxwriter       : 1.2.2\n",
      "lxml.etree       : 4.4.1\n",
      "html5lib         : 1.0.1\n",
      "pymysql          : None\n",
      "psycopg2         : 2.7.6.1 (dt dec pq3 ext lo64)\n",
      "jinja2           : 2.10.3\n",
      "IPython          : 7.8.0\n",
      "pandas_datareader: None\n",
      "bs4              : 4.8.1\n",
      "bottleneck       : 1.2.1\n",
      "fastparquet      : None\n",
      "gcsfs            : None\n",
      "lxml.etree       : 4.4.1\n",
      "matplotlib       : 3.1.1\n",
      "numexpr          : 2.7.0\n",
      "odfpy            : None\n",
      "openpyxl         : 3.0.0\n",
      "pandas_gbq       : None\n",
      "pyarrow          : None\n",
      "pytables         : None\n",
      "s3fs             : None\n",
      "scipy            : 1.3.1\n",
      "sqlalchemy       : 1.3.10\n",
      "tables           : 3.5.2\n",
      "xarray           : 0.14.0\n",
      "xlrd             : 1.2.0\n",
      "xlwt             : 1.3.0\n",
      "xlsxwriter       : 1.2.2\n"
     ]
    }
   ],
   "source": [
    "pd.show_versions()"
   ]
  },
  {
   "cell_type": "code",
   "execution_count": 18,
   "metadata": {},
   "outputs": [],
   "source": [
    "demo = get_pending_demo_permits()"
   ]
  },
  {
   "cell_type": "code",
   "execution_count": 170,
   "metadata": {},
   "outputs": [
    {
     "data": {
      "text/plain": [
       "OriginalAddress1    910 W EMERSON ST\n",
       "OriginalCity                 SEATTLE\n",
       "OriginalState                     WA\n",
       "OriginalZip                    98119\n",
       "Latitude                     47.6525\n",
       "Longitude                   -122.369\n",
       "Name: 60, dtype: object"
      ]
     },
     "execution_count": 170,
     "metadata": {},
     "output_type": "execute_result"
    }
   ],
   "source": [
    "demo.loc[60]"
   ]
  },
  {
   "cell_type": "code",
   "execution_count": 172,
   "metadata": {},
   "outputs": [
    {
     "data": {
      "text/plain": [
       "MAJOR                                                                       744300\n",
       "MINOR                                                                         1380\n",
       "ADDR_FULL                                                         920 W EMERSON ST\n",
       "LAT                                                                        47.6528\n",
       "LON                                                                        -122.37\n",
       "                                                                        ...       \n",
       "PREUSE_DESC_Vacant(Commercial)                                                   0\n",
       "PREUSE_DESC_Vacant(Industrial)                                                   0\n",
       "PREUSE_DESC_Vacant(Multi-family)                                                 0\n",
       "PREUSE_DESC_Vacant(Single-family)                                                0\n",
       "PREUSE_DESC_nan                                                                  0\n",
       "Name: 7443001380, Length: 220, dtype: object"
      ]
     },
     "execution_count": 172,
     "metadata": {},
     "output_type": "execute_result"
    }
   ],
   "source": [
    "gis.loc['7443001380']"
   ]
  },
  {
   "cell_type": "code",
   "execution_count": 163,
   "metadata": {},
   "outputs": [],
   "source": [
    "matches = []\n",
    "non_matches = []\n",
    "add_set = set(gis['ADDR_FULL'].apply(lambda x: x.lower()))\n",
    "for address in demo['OriginalAddress1']:\n",
    "    if address.lower() not in add_set:\n",
    "        non_matches.append(address)\n",
    "    else:\n",
    "        matches.append(address)"
   ]
  },
  {
   "cell_type": "code",
   "execution_count": 165,
   "metadata": {},
   "outputs": [],
   "source": [
    "matches2 = []\n",
    "non_matches2 = []\n",
    "add_set2 = set(gis2['ADDR_FULL'].map(str).apply(lambda x: x.lower()))\n",
    "for address in non_matches:\n",
    "    if address.lower() not in add_set2:\n",
    "        non_matches2.append(address)\n",
    "    else:\n",
    "        matches2.append(address)"
   ]
  },
  {
   "cell_type": "code",
   "execution_count": 166,
   "metadata": {},
   "outputs": [
    {
     "data": {
      "text/plain": [
       "(754, 335, 157, 178)"
      ]
     },
     "execution_count": 166,
     "metadata": {},
     "output_type": "execute_result"
    }
   ],
   "source": [
    "len(matches), len(non_matches), len(matches2), len(non_matches2)"
   ]
  },
  {
   "cell_type": "code",
   "execution_count": 167,
   "metadata": {
    "scrolled": true
   },
   "outputs": [
    {
     "data": {
      "text/plain": [
       "['910 W EMERSON ST',\n",
       " '3042 EAST LAURELHURST DR NE',\n",
       " '6901 M L KING JR WAY S',\n",
       " '820 JOHN ST',\n",
       " '2239 MINOR AVE E',\n",
       " '4719 32ND AVE S',\n",
       " '5023 SAND POINT PL NE',\n",
       " '2709 S FERDINAND ST',\n",
       " '9040 18TH AVE SW',\n",
       " '8617 23RD AVE NE',\n",
       " '1115 Dexter AVE N',\n",
       " '5201 Rainier AVE S',\n",
       " '1116 BROADWAY E',\n",
       " '2346 W PLYMOUTH ST',\n",
       " '3011 30TH AVE W',\n",
       " '1712 NW 89TH ST',\n",
       " '9502 INTERLAKE AVE N',\n",
       " '811 NE 67TH ST',\n",
       " '9047 DIBBLE AVE NW',\n",
       " '4149 25TH AVE SW']"
      ]
     },
     "execution_count": 167,
     "metadata": {},
     "output_type": "execute_result"
    }
   ],
   "source": [
    "non_matches2[:20]"
   ]
  },
  {
   "cell_type": "code",
   "execution_count": 129,
   "metadata": {},
   "outputs": [
    {
     "data": {
      "text/plain": [
       "'4719 32ND AVE S'"
      ]
     },
     "execution_count": 129,
     "metadata": {},
     "output_type": "execute_result"
    }
   ],
   "source": [
    "non_matches2[5]"
   ]
  },
  {
   "cell_type": "code",
   "execution_count": 78,
   "metadata": {},
   "outputs": [
    {
     "data": {
      "text/plain": [
       "set"
      ]
     },
     "execution_count": 78,
     "metadata": {},
     "output_type": "execute_result"
    }
   ],
   "source": [
    "type(add_set2)"
   ]
  },
  {
   "cell_type": "code",
   "execution_count": 41,
   "metadata": {},
   "outputs": [],
   "source": [
    "gis2 = pd.read_csv('data/Parcels_for_King_County_with_Address_with_Property_Information__parcel_address_area.csv', index_col='PIN', low_memory=False)"
   ]
  },
  {
   "cell_type": "code",
   "execution_count": 110,
   "metadata": {},
   "outputs": [
    {
     "data": {
      "text/plain": [
       "PIN\n",
       "7234600290    C\n",
       "Name: PROPTYPE, dtype: object"
      ]
     },
     "execution_count": 110,
     "metadata": {},
     "output_type": "execute_result"
    }
   ],
   "source": [
    "gis2[gis2['ADDR_FULL']=='1632 15TH AVE'][\"PROPTYPE\"]"
   ]
  },
  {
   "cell_type": "code",
   "execution_count": 44,
   "metadata": {},
   "outputs": [
    {
     "ename": "IllegalArgumentException",
     "evalue": "'requirement failed: Column SITETYPE must be of type numeric but was actually of type string.'",
     "output_type": "error",
     "traceback": [
      "\u001b[0;31m---------------------------------------------------------------------------\u001b[0m",
      "\u001b[0;31mPy4JJavaError\u001b[0m                             Traceback (most recent call last)",
      "\u001b[0;32m~/anaconda3/lib/python3.7/site-packages/pyspark/sql/utils.py\u001b[0m in \u001b[0;36mdeco\u001b[0;34m(*a, **kw)\u001b[0m\n\u001b[1;32m     62\u001b[0m         \u001b[0;32mtry\u001b[0m\u001b[0;34m:\u001b[0m\u001b[0;34m\u001b[0m\u001b[0;34m\u001b[0m\u001b[0m\n\u001b[0;32m---> 63\u001b[0;31m             \u001b[0;32mreturn\u001b[0m \u001b[0mf\u001b[0m\u001b[0;34m(\u001b[0m\u001b[0;34m*\u001b[0m\u001b[0ma\u001b[0m\u001b[0;34m,\u001b[0m \u001b[0;34m**\u001b[0m\u001b[0mkw\u001b[0m\u001b[0;34m)\u001b[0m\u001b[0;34m\u001b[0m\u001b[0;34m\u001b[0m\u001b[0m\n\u001b[0m\u001b[1;32m     64\u001b[0m         \u001b[0;32mexcept\u001b[0m \u001b[0mpy4j\u001b[0m\u001b[0;34m.\u001b[0m\u001b[0mprotocol\u001b[0m\u001b[0;34m.\u001b[0m\u001b[0mPy4JJavaError\u001b[0m \u001b[0;32mas\u001b[0m \u001b[0me\u001b[0m\u001b[0;34m:\u001b[0m\u001b[0;34m\u001b[0m\u001b[0;34m\u001b[0m\u001b[0m\n",
      "\u001b[0;32m~/anaconda3/lib/python3.7/site-packages/py4j/protocol.py\u001b[0m in \u001b[0;36mget_return_value\u001b[0;34m(answer, gateway_client, target_id, name)\u001b[0m\n\u001b[1;32m    327\u001b[0m                     \u001b[0;34m\"An error occurred while calling {0}{1}{2}.\\n\"\u001b[0m\u001b[0;34m.\u001b[0m\u001b[0;34m\u001b[0m\u001b[0;34m\u001b[0m\u001b[0m\n\u001b[0;32m--> 328\u001b[0;31m                     format(target_id, \".\", name), value)\n\u001b[0m\u001b[1;32m    329\u001b[0m             \u001b[0;32melse\u001b[0m\u001b[0;34m:\u001b[0m\u001b[0;34m\u001b[0m\u001b[0;34m\u001b[0m\u001b[0m\n",
      "\u001b[0;31mPy4JJavaError\u001b[0m: An error occurred while calling o404.fit.\n: java.lang.IllegalArgumentException: requirement failed: Column SITETYPE must be of type numeric but was actually of type string.\n\tat scala.Predef$.require(Predef.scala:224)\n\tat org.apache.spark.ml.util.SchemaUtils$.checkNumericType(SchemaUtils.scala:76)\n\tat org.apache.spark.ml.feature.OneHotEncoderBase$$anonfun$validateAndTransformSchema$2.apply(OneHotEncoderEstimator.scala:83)\n\tat org.apache.spark.ml.feature.OneHotEncoderBase$$anonfun$validateAndTransformSchema$2.apply(OneHotEncoderEstimator.scala:83)\n\tat scala.collection.IndexedSeqOptimized$class.foreach(IndexedSeqOptimized.scala:33)\n\tat scala.collection.mutable.ArrayOps$ofRef.foreach(ArrayOps.scala:186)\n\tat org.apache.spark.ml.feature.OneHotEncoderBase$class.validateAndTransformSchema(OneHotEncoderEstimator.scala:83)\n\tat org.apache.spark.ml.feature.OneHotEncoderEstimator.validateAndTransformSchema(OneHotEncoderEstimator.scala:120)\n\tat org.apache.spark.ml.feature.OneHotEncoderEstimator.transformSchema(OneHotEncoderEstimator.scala:145)\n\tat org.apache.spark.ml.feature.OneHotEncoderEstimator.fit(OneHotEncoderEstimator.scala:151)\n\tat sun.reflect.NativeMethodAccessorImpl.invoke0(Native Method)\n\tat sun.reflect.NativeMethodAccessorImpl.invoke(NativeMethodAccessorImpl.java:62)\n\tat sun.reflect.DelegatingMethodAccessorImpl.invoke(DelegatingMethodAccessorImpl.java:43)\n\tat java.lang.reflect.Method.invoke(Method.java:498)\n\tat py4j.reflection.MethodInvoker.invoke(MethodInvoker.java:244)\n\tat py4j.reflection.ReflectionEngine.invoke(ReflectionEngine.java:357)\n\tat py4j.Gateway.invoke(Gateway.java:282)\n\tat py4j.commands.AbstractCommand.invokeMethod(AbstractCommand.java:132)\n\tat py4j.commands.CallCommand.execute(CallCommand.java:79)\n\tat py4j.GatewayConnection.run(GatewayConnection.java:238)\n\tat java.lang.Thread.run(Thread.java:748)\n",
      "\nDuring handling of the above exception, another exception occurred:\n",
      "\u001b[0;31mIllegalArgumentException\u001b[0m                  Traceback (most recent call last)",
      "\u001b[0;32m<ipython-input-44-5fd196e094ea>\u001b[0m in \u001b[0;36m<module>\u001b[0;34m\u001b[0m\n\u001b[0;32m----> 1\u001b[0;31m \u001b[0mgis3\u001b[0m \u001b[0;34m=\u001b[0m \u001b[0mgis_data_to_spark\u001b[0m\u001b[0;34m(\u001b[0m\u001b[0;34m)\u001b[0m\u001b[0;34m\u001b[0m\u001b[0;34m\u001b[0m\u001b[0m\n\u001b[0m",
      "\u001b[0;32m~/Galvanize/Seattle-Real-Estate-Analysis/src/helpers.py\u001b[0m in \u001b[0;36mgis_data_to_spark\u001b[0;34m(filepath)\u001b[0m\n\u001b[1;32m     21\u001b[0m \u001b[0;34m\u001b[0m\u001b[0m\n\u001b[1;32m     22\u001b[0m     \u001b[0mencoder\u001b[0m \u001b[0;34m=\u001b[0m \u001b[0mOneHotEncoderEstimator\u001b[0m\u001b[0;34m(\u001b[0m\u001b[0minputCols\u001b[0m\u001b[0;34m=\u001b[0m\u001b[0mcat_cols\u001b[0m\u001b[0;34m,\u001b[0m\u001b[0moutputCols\u001b[0m\u001b[0;34m=\u001b[0m\u001b[0mdummies\u001b[0m\u001b[0;34m)\u001b[0m\u001b[0;34m\u001b[0m\u001b[0;34m\u001b[0m\u001b[0m\n\u001b[0;32m---> 23\u001b[0;31m     \u001b[0mmodel\u001b[0m \u001b[0;34m=\u001b[0m \u001b[0mencoder\u001b[0m\u001b[0;34m.\u001b[0m\u001b[0mfit\u001b[0m\u001b[0;34m(\u001b[0m\u001b[0mgis_spark\u001b[0m\u001b[0;34m)\u001b[0m\u001b[0;34m\u001b[0m\u001b[0;34m\u001b[0m\u001b[0m\n\u001b[0m\u001b[1;32m     24\u001b[0m     \u001b[0mgis_spark\u001b[0m \u001b[0;34m=\u001b[0m \u001b[0mmodel\u001b[0m\u001b[0;34m.\u001b[0m\u001b[0mtransform\u001b[0m\u001b[0;34m(\u001b[0m\u001b[0mgis_spark\u001b[0m\u001b[0;34m)\u001b[0m\u001b[0;34m\u001b[0m\u001b[0;34m\u001b[0m\u001b[0m\n\u001b[1;32m     25\u001b[0m \u001b[0;34m\u001b[0m\u001b[0m\n",
      "\u001b[0;32m~/anaconda3/lib/python3.7/site-packages/pyspark/ml/base.py\u001b[0m in \u001b[0;36mfit\u001b[0;34m(self, dataset, params)\u001b[0m\n\u001b[1;32m    130\u001b[0m                 \u001b[0;32mreturn\u001b[0m \u001b[0mself\u001b[0m\u001b[0;34m.\u001b[0m\u001b[0mcopy\u001b[0m\u001b[0;34m(\u001b[0m\u001b[0mparams\u001b[0m\u001b[0;34m)\u001b[0m\u001b[0;34m.\u001b[0m\u001b[0m_fit\u001b[0m\u001b[0;34m(\u001b[0m\u001b[0mdataset\u001b[0m\u001b[0;34m)\u001b[0m\u001b[0;34m\u001b[0m\u001b[0;34m\u001b[0m\u001b[0m\n\u001b[1;32m    131\u001b[0m             \u001b[0;32melse\u001b[0m\u001b[0;34m:\u001b[0m\u001b[0;34m\u001b[0m\u001b[0;34m\u001b[0m\u001b[0m\n\u001b[0;32m--> 132\u001b[0;31m                 \u001b[0;32mreturn\u001b[0m \u001b[0mself\u001b[0m\u001b[0;34m.\u001b[0m\u001b[0m_fit\u001b[0m\u001b[0;34m(\u001b[0m\u001b[0mdataset\u001b[0m\u001b[0;34m)\u001b[0m\u001b[0;34m\u001b[0m\u001b[0;34m\u001b[0m\u001b[0m\n\u001b[0m\u001b[1;32m    133\u001b[0m         \u001b[0;32melse\u001b[0m\u001b[0;34m:\u001b[0m\u001b[0;34m\u001b[0m\u001b[0;34m\u001b[0m\u001b[0m\n\u001b[1;32m    134\u001b[0m             raise ValueError(\"Params must be either a param map or a list/tuple of param maps, \"\n",
      "\u001b[0;32m~/anaconda3/lib/python3.7/site-packages/pyspark/ml/wrapper.py\u001b[0m in \u001b[0;36m_fit\u001b[0;34m(self, dataset)\u001b[0m\n\u001b[1;32m    293\u001b[0m \u001b[0;34m\u001b[0m\u001b[0m\n\u001b[1;32m    294\u001b[0m     \u001b[0;32mdef\u001b[0m \u001b[0m_fit\u001b[0m\u001b[0;34m(\u001b[0m\u001b[0mself\u001b[0m\u001b[0;34m,\u001b[0m \u001b[0mdataset\u001b[0m\u001b[0;34m)\u001b[0m\u001b[0;34m:\u001b[0m\u001b[0;34m\u001b[0m\u001b[0;34m\u001b[0m\u001b[0m\n\u001b[0;32m--> 295\u001b[0;31m         \u001b[0mjava_model\u001b[0m \u001b[0;34m=\u001b[0m \u001b[0mself\u001b[0m\u001b[0;34m.\u001b[0m\u001b[0m_fit_java\u001b[0m\u001b[0;34m(\u001b[0m\u001b[0mdataset\u001b[0m\u001b[0;34m)\u001b[0m\u001b[0;34m\u001b[0m\u001b[0;34m\u001b[0m\u001b[0m\n\u001b[0m\u001b[1;32m    296\u001b[0m         \u001b[0mmodel\u001b[0m \u001b[0;34m=\u001b[0m \u001b[0mself\u001b[0m\u001b[0;34m.\u001b[0m\u001b[0m_create_model\u001b[0m\u001b[0;34m(\u001b[0m\u001b[0mjava_model\u001b[0m\u001b[0;34m)\u001b[0m\u001b[0;34m\u001b[0m\u001b[0;34m\u001b[0m\u001b[0m\n\u001b[1;32m    297\u001b[0m         \u001b[0;32mreturn\u001b[0m \u001b[0mself\u001b[0m\u001b[0;34m.\u001b[0m\u001b[0m_copyValues\u001b[0m\u001b[0;34m(\u001b[0m\u001b[0mmodel\u001b[0m\u001b[0;34m)\u001b[0m\u001b[0;34m\u001b[0m\u001b[0;34m\u001b[0m\u001b[0m\n",
      "\u001b[0;32m~/anaconda3/lib/python3.7/site-packages/pyspark/ml/wrapper.py\u001b[0m in \u001b[0;36m_fit_java\u001b[0;34m(self, dataset)\u001b[0m\n\u001b[1;32m    290\u001b[0m         \"\"\"\n\u001b[1;32m    291\u001b[0m         \u001b[0mself\u001b[0m\u001b[0;34m.\u001b[0m\u001b[0m_transfer_params_to_java\u001b[0m\u001b[0;34m(\u001b[0m\u001b[0;34m)\u001b[0m\u001b[0;34m\u001b[0m\u001b[0;34m\u001b[0m\u001b[0m\n\u001b[0;32m--> 292\u001b[0;31m         \u001b[0;32mreturn\u001b[0m \u001b[0mself\u001b[0m\u001b[0;34m.\u001b[0m\u001b[0m_java_obj\u001b[0m\u001b[0;34m.\u001b[0m\u001b[0mfit\u001b[0m\u001b[0;34m(\u001b[0m\u001b[0mdataset\u001b[0m\u001b[0;34m.\u001b[0m\u001b[0m_jdf\u001b[0m\u001b[0;34m)\u001b[0m\u001b[0;34m\u001b[0m\u001b[0;34m\u001b[0m\u001b[0m\n\u001b[0m\u001b[1;32m    293\u001b[0m \u001b[0;34m\u001b[0m\u001b[0m\n\u001b[1;32m    294\u001b[0m     \u001b[0;32mdef\u001b[0m \u001b[0m_fit\u001b[0m\u001b[0;34m(\u001b[0m\u001b[0mself\u001b[0m\u001b[0;34m,\u001b[0m \u001b[0mdataset\u001b[0m\u001b[0;34m)\u001b[0m\u001b[0;34m:\u001b[0m\u001b[0;34m\u001b[0m\u001b[0;34m\u001b[0m\u001b[0m\n",
      "\u001b[0;32m~/anaconda3/lib/python3.7/site-packages/py4j/java_gateway.py\u001b[0m in \u001b[0;36m__call__\u001b[0;34m(self, *args)\u001b[0m\n\u001b[1;32m   1255\u001b[0m         \u001b[0manswer\u001b[0m \u001b[0;34m=\u001b[0m \u001b[0mself\u001b[0m\u001b[0;34m.\u001b[0m\u001b[0mgateway_client\u001b[0m\u001b[0;34m.\u001b[0m\u001b[0msend_command\u001b[0m\u001b[0;34m(\u001b[0m\u001b[0mcommand\u001b[0m\u001b[0;34m)\u001b[0m\u001b[0;34m\u001b[0m\u001b[0;34m\u001b[0m\u001b[0m\n\u001b[1;32m   1256\u001b[0m         return_value = get_return_value(\n\u001b[0;32m-> 1257\u001b[0;31m             answer, self.gateway_client, self.target_id, self.name)\n\u001b[0m\u001b[1;32m   1258\u001b[0m \u001b[0;34m\u001b[0m\u001b[0m\n\u001b[1;32m   1259\u001b[0m         \u001b[0;32mfor\u001b[0m \u001b[0mtemp_arg\u001b[0m \u001b[0;32min\u001b[0m \u001b[0mtemp_args\u001b[0m\u001b[0;34m:\u001b[0m\u001b[0;34m\u001b[0m\u001b[0;34m\u001b[0m\u001b[0m\n",
      "\u001b[0;32m~/anaconda3/lib/python3.7/site-packages/pyspark/sql/utils.py\u001b[0m in \u001b[0;36mdeco\u001b[0;34m(*a, **kw)\u001b[0m\n\u001b[1;32m     77\u001b[0m                 \u001b[0;32mraise\u001b[0m \u001b[0mQueryExecutionException\u001b[0m\u001b[0;34m(\u001b[0m\u001b[0ms\u001b[0m\u001b[0;34m.\u001b[0m\u001b[0msplit\u001b[0m\u001b[0;34m(\u001b[0m\u001b[0;34m': '\u001b[0m\u001b[0;34m,\u001b[0m \u001b[0;36m1\u001b[0m\u001b[0;34m)\u001b[0m\u001b[0;34m[\u001b[0m\u001b[0;36m1\u001b[0m\u001b[0;34m]\u001b[0m\u001b[0;34m,\u001b[0m \u001b[0mstackTrace\u001b[0m\u001b[0;34m)\u001b[0m\u001b[0;34m\u001b[0m\u001b[0;34m\u001b[0m\u001b[0m\n\u001b[1;32m     78\u001b[0m             \u001b[0;32mif\u001b[0m \u001b[0ms\u001b[0m\u001b[0;34m.\u001b[0m\u001b[0mstartswith\u001b[0m\u001b[0;34m(\u001b[0m\u001b[0;34m'java.lang.IllegalArgumentException: '\u001b[0m\u001b[0;34m)\u001b[0m\u001b[0;34m:\u001b[0m\u001b[0;34m\u001b[0m\u001b[0;34m\u001b[0m\u001b[0m\n\u001b[0;32m---> 79\u001b[0;31m                 \u001b[0;32mraise\u001b[0m \u001b[0mIllegalArgumentException\u001b[0m\u001b[0;34m(\u001b[0m\u001b[0ms\u001b[0m\u001b[0;34m.\u001b[0m\u001b[0msplit\u001b[0m\u001b[0;34m(\u001b[0m\u001b[0;34m': '\u001b[0m\u001b[0;34m,\u001b[0m \u001b[0;36m1\u001b[0m\u001b[0;34m)\u001b[0m\u001b[0;34m[\u001b[0m\u001b[0;36m1\u001b[0m\u001b[0;34m]\u001b[0m\u001b[0;34m,\u001b[0m \u001b[0mstackTrace\u001b[0m\u001b[0;34m)\u001b[0m\u001b[0;34m\u001b[0m\u001b[0;34m\u001b[0m\u001b[0m\n\u001b[0m\u001b[1;32m     80\u001b[0m             \u001b[0;32mraise\u001b[0m\u001b[0;34m\u001b[0m\u001b[0;34m\u001b[0m\u001b[0m\n\u001b[1;32m     81\u001b[0m     \u001b[0;32mreturn\u001b[0m \u001b[0mdeco\u001b[0m\u001b[0;34m\u001b[0m\u001b[0;34m\u001b[0m\u001b[0m\n",
      "\u001b[0;31mIllegalArgumentException\u001b[0m: 'requirement failed: Column SITETYPE must be of type numeric but was actually of type string.'"
     ]
    }
   ],
   "source": [
    "gis3 = gis_data_to_spark()"
   ]
  },
  {
   "cell_type": "code",
   "execution_count": 42,
   "metadata": {},
   "outputs": [
    {
     "name": "stdout",
     "output_type": "stream",
     "text": [
      "+----------+-----+-----+--------+--------------------+------------------+-------------------+----------+-------+--------+----------+----------+----------+---------+----------+--------+---+----+----+---+------------------+------------------+--------+----------+----------+--------------------+\n",
      "|       PIN|MAJOR|MINOR|SITETYPE|           ADDR_FULL|               LAT|                LON|KCTP_STATE|LOTSQFT|LEVYCODE|NEW_CONSTR|TAXVAL_RSN|APPRLNDVAL|APPR_IMPR|TAX_LNDVAL|TAX_IMPR|QTS| SEC| TWP|RNG|      Shape_Length|        Shape_Area|PROPTYPE|KCA_ZONING| KCA_ACRES|         PREUSE_DESC|\n",
      "+----------+-----+-----+--------+--------------------+------------------+-------------------+----------+-------+--------+----------+----------+----------+---------+----------+--------+---+----+----+---+------------------+------------------+--------+----------+----------+--------------------+\n",
      "|0001800001|  180| 0001|      R1|1742 S COLUMBIAN WAY|          47.56107|        -122.308502|        WA| 7820.0|    10.0|         N|        FS|  250000.0| 637000.0|  140000.0|274000.0| NW|21.0|24.0|4.0|372.77198272606796| 7792.441294305791|       R|   SF 7200|0.17952249|Single Family(Res...|\n",
      "|0001800002|  180| 0002|      R1|1727 S SNOQUALMIE ST|         47.561432|        -122.308935|        WA| 5060.0|    10.0|         N|          |  218000.0| 349000.0|  218000.0|349000.0| SW|16.0|24.0|4.0|  293.206622069235| 5023.352243260921|       R|   SF 7200|0.11616161|Single Family(Res...|\n",
      "|0001800004|  180| 0004|      R1|  1716 S ANGELINE ST|         47.560666|        -122.309648|        WA| 5225.0|    10.0|         N|          |  168000.0| 291000.0|  168000.0|291000.0| NW|21.0|24.0|4.0|   299.13929609303|  5182.91414259998|       R|   SF 7200|0.11994949|Single Family(Res...|\n",
      "|0001800006|  180| 0006|      R1|  1568 S ANGELINE ST|47.560745000000004|-122.31047099999999|        WA|18203.0|    10.0|         N|          |  374000.0| 268000.0|  374000.0|268000.0| NW|21.0|24.0|4.0|   588.70947897491|  18343.2602512983|       R|   SF 7200|0.41788337|Single Family(Res...|\n",
      "|0001800008|  180| 0008|      R1|  1526 S ANGELINE ST|         47.560762|         -122.31217|        WA|11970.0|    10.0|         N|          |  260000.0| 358000.0|  260000.0|358000.0| NW|21.0|24.0|4.0|  420.688076841425|  10958.1799395042|       R|   SF 7200|0.27479338|Single Family(Res...|\n",
      "|0001800009|  180| 0009|      R1|1517 S SNOQUALMIE ST|         47.561518|        -122.312651|        WA| 9295.0|    10.0|         N|          |  239000.0| 324000.0|  239000.0|324000.0| SW|16.0|24.0|4.0|  444.866546468402|  9158.48794316101|       R|   SF 7200|0.21338383|Single Family(Res...|\n",
      "|0001800010|  180| 0010|      R1|1525 S SNOQUALMIE ST|         47.561521|-122.31243300000001|        WA| 9295.0|    10.0|         N|          |  239000.0| 518000.0|  239000.0|518000.0| SW|16.0|24.0|4.0|  445.709922416791| 9196.770588246009|       R|   SF 7200|0.21338383|Single Family(Res...|\n",
      "|0001800011|  180| 0011|      R1|1509 S SNOQUALMIE ST|47.561516999999995|-122.31288899999998|        WA| 9260.0|    10.0|         N|          |  239000.0| 425000.0|  239000.0|425000.0| SE|17.0|24.0|4.0|445.50600917802103|  9178.52117299211|       R|   SF 7200|0.21258034|Single Family(Res...|\n",
      "|0001800045|  180| 0045|      R1|     4614 15TH AVE S|         47.561221|         -122.31315|        WA| 5014.0|    10.0|         N|          |  168000.0| 247000.0|  168000.0|247000.0| SE|17.0|24.0|4.0|   287.79201370555|  5005.98544242012|       R|   SF 5000| 0.1151056|Single Family(Res...|\n",
      "|0001800050|  180| 0050|      R1|1501 S SNOQUALMIE ST|         47.561503|-122.31316000000001|        WA| 5048.0|    10.0|         N|          |  168000.0| 381000.0|  168000.0|381000.0| SE|17.0|24.0|4.0|  289.276815560471|  5065.98399054305|       R|   SF 5000|0.11588613|Single Family(Res...|\n",
      "|0001800066|  180| 0066|      R1|      818 S ORCAS ST|47.550321000000004|-122.32206299999999|        WA| 6000.0|    10.0|         N|          |  360000.0| 159000.0|  360000.0|159000.0| SE|20.0|24.0|4.0|  319.635336377775|  5989.06513729908|       R|       LR2|0.13774104|Single Family(Res...|\n",
      "|0001800073|  180| 0073|      R1|     824A S ORCAS ST|         47.550242|-122.32191100000001|        WA| 1171.0|    10.0|         N|          |  117000.0| 465000.0|  117000.0|465000.0| SE|20.0|24.0|4.0|  146.785952226036|  1168.51210039578|       R|       LR2|0.02688246|Townhouse Plat   ...|\n",
      "|0001800074|  180| 0074|      R1|     824B S ORCAS ST|         47.550166|        -122.321845|        WA|  951.0|    10.0|         N|          |  117000.0| 570000.0|  117000.0|570000.0| SE|20.0|24.0|4.0|  125.103167182353|  949.283713537101|       R|       LR2|0.02183195|Townhouse Plat   ...|\n",
      "|0001800075|  180| 0075|      R1|1539 S SNOQUALMIE ST|         47.561491|        -122.311571|        WA| 7200.0|    10.0|         N|          |  204000.0| 557000.0|  204000.0|557000.0| SW|16.0|24.0|4.0|  340.057153304133|  7200.29208579578|       R|   SF 7200|0.16528925|Single Family(Res...|\n",
      "|0001800076|  180| 0076|      R1|     824C S ORCAS ST|          47.55022|        -122.321785|        WA|  886.0|    10.0|         N|          |   53000.0|   9800.0|   53000.0|  9800.0| SE|20.0|24.0|4.0|  121.608555191842|  885.240681844614|       R|       LR2|0.02033976|Townhouse Plat   ...|\n",
      "|0001800080|  180| 0080|      R1|1711 S SNOQUALMIE ST|         47.561452|-122.30958100000001|        WA| 5662.0|    10.0|         N|          |  209000.0| 356000.0|  209000.0|356000.0| SW|16.0|24.0|4.0|  394.283598044628| 6397.648332091961|       R|   SF 7200|0.12998163|Single Family(Res...|\n",
      "|0001800081|  180| 0081|      R1|1749 S COLUMBIAN WAY|         47.560831|-122.30920800000001|        WA|16406.0|    10.0|         N|          |  324000.0| 464000.0|  324000.0|464000.0| NW|21.0|24.0|4.0| 552.2788742429731|16873.604453134198|       R|   SF 7200|0.37662993|Single Family(Res...|\n",
      "|0001800083|  180| 0083|      R1|1754 S COLUMBIAN WAY|         47.560952|-122.30805500000001|        WA| 7750.0|    10.0|         N|          |  250000.0| 375000.0|  250000.0|375000.0| NW|21.0|24.0|4.0|  421.407142857469| 7259.686157799019|       R|   SF 7200|0.17791551|Single Family(Res...|\n",
      "|0001800084|  180| 0084|      R1|     826A S ORCAS ST|         47.550344|-122.32181000000001|        WA| 1165.0|    10.0|         N|          |  117000.0| 389000.0|  117000.0|389000.0| SE|20.0|24.0|4.0|  146.302445569212|  1162.86683576406|       R|       LR2|0.02674471|Townhouse Plat   ...|\n",
      "|0001800085|  180| 0085|      R1|     826B S ORCAS ST|         47.550314|-122.32174499999999|        WA|  788.0|    10.0|         N|          |   47000.0|   9800.0|   47000.0|  9800.0| SE|20.0|24.0|4.0|  131.230908756275|  787.419965731048|       R|       LR2|0.01808999|Townhouse Plat   ...|\n",
      "+----------+-----+-----+--------+--------------------+------------------+-------------------+----------+-------+--------+----------+----------+----------+---------+----------+--------+---+----+----+---+------------------+------------------+--------+----------+----------+--------------------+\n",
      "only showing top 20 rows\n",
      "\n"
     ]
    }
   ],
   "source": [
    "gis3.show()"
   ]
  },
  {
   "cell_type": "code",
   "execution_count": 43,
   "metadata": {},
   "outputs": [
    {
     "name": "stdout",
     "output_type": "stream",
     "text": [
      "root\n",
      " |-- PIN: string (nullable = true)\n",
      " |-- MAJOR: long (nullable = true)\n",
      " |-- MINOR: string (nullable = true)\n",
      " |-- SITETYPE: string (nullable = true)\n",
      " |-- ADDR_FULL: string (nullable = true)\n",
      " |-- LAT: double (nullable = true)\n",
      " |-- LON: double (nullable = true)\n",
      " |-- KCTP_STATE: string (nullable = true)\n",
      " |-- LOTSQFT: double (nullable = true)\n",
      " |-- LEVYCODE: double (nullable = true)\n",
      " |-- NEW_CONSTR: string (nullable = true)\n",
      " |-- TAXVAL_RSN: string (nullable = true)\n",
      " |-- APPRLNDVAL: double (nullable = true)\n",
      " |-- APPR_IMPR: double (nullable = true)\n",
      " |-- TAX_LNDVAL: double (nullable = true)\n",
      " |-- TAX_IMPR: double (nullable = true)\n",
      " |-- QTS: string (nullable = true)\n",
      " |-- SEC: double (nullable = true)\n",
      " |-- TWP: double (nullable = true)\n",
      " |-- RNG: double (nullable = true)\n",
      " |-- Shape_Length: double (nullable = true)\n",
      " |-- Shape_Area: double (nullable = true)\n",
      " |-- PROPTYPE: string (nullable = true)\n",
      " |-- KCA_ZONING: string (nullable = true)\n",
      " |-- KCA_ACRES: double (nullable = true)\n",
      " |-- PREUSE_DESC: string (nullable = true)\n",
      "\n"
     ]
    }
   ],
   "source": [
    "gis3.printSchema()"
   ]
  },
  {
   "cell_type": "code",
   "execution_count": null,
   "metadata": {},
   "outputs": [],
   "source": []
  }
 ],
 "metadata": {
  "kernelspec": {
   "display_name": "Python 3",
   "language": "python",
   "name": "python3"
  },
  "language_info": {
   "codemirror_mode": {
    "name": "ipython",
    "version": 3
   },
   "file_extension": ".py",
   "mimetype": "text/x-python",
   "name": "python",
   "nbconvert_exporter": "python",
   "pygments_lexer": "ipython3",
   "version": "3.7.4"
  }
 },
 "nbformat": 4,
 "nbformat_minor": 4
}
