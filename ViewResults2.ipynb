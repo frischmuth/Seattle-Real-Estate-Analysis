{
 "cells": [
  {
   "cell_type": "code",
   "execution_count": 1,
   "metadata": {},
   "outputs": [],
   "source": [
    "import pandas as pd\n",
    "from src.helpers import *\n",
    "%autoreload 2"
   ]
  },
  {
   "cell_type": "code",
   "execution_count": 2,
   "metadata": {},
   "outputs": [],
   "source": [
    "gis = get_gis_data()"
   ]
  },
  {
   "cell_type": "code",
   "execution_count": 6,
   "metadata": {},
   "outputs": [],
   "source": [
    "Aloha_121 = gis[gis['PIN']=='5457300320']"
   ]
  },
  {
   "cell_type": "code",
   "execution_count": 15,
   "metadata": {},
   "outputs": [],
   "source": [
    "aloha_dict = {}\n",
    "for col in Aloha_121.columns:\n",
    "    aloha_dict[col] = Aloha_121[col]"
   ]
  },
  {
   "cell_type": "code",
   "execution_count": 16,
   "metadata": {},
   "outputs": [
    {
     "data": {
      "text/plain": [
       "{'PIN': 399667    5457300320\n",
       " Name: PIN, dtype: object, 'MAJOR': 399667    545730\n",
       " Name: MAJOR, dtype: int64, 'MINOR': 399667    0320\n",
       " Name: MINOR, dtype: object, 'SITETYPE': 399667    R1\n",
       " Name: SITETYPE, dtype: object, 'ADDR_FULL': 399667    121 ALOHA ST\n",
       " Name: ADDR_FULL, dtype: object, 'LAT': 399667    47.627016\n",
       " Name: LAT, dtype: float64, 'LON': 399667   -122.354307\n",
       " Name: LON, dtype: float64, 'KCTP_STATE': 399667    WA\n",
       " Name: KCTP_STATE, dtype: object, 'LOTSQFT': 399667    4410.0\n",
       " Name: LOTSQFT, dtype: float64, 'LEVYCODE': 399667    10.0\n",
       " Name: LEVYCODE, dtype: float64, 'NEW_CONSTR': 399667    N\n",
       " Name: NEW_CONSTR, dtype: object, 'TAXVAL_RSN': 399667      \n",
       " Name: TAXVAL_RSN, dtype: object, 'APPRLNDVAL': 399667    1045000.0\n",
       " Name: APPRLNDVAL, dtype: float64, 'APPR_IMPR': 399667    381000.0\n",
       " Name: APPR_IMPR, dtype: float64, 'TAX_LNDVAL': 399667    1045000.0\n",
       " Name: TAX_LNDVAL, dtype: float64, 'TAX_IMPR': 399667    381000.0\n",
       " Name: TAX_IMPR, dtype: float64, 'QTS': 399667    NW\n",
       " Name: QTS, dtype: object, 'SEC': 399667    30.0\n",
       " Name: SEC, dtype: float64, 'TWP': 399667    25.0\n",
       " Name: TWP, dtype: float64, 'RNG': 399667    4.0\n",
       " Name: RNG, dtype: float64, 'Shape_Length': 399667    278.005156\n",
       " Name: Shape_Length, dtype: float64, 'Shape_Area': 399667    4405.495241\n",
       " Name: Shape_Area, dtype: float64, 'PROPTYPE': 399667    R\n",
       " Name: PROPTYPE, dtype: object, 'KCA_ZONING': 399667    LR3\n",
       " Name: KCA_ZONING, dtype: object, 'KCA_ACRES': 399667    0.10124\n",
       " Name: KCA_ACRES, dtype: float64, 'PREUSE_DESC': 399667    Single Family(Res Use/Zone)                   ...\n",
       " Name: PREUSE_DESC, dtype: object, 'TARGET': 399667    0\n",
       " Name: TARGET, dtype: int64}"
      ]
     },
     "execution_count": 16,
     "metadata": {},
     "output_type": "execute_result"
    }
   ],
   "source": [
    "aloha_dict"
   ]
  },
  {
   "cell_type": "code",
   "execution_count": 23,
   "metadata": {},
   "outputs": [
    {
     "data": {
      "text/html": [
       "<div>\n",
       "<style scoped>\n",
       "    .dataframe tbody tr th:only-of-type {\n",
       "        vertical-align: middle;\n",
       "    }\n",
       "\n",
       "    .dataframe tbody tr th {\n",
       "        vertical-align: top;\n",
       "    }\n",
       "\n",
       "    .dataframe thead th {\n",
       "        text-align: right;\n",
       "    }\n",
       "</style>\n",
       "<table border=\"1\" class=\"dataframe\">\n",
       "  <thead>\n",
       "    <tr style=\"text-align: right;\">\n",
       "      <th></th>\n",
       "      <th>Shape_Length</th>\n",
       "      <th>Shape_Area</th>\n",
       "      <th>PROPTYPE</th>\n",
       "      <th>KCA_ZONING</th>\n",
       "      <th>KCA_ACRES</th>\n",
       "      <th>PREUSE_DESC</th>\n",
       "      <th>TARGET</th>\n",
       "    </tr>\n",
       "  </thead>\n",
       "  <tbody>\n",
       "    <tr>\n",
       "      <td>399667</td>\n",
       "      <td>278.005156</td>\n",
       "      <td>4405.495241</td>\n",
       "      <td>R</td>\n",
       "      <td>LR3</td>\n",
       "      <td>0.10124</td>\n",
       "      <td>Single Family(Res Use/Zone)                   ...</td>\n",
       "      <td>0</td>\n",
       "    </tr>\n",
       "  </tbody>\n",
       "</table>\n",
       "</div>"
      ],
      "text/plain": [
       "        Shape_Length   Shape_Area PROPTYPE KCA_ZONING  KCA_ACRES  \\\n",
       "399667    278.005156  4405.495241        R        LR3    0.10124   \n",
       "\n",
       "                                              PREUSE_DESC  TARGET  \n",
       "399667  Single Family(Res Use/Zone)                   ...       0  "
      ]
     },
     "execution_count": 23,
     "metadata": {},
     "output_type": "execute_result"
    }
   ],
   "source": [
    "Aloha_121.iloc[:,20:30]"
   ]
  },
  {
   "cell_type": "code",
   "execution_count": 24,
   "metadata": {},
   "outputs": [],
   "source": [
    "parcel = get_parcels()"
   ]
  },
  {
   "cell_type": "code",
   "execution_count": 25,
   "metadata": {},
   "outputs": [],
   "source": [
    "Aloha_121p = parcel[parcel['PIN']=='5457300320']"
   ]
  },
  {
   "cell_type": "code",
   "execution_count": 33,
   "metadata": {},
   "outputs": [
    {
     "data": {
      "text/html": [
       "<div>\n",
       "<style scoped>\n",
       "    .dataframe tbody tr th:only-of-type {\n",
       "        vertical-align: middle;\n",
       "    }\n",
       "\n",
       "    .dataframe tbody tr th {\n",
       "        vertical-align: top;\n",
       "    }\n",
       "\n",
       "    .dataframe thead th {\n",
       "        text-align: right;\n",
       "    }\n",
       "</style>\n",
       "<table border=\"1\" class=\"dataframe\">\n",
       "  <thead>\n",
       "    <tr style=\"text-align: right;\">\n",
       "      <th></th>\n",
       "      <th>Range</th>\n",
       "      <th>Township</th>\n",
       "      <th>Section</th>\n",
       "      <th>QuarterSection</th>\n",
       "      <th>Area</th>\n",
       "      <th>SubArea</th>\n",
       "      <th>LevyCode</th>\n",
       "      <th>CurrentZoning</th>\n",
       "      <th>PresentUse</th>\n",
       "      <th>SqFtLot</th>\n",
       "      <th>WaterSystem</th>\n",
       "      <th>SewerSystem</th>\n",
       "      <th>Access</th>\n",
       "      <th>Topography</th>\n",
       "      <th>StreetSurface</th>\n",
       "      <th>InadequateParking</th>\n",
       "      <th>PcntUnusable</th>\n",
       "      <th>Unbuildable</th>\n",
       "      <th>MtRainier</th>\n",
       "      <th>Olympics</th>\n",
       "    </tr>\n",
       "  </thead>\n",
       "  <tbody>\n",
       "    <tr>\n",
       "      <td>259188</td>\n",
       "      <td>4</td>\n",
       "      <td>25</td>\n",
       "      <td>30</td>\n",
       "      <td>NW</td>\n",
       "      <td>12.0</td>\n",
       "      <td>5.0</td>\n",
       "      <td>10</td>\n",
       "      <td>LR3</td>\n",
       "      <td>2</td>\n",
       "      <td>4410</td>\n",
       "      <td>2</td>\n",
       "      <td>2</td>\n",
       "      <td>4</td>\n",
       "      <td>0</td>\n",
       "      <td>1</td>\n",
       "      <td>2</td>\n",
       "      <td>0</td>\n",
       "      <td>0</td>\n",
       "      <td>0</td>\n",
       "      <td>0</td>\n",
       "    </tr>\n",
       "  </tbody>\n",
       "</table>\n",
       "</div>"
      ],
      "text/plain": [
       "        Range  Township  Section QuarterSection  Area  SubArea  LevyCode  \\\n",
       "259188      4        25       30             NW  12.0      5.0        10   \n",
       "\n",
       "       CurrentZoning  PresentUse  SqFtLot  WaterSystem  SewerSystem  Access  \\\n",
       "259188           LR3           2     4410            2            2       4   \n",
       "\n",
       "        Topography  StreetSurface  InadequateParking  PcntUnusable  \\\n",
       "259188           0              1                  2             0   \n",
       "\n",
       "        Unbuildable  MtRainier  Olympics  \n",
       "259188            0          0         0  "
      ]
     },
     "execution_count": 33,
     "metadata": {},
     "output_type": "execute_result"
    }
   ],
   "source": [
    "Aloha_121p.iloc[:,0:20]"
   ]
  },
  {
   "cell_type": "code",
   "execution_count": 36,
   "metadata": {},
   "outputs": [],
   "source": [
    "permits = get_pending_demo_permits()"
   ]
  },
  {
   "cell_type": "code",
   "execution_count": 50,
   "metadata": {},
   "outputs": [
    {
     "data": {
      "text/html": [
       "<div>\n",
       "<style scoped>\n",
       "    .dataframe tbody tr th:only-of-type {\n",
       "        vertical-align: middle;\n",
       "    }\n",
       "\n",
       "    .dataframe tbody tr th {\n",
       "        vertical-align: top;\n",
       "    }\n",
       "\n",
       "    .dataframe thead th {\n",
       "        text-align: right;\n",
       "    }\n",
       "</style>\n",
       "<table border=\"1\" class=\"dataframe\">\n",
       "  <thead>\n",
       "    <tr style=\"text-align: right;\">\n",
       "      <th></th>\n",
       "      <th>PermitNum</th>\n",
       "      <th>PermitClass</th>\n",
       "      <th>PermitClassMapped</th>\n",
       "      <th>PermitTypeMapped</th>\n",
       "      <th>PermitTypeDesc</th>\n",
       "      <th>Description</th>\n",
       "      <th>HousingUnits</th>\n",
       "      <th>HousingUnitsRemoved</th>\n",
       "      <th>HousingUnitsAdded</th>\n",
       "      <th>EstProjectCost</th>\n",
       "      <th>...</th>\n",
       "      <th>StatusCurrent</th>\n",
       "      <th>OriginalAddress1</th>\n",
       "      <th>OriginalCity</th>\n",
       "      <th>OriginalState</th>\n",
       "      <th>OriginalZip</th>\n",
       "      <th>ContractorCompanyName</th>\n",
       "      <th>Link</th>\n",
       "      <th>Latitude</th>\n",
       "      <th>Longitude</th>\n",
       "      <th>Location1</th>\n",
       "    </tr>\n",
       "  </thead>\n",
       "  <tbody>\n",
       "    <tr>\n",
       "      <td>21087</td>\n",
       "      <td>6647034-DM</td>\n",
       "      <td>Multifamily</td>\n",
       "      <td>Residential</td>\n",
       "      <td>Demolition</td>\n",
       "      <td>Demolition</td>\n",
       "      <td>Demolish existing single family residence, per...</td>\n",
       "      <td>NaN</td>\n",
       "      <td>1.0</td>\n",
       "      <td>0.0</td>\n",
       "      <td>NaN</td>\n",
       "      <td>...</td>\n",
       "      <td>Reviews Completed</td>\n",
       "      <td>606 ALOHA ST</td>\n",
       "      <td>SEATTLE</td>\n",
       "      <td>WA</td>\n",
       "      <td>98109.0</td>\n",
       "      <td>NaN</td>\n",
       "      <td>https://cosaccela.seattle.gov/portal/customize...</td>\n",
       "      <td>47.627359</td>\n",
       "      <td>-122.344532</td>\n",
       "      <td>606 ALOHA ST\\nSEATTLE, WA 98109\\n(47.62735861,...</td>\n",
       "    </tr>\n",
       "  </tbody>\n",
       "</table>\n",
       "<p>1 rows × 24 columns</p>\n",
       "</div>"
      ],
      "text/plain": [
       "        PermitNum  PermitClass PermitClassMapped PermitTypeMapped  \\\n",
       "21087  6647034-DM  Multifamily       Residential       Demolition   \n",
       "\n",
       "      PermitTypeDesc                                        Description  \\\n",
       "21087     Demolition  Demolish existing single family residence, per...   \n",
       "\n",
       "       HousingUnits  HousingUnitsRemoved  HousingUnitsAdded  EstProjectCost  \\\n",
       "21087           NaN                  1.0                0.0             NaN   \n",
       "\n",
       "       ...      StatusCurrent OriginalAddress1 OriginalCity OriginalState  \\\n",
       "21087  ...  Reviews Completed     606 ALOHA ST      SEATTLE            WA   \n",
       "\n",
       "      OriginalZip ContractorCompanyName  \\\n",
       "21087     98109.0                   NaN   \n",
       "\n",
       "                                                    Link   Latitude  \\\n",
       "21087  https://cosaccela.seattle.gov/portal/customize...  47.627359   \n",
       "\n",
       "        Longitude                                          Location1  \n",
       "21087 -122.344532  606 ALOHA ST\\nSEATTLE, WA 98109\\n(47.62735861,...  \n",
       "\n",
       "[1 rows x 24 columns]"
      ]
     },
     "execution_count": 50,
     "metadata": {},
     "output_type": "execute_result"
    }
   ],
   "source": [
    "permits[permits['OriginalAddress1']=='606 ALOHA ST']"
   ]
  },
  {
   "cell_type": "code",
   "execution_count": 40,
   "metadata": {},
   "outputs": [
    {
     "data": {
      "text/html": [
       "<div>\n",
       "<style scoped>\n",
       "    .dataframe tbody tr th:only-of-type {\n",
       "        vertical-align: middle;\n",
       "    }\n",
       "\n",
       "    .dataframe tbody tr th {\n",
       "        vertical-align: top;\n",
       "    }\n",
       "\n",
       "    .dataframe thead th {\n",
       "        text-align: right;\n",
       "    }\n",
       "</style>\n",
       "<table border=\"1\" class=\"dataframe\">\n",
       "  <thead>\n",
       "    <tr style=\"text-align: right;\">\n",
       "      <th></th>\n",
       "      <th>PermitNum</th>\n",
       "      <th>PermitClass</th>\n",
       "      <th>PermitClassMapped</th>\n",
       "      <th>PermitTypeMapped</th>\n",
       "      <th>PermitTypeDesc</th>\n",
       "      <th>Description</th>\n",
       "      <th>HousingUnits</th>\n",
       "      <th>HousingUnitsRemoved</th>\n",
       "      <th>HousingUnitsAdded</th>\n",
       "      <th>EstProjectCost</th>\n",
       "      <th>...</th>\n",
       "      <th>StatusCurrent</th>\n",
       "      <th>OriginalAddress1</th>\n",
       "      <th>OriginalCity</th>\n",
       "      <th>OriginalState</th>\n",
       "      <th>OriginalZip</th>\n",
       "      <th>ContractorCompanyName</th>\n",
       "      <th>Link</th>\n",
       "      <th>Latitude</th>\n",
       "      <th>Longitude</th>\n",
       "      <th>Location1</th>\n",
       "    </tr>\n",
       "  </thead>\n",
       "  <tbody>\n",
       "    <tr>\n",
       "      <td>10</td>\n",
       "      <td>6651511-DM</td>\n",
       "      <td>Multifamily</td>\n",
       "      <td>Residential</td>\n",
       "      <td>Demolition</td>\n",
       "      <td>Demolition</td>\n",
       "      <td>Demolish existing structure per subject to fie...</td>\n",
       "      <td>NaN</td>\n",
       "      <td>1.0</td>\n",
       "      <td>0.0</td>\n",
       "      <td>NaN</td>\n",
       "      <td>...</td>\n",
       "      <td>Expired</td>\n",
       "      <td>2222 NW 64TH ST</td>\n",
       "      <td>SEATTLE</td>\n",
       "      <td>WA</td>\n",
       "      <td>98107.0</td>\n",
       "      <td>NaN</td>\n",
       "      <td>https://cosaccela.seattle.gov/portal/customize...</td>\n",
       "      <td>47.675513</td>\n",
       "      <td>-122.385734</td>\n",
       "      <td>2222 NW 64TH ST\\nSEATTLE, WA 98107\\n(47.675512...</td>\n",
       "    </tr>\n",
       "    <tr>\n",
       "      <td>41</td>\n",
       "      <td>6643736-DM</td>\n",
       "      <td>Multifamily</td>\n",
       "      <td>Residential</td>\n",
       "      <td>Demolition</td>\n",
       "      <td>Demolition</td>\n",
       "      <td>Demo existing single family residence, subject...</td>\n",
       "      <td>NaN</td>\n",
       "      <td>1.0</td>\n",
       "      <td>0.0</td>\n",
       "      <td>0.0</td>\n",
       "      <td>...</td>\n",
       "      <td>Issued</td>\n",
       "      <td>2472 S COLLEGE ST</td>\n",
       "      <td>SEATTLE</td>\n",
       "      <td>WA</td>\n",
       "      <td>98144.0</td>\n",
       "      <td>NaN</td>\n",
       "      <td>https://cosaccela.seattle.gov/portal/customize...</td>\n",
       "      <td>47.583123</td>\n",
       "      <td>-122.300575</td>\n",
       "      <td>2472 S COLLEGE ST\\nSEATTLE, WA 98144\\n(47.5831...</td>\n",
       "    </tr>\n",
       "    <tr>\n",
       "      <td>60</td>\n",
       "      <td>6705485-DM</td>\n",
       "      <td>Single Family/Duplex</td>\n",
       "      <td>Residential</td>\n",
       "      <td>Demolition</td>\n",
       "      <td>Demolition</td>\n",
       "      <td>Demolish existing single family residence for ...</td>\n",
       "      <td>0.0</td>\n",
       "      <td>0.0</td>\n",
       "      <td>3.0</td>\n",
       "      <td>0.0</td>\n",
       "      <td>...</td>\n",
       "      <td>Issued</td>\n",
       "      <td>910 W EMERSON ST</td>\n",
       "      <td>SEATTLE</td>\n",
       "      <td>WA</td>\n",
       "      <td>98119.0</td>\n",
       "      <td>NaN</td>\n",
       "      <td>https://cosaccela.seattle.gov/portal/customize...</td>\n",
       "      <td>47.652514</td>\n",
       "      <td>-122.369215</td>\n",
       "      <td>910 W EMERSON ST\\nSEATTLE, WA 98119\\n(47.65251...</td>\n",
       "    </tr>\n",
       "    <tr>\n",
       "      <td>62</td>\n",
       "      <td>6639059-DM</td>\n",
       "      <td>Single Family/Duplex</td>\n",
       "      <td>Residential</td>\n",
       "      <td>Demolition</td>\n",
       "      <td>Demolition</td>\n",
       "      <td>Demo existing single family residence subject ...</td>\n",
       "      <td>NaN</td>\n",
       "      <td>1.0</td>\n",
       "      <td>0.0</td>\n",
       "      <td>0.0</td>\n",
       "      <td>...</td>\n",
       "      <td>Issued</td>\n",
       "      <td>8611 23RD AVE NE</td>\n",
       "      <td>SEATTLE</td>\n",
       "      <td>WA</td>\n",
       "      <td>98115.0</td>\n",
       "      <td>NaN</td>\n",
       "      <td>https://cosaccela.seattle.gov/portal/customize...</td>\n",
       "      <td>47.691597</td>\n",
       "      <td>-122.304418</td>\n",
       "      <td>8611 23RD AVE NE\\nSEATTLE, WA 98115\\n(47.69159...</td>\n",
       "    </tr>\n",
       "    <tr>\n",
       "      <td>115</td>\n",
       "      <td>6732750-DM</td>\n",
       "      <td>Single Family/Duplex</td>\n",
       "      <td>Residential</td>\n",
       "      <td>Demolition</td>\n",
       "      <td>Demolition</td>\n",
       "      <td>Demolish existing single-family residence and ...</td>\n",
       "      <td>NaN</td>\n",
       "      <td>NaN</td>\n",
       "      <td>NaN</td>\n",
       "      <td>1200000.0</td>\n",
       "      <td>...</td>\n",
       "      <td>Issued</td>\n",
       "      <td>2439 NW 61ST ST</td>\n",
       "      <td>SEATTLE</td>\n",
       "      <td>WA</td>\n",
       "      <td>98107.0</td>\n",
       "      <td>NaN</td>\n",
       "      <td>https://cosaccela.seattle.gov/portal/customize...</td>\n",
       "      <td>47.672911</td>\n",
       "      <td>-122.389346</td>\n",
       "      <td>2439 NW 61ST ST\\nSEATTLE, WA 98107\\n(47.672911...</td>\n",
       "    </tr>\n",
       "  </tbody>\n",
       "</table>\n",
       "<p>5 rows × 24 columns</p>\n",
       "</div>"
      ],
      "text/plain": [
       "      PermitNum           PermitClass PermitClassMapped PermitTypeMapped  \\\n",
       "10   6651511-DM           Multifamily       Residential       Demolition   \n",
       "41   6643736-DM           Multifamily       Residential       Demolition   \n",
       "60   6705485-DM  Single Family/Duplex       Residential       Demolition   \n",
       "62   6639059-DM  Single Family/Duplex       Residential       Demolition   \n",
       "115  6732750-DM  Single Family/Duplex       Residential       Demolition   \n",
       "\n",
       "    PermitTypeDesc                                        Description  \\\n",
       "10      Demolition  Demolish existing structure per subject to fie...   \n",
       "41      Demolition  Demo existing single family residence, subject...   \n",
       "60      Demolition  Demolish existing single family residence for ...   \n",
       "62      Demolition  Demo existing single family residence subject ...   \n",
       "115     Demolition  Demolish existing single-family residence and ...   \n",
       "\n",
       "     HousingUnits  HousingUnitsRemoved  HousingUnitsAdded  EstProjectCost  \\\n",
       "10            NaN                  1.0                0.0             NaN   \n",
       "41            NaN                  1.0                0.0             0.0   \n",
       "60            0.0                  0.0                3.0             0.0   \n",
       "62            NaN                  1.0                0.0             0.0   \n",
       "115           NaN                  NaN                NaN       1200000.0   \n",
       "\n",
       "     ... StatusCurrent   OriginalAddress1 OriginalCity OriginalState  \\\n",
       "10   ...       Expired    2222 NW 64TH ST      SEATTLE            WA   \n",
       "41   ...        Issued  2472 S COLLEGE ST      SEATTLE            WA   \n",
       "60   ...        Issued   910 W EMERSON ST      SEATTLE            WA   \n",
       "62   ...        Issued   8611 23RD AVE NE      SEATTLE            WA   \n",
       "115  ...        Issued    2439 NW 61ST ST      SEATTLE            WA   \n",
       "\n",
       "    OriginalZip ContractorCompanyName  \\\n",
       "10      98107.0                   NaN   \n",
       "41      98144.0                   NaN   \n",
       "60      98119.0                   NaN   \n",
       "62      98115.0                   NaN   \n",
       "115     98107.0                   NaN   \n",
       "\n",
       "                                                  Link   Latitude   Longitude  \\\n",
       "10   https://cosaccela.seattle.gov/portal/customize...  47.675513 -122.385734   \n",
       "41   https://cosaccela.seattle.gov/portal/customize...  47.583123 -122.300575   \n",
       "60   https://cosaccela.seattle.gov/portal/customize...  47.652514 -122.369215   \n",
       "62   https://cosaccela.seattle.gov/portal/customize...  47.691597 -122.304418   \n",
       "115  https://cosaccela.seattle.gov/portal/customize...  47.672911 -122.389346   \n",
       "\n",
       "                                             Location1  \n",
       "10   2222 NW 64TH ST\\nSEATTLE, WA 98107\\n(47.675512...  \n",
       "41   2472 S COLLEGE ST\\nSEATTLE, WA 98144\\n(47.5831...  \n",
       "60   910 W EMERSON ST\\nSEATTLE, WA 98119\\n(47.65251...  \n",
       "62   8611 23RD AVE NE\\nSEATTLE, WA 98115\\n(47.69159...  \n",
       "115  2439 NW 61ST ST\\nSEATTLE, WA 98107\\n(47.672911...  \n",
       "\n",
       "[5 rows x 24 columns]"
      ]
     },
     "execution_count": 40,
     "metadata": {},
     "output_type": "execute_result"
    }
   ],
   "source": [
    "permits.head()"
   ]
  },
  {
   "cell_type": "code",
   "execution_count": 51,
   "metadata": {},
   "outputs": [],
   "source": [
    "allpermits = pd.read_csv('data/Building_permits.csv')"
   ]
  },
  {
   "cell_type": "code",
   "execution_count": 52,
   "metadata": {},
   "outputs": [
    {
     "data": {
      "text/html": [
       "<div>\n",
       "<style scoped>\n",
       "    .dataframe tbody tr th:only-of-type {\n",
       "        vertical-align: middle;\n",
       "    }\n",
       "\n",
       "    .dataframe tbody tr th {\n",
       "        vertical-align: top;\n",
       "    }\n",
       "\n",
       "    .dataframe thead th {\n",
       "        text-align: right;\n",
       "    }\n",
       "</style>\n",
       "<table border=\"1\" class=\"dataframe\">\n",
       "  <thead>\n",
       "    <tr style=\"text-align: right;\">\n",
       "      <th></th>\n",
       "      <th>PermitNum</th>\n",
       "      <th>PermitClass</th>\n",
       "      <th>PermitClassMapped</th>\n",
       "      <th>PermitTypeMapped</th>\n",
       "      <th>PermitTypeDesc</th>\n",
       "      <th>Description</th>\n",
       "      <th>HousingUnits</th>\n",
       "      <th>HousingUnitsRemoved</th>\n",
       "      <th>HousingUnitsAdded</th>\n",
       "      <th>EstProjectCost</th>\n",
       "      <th>...</th>\n",
       "      <th>StatusCurrent</th>\n",
       "      <th>OriginalAddress1</th>\n",
       "      <th>OriginalCity</th>\n",
       "      <th>OriginalState</th>\n",
       "      <th>OriginalZip</th>\n",
       "      <th>ContractorCompanyName</th>\n",
       "      <th>Link</th>\n",
       "      <th>Latitude</th>\n",
       "      <th>Longitude</th>\n",
       "      <th>Location1</th>\n",
       "    </tr>\n",
       "  </thead>\n",
       "  <tbody>\n",
       "    <tr>\n",
       "      <td>0</td>\n",
       "      <td>6626842-CN</td>\n",
       "      <td>Commercial</td>\n",
       "      <td>Non-Residential</td>\n",
       "      <td>Building</td>\n",
       "      <td>Addition/Alteration</td>\n",
       "      <td>Pallet Racking &amp;amp; Gondola Anchoring</td>\n",
       "      <td>NaN</td>\n",
       "      <td>NaN</td>\n",
       "      <td>NaN</td>\n",
       "      <td>NaN</td>\n",
       "      <td>...</td>\n",
       "      <td>Additional Info Requested</td>\n",
       "      <td>951 NW BALLARD WAY</td>\n",
       "      <td>SEATTLE</td>\n",
       "      <td>WA</td>\n",
       "      <td>98107.0</td>\n",
       "      <td>NaN</td>\n",
       "      <td>https://cosaccela.seattle.gov/portal/customize...</td>\n",
       "      <td>47.662496</td>\n",
       "      <td>-122.370245</td>\n",
       "      <td>951 NW BALLARD WAY\\nSEATTLE, WA 98107\\n(47.662...</td>\n",
       "    </tr>\n",
       "    <tr>\n",
       "      <td>1</td>\n",
       "      <td>6509279-CN</td>\n",
       "      <td>NaN</td>\n",
       "      <td>NaN</td>\n",
       "      <td>Building</td>\n",
       "      <td>NaN</td>\n",
       "      <td>Construct sfr</td>\n",
       "      <td>NaN</td>\n",
       "      <td>NaN</td>\n",
       "      <td>NaN</td>\n",
       "      <td>NaN</td>\n",
       "      <td>...</td>\n",
       "      <td>Closed</td>\n",
       "      <td>5400 SW BEACH DRIVE TER</td>\n",
       "      <td>SEATTLE</td>\n",
       "      <td>WA</td>\n",
       "      <td>98116.0</td>\n",
       "      <td>NaN</td>\n",
       "      <td>https://cosaccela.seattle.gov/portal/customize...</td>\n",
       "      <td>47.558580</td>\n",
       "      <td>-122.400224</td>\n",
       "      <td>5400 SW BEACH DRIVE TER\\nSEATTLE, WA 98116\\n(4...</td>\n",
       "    </tr>\n",
       "    <tr>\n",
       "      <td>2</td>\n",
       "      <td>6162461-CN</td>\n",
       "      <td>Single Family/Duplex</td>\n",
       "      <td>Residential</td>\n",
       "      <td>Building</td>\n",
       "      <td>New</td>\n",
       "      <td>Establish use for and construct one new single...</td>\n",
       "      <td>NaN</td>\n",
       "      <td>NaN</td>\n",
       "      <td>NaN</td>\n",
       "      <td>506906.0</td>\n",
       "      <td>...</td>\n",
       "      <td>Closed</td>\n",
       "      <td>3810 S ANGEL PL</td>\n",
       "      <td>SEATTLE</td>\n",
       "      <td>WA</td>\n",
       "      <td>98118.0</td>\n",
       "      <td>NaN</td>\n",
       "      <td>https://cosaccela.seattle.gov/portal/customize...</td>\n",
       "      <td>47.544780</td>\n",
       "      <td>-122.284373</td>\n",
       "      <td>3810 S ANGEL PL\\nSEATTLE, WA 98118\\n(47.544779...</td>\n",
       "    </tr>\n",
       "    <tr>\n",
       "      <td>3</td>\n",
       "      <td>6242541-CN</td>\n",
       "      <td>Single Family/Duplex</td>\n",
       "      <td>Residential</td>\n",
       "      <td>Building</td>\n",
       "      <td>Addition/Alteration</td>\n",
       "      <td>Re-construction of SFR in rear of property.</td>\n",
       "      <td>NaN</td>\n",
       "      <td>NaN</td>\n",
       "      <td>NaN</td>\n",
       "      <td>NaN</td>\n",
       "      <td>...</td>\n",
       "      <td>Closed</td>\n",
       "      <td>1511 NW 62ND ST</td>\n",
       "      <td>SEATTLE</td>\n",
       "      <td>WA</td>\n",
       "      <td>98107.0</td>\n",
       "      <td>NaN</td>\n",
       "      <td>https://cosaccela.seattle.gov/portal/customize...</td>\n",
       "      <td>47.673651</td>\n",
       "      <td>-122.376922</td>\n",
       "      <td>1511 NW 62ND ST\\nSEATTLE, WA 98107\\n(47.673651...</td>\n",
       "    </tr>\n",
       "    <tr>\n",
       "      <td>4</td>\n",
       "      <td>6063735-CN</td>\n",
       "      <td>Single Family/Duplex</td>\n",
       "      <td>Residential</td>\n",
       "      <td>Building</td>\n",
       "      <td>New</td>\n",
       "      <td>Closed as Incomplete - Expired Permit    Estab...</td>\n",
       "      <td>NaN</td>\n",
       "      <td>0.0</td>\n",
       "      <td>2.0</td>\n",
       "      <td>257497.0</td>\n",
       "      <td>...</td>\n",
       "      <td>Completed</td>\n",
       "      <td>8809 DELRIDGE WAY SW</td>\n",
       "      <td>SEATTLE</td>\n",
       "      <td>WA</td>\n",
       "      <td>NaN</td>\n",
       "      <td>NaN</td>\n",
       "      <td>https://cosaccela.seattle.gov/portal/customize...</td>\n",
       "      <td>NaN</td>\n",
       "      <td>NaN</td>\n",
       "      <td>8809 DELRIDGE WAY SW\\nSEATTLE, WA</td>\n",
       "    </tr>\n",
       "  </tbody>\n",
       "</table>\n",
       "<p>5 rows × 24 columns</p>\n",
       "</div>"
      ],
      "text/plain": [
       "    PermitNum           PermitClass PermitClassMapped PermitTypeMapped  \\\n",
       "0  6626842-CN            Commercial   Non-Residential         Building   \n",
       "1  6509279-CN                   NaN               NaN         Building   \n",
       "2  6162461-CN  Single Family/Duplex       Residential         Building   \n",
       "3  6242541-CN  Single Family/Duplex       Residential         Building   \n",
       "4  6063735-CN  Single Family/Duplex       Residential         Building   \n",
       "\n",
       "        PermitTypeDesc                                        Description  \\\n",
       "0  Addition/Alteration             Pallet Racking &amp; Gondola Anchoring   \n",
       "1                  NaN                                      Construct sfr   \n",
       "2                  New  Establish use for and construct one new single...   \n",
       "3  Addition/Alteration        Re-construction of SFR in rear of property.   \n",
       "4                  New  Closed as Incomplete - Expired Permit    Estab...   \n",
       "\n",
       "   HousingUnits  HousingUnitsRemoved  HousingUnitsAdded  EstProjectCost  ...  \\\n",
       "0           NaN                  NaN                NaN             NaN  ...   \n",
       "1           NaN                  NaN                NaN             NaN  ...   \n",
       "2           NaN                  NaN                NaN        506906.0  ...   \n",
       "3           NaN                  NaN                NaN             NaN  ...   \n",
       "4           NaN                  0.0                2.0        257497.0  ...   \n",
       "\n",
       "               StatusCurrent         OriginalAddress1 OriginalCity  \\\n",
       "0  Additional Info Requested       951 NW BALLARD WAY      SEATTLE   \n",
       "1                     Closed  5400 SW BEACH DRIVE TER      SEATTLE   \n",
       "2                     Closed          3810 S ANGEL PL      SEATTLE   \n",
       "3                     Closed          1511 NW 62ND ST      SEATTLE   \n",
       "4                  Completed     8809 DELRIDGE WAY SW      SEATTLE   \n",
       "\n",
       "  OriginalState OriginalZip ContractorCompanyName  \\\n",
       "0            WA     98107.0                   NaN   \n",
       "1            WA     98116.0                   NaN   \n",
       "2            WA     98118.0                   NaN   \n",
       "3            WA     98107.0                   NaN   \n",
       "4            WA         NaN                   NaN   \n",
       "\n",
       "                                                Link   Latitude   Longitude  \\\n",
       "0  https://cosaccela.seattle.gov/portal/customize...  47.662496 -122.370245   \n",
       "1  https://cosaccela.seattle.gov/portal/customize...  47.558580 -122.400224   \n",
       "2  https://cosaccela.seattle.gov/portal/customize...  47.544780 -122.284373   \n",
       "3  https://cosaccela.seattle.gov/portal/customize...  47.673651 -122.376922   \n",
       "4  https://cosaccela.seattle.gov/portal/customize...        NaN         NaN   \n",
       "\n",
       "                                           Location1  \n",
       "0  951 NW BALLARD WAY\\nSEATTLE, WA 98107\\n(47.662...  \n",
       "1  5400 SW BEACH DRIVE TER\\nSEATTLE, WA 98116\\n(4...  \n",
       "2  3810 S ANGEL PL\\nSEATTLE, WA 98118\\n(47.544779...  \n",
       "3  1511 NW 62ND ST\\nSEATTLE, WA 98107\\n(47.673651...  \n",
       "4                  8809 DELRIDGE WAY SW\\nSEATTLE, WA  \n",
       "\n",
       "[5 rows x 24 columns]"
      ]
     },
     "execution_count": 52,
     "metadata": {},
     "output_type": "execute_result"
    }
   ],
   "source": [
    "allpermits.head()"
   ]
  },
  {
   "cell_type": "code",
   "execution_count": 54,
   "metadata": {},
   "outputs": [
    {
     "data": {
      "text/html": [
       "<div>\n",
       "<style scoped>\n",
       "    .dataframe tbody tr th:only-of-type {\n",
       "        vertical-align: middle;\n",
       "    }\n",
       "\n",
       "    .dataframe tbody tr th {\n",
       "        vertical-align: top;\n",
       "    }\n",
       "\n",
       "    .dataframe thead th {\n",
       "        text-align: right;\n",
       "    }\n",
       "</style>\n",
       "<table border=\"1\" class=\"dataframe\">\n",
       "  <thead>\n",
       "    <tr style=\"text-align: right;\">\n",
       "      <th></th>\n",
       "      <th>PermitNum</th>\n",
       "      <th>PermitClass</th>\n",
       "      <th>PermitClassMapped</th>\n",
       "      <th>PermitTypeMapped</th>\n",
       "      <th>PermitTypeDesc</th>\n",
       "      <th>Description</th>\n",
       "      <th>HousingUnits</th>\n",
       "      <th>HousingUnitsRemoved</th>\n",
       "      <th>HousingUnitsAdded</th>\n",
       "      <th>EstProjectCost</th>\n",
       "      <th>...</th>\n",
       "      <th>StatusCurrent</th>\n",
       "      <th>OriginalAddress1</th>\n",
       "      <th>OriginalCity</th>\n",
       "      <th>OriginalState</th>\n",
       "      <th>OriginalZip</th>\n",
       "      <th>ContractorCompanyName</th>\n",
       "      <th>Link</th>\n",
       "      <th>Latitude</th>\n",
       "      <th>Longitude</th>\n",
       "      <th>Location1</th>\n",
       "    </tr>\n",
       "  </thead>\n",
       "  <tbody>\n",
       "    <tr>\n",
       "      <td>4760</td>\n",
       "      <td>6698076-DM</td>\n",
       "      <td>Multifamily</td>\n",
       "      <td>Residential</td>\n",
       "      <td>Demolition</td>\n",
       "      <td>NaN</td>\n",
       "      <td>Demolish existing single family home, per plan.</td>\n",
       "      <td>1.0</td>\n",
       "      <td>1.0</td>\n",
       "      <td>6.0</td>\n",
       "      <td>0.0</td>\n",
       "      <td>...</td>\n",
       "      <td>Issued</td>\n",
       "      <td>121 ALOHA ST</td>\n",
       "      <td>SEATTLE</td>\n",
       "      <td>WA</td>\n",
       "      <td>98109.0</td>\n",
       "      <td>NaN</td>\n",
       "      <td>https://cosaccela.seattle.gov/portal/customize...</td>\n",
       "      <td>47.62702</td>\n",
       "      <td>-122.354324</td>\n",
       "      <td>121 ALOHA ST\\nSEATTLE, WA 98109\\n(47.62701995,...</td>\n",
       "    </tr>\n",
       "    <tr>\n",
       "      <td>4824</td>\n",
       "      <td>6698075-CN</td>\n",
       "      <td>Multifamily</td>\n",
       "      <td>Residential</td>\n",
       "      <td>Building</td>\n",
       "      <td>New</td>\n",
       "      <td>Establish use as rowhouse and construct townho...</td>\n",
       "      <td>0.0</td>\n",
       "      <td>0.0</td>\n",
       "      <td>6.0</td>\n",
       "      <td>921617.0</td>\n",
       "      <td>...</td>\n",
       "      <td>Issued</td>\n",
       "      <td>121 ALOHA ST</td>\n",
       "      <td>SEATTLE</td>\n",
       "      <td>WA</td>\n",
       "      <td>98109.0</td>\n",
       "      <td>NaN</td>\n",
       "      <td>https://cosaccela.seattle.gov/portal/customize...</td>\n",
       "      <td>47.62702</td>\n",
       "      <td>-122.354324</td>\n",
       "      <td>121 ALOHA ST\\nSEATTLE, WA 98109\\n(47.62701995,...</td>\n",
       "    </tr>\n",
       "    <tr>\n",
       "      <td>39690</td>\n",
       "      <td>6684129-CN</td>\n",
       "      <td>Multifamily</td>\n",
       "      <td>Residential</td>\n",
       "      <td>Building</td>\n",
       "      <td>New</td>\n",
       "      <td>Construct 6 rowhouses.  Existing structure to ...</td>\n",
       "      <td>1.0</td>\n",
       "      <td>1.0</td>\n",
       "      <td>6.0</td>\n",
       "      <td>120000.0</td>\n",
       "      <td>...</td>\n",
       "      <td>Scheduled</td>\n",
       "      <td>121 ALOHA ST</td>\n",
       "      <td>SEATTLE</td>\n",
       "      <td>WA</td>\n",
       "      <td>98109.0</td>\n",
       "      <td>NaN</td>\n",
       "      <td>https://cosaccela.seattle.gov/portal/customize...</td>\n",
       "      <td>47.62702</td>\n",
       "      <td>-122.354324</td>\n",
       "      <td>121 ALOHA ST\\nSEATTLE, WA 98109\\n(47.62701995,...</td>\n",
       "    </tr>\n",
       "  </tbody>\n",
       "</table>\n",
       "<p>3 rows × 24 columns</p>\n",
       "</div>"
      ],
      "text/plain": [
       "        PermitNum  PermitClass PermitClassMapped PermitTypeMapped  \\\n",
       "4760   6698076-DM  Multifamily       Residential       Demolition   \n",
       "4824   6698075-CN  Multifamily       Residential         Building   \n",
       "39690  6684129-CN  Multifamily       Residential         Building   \n",
       "\n",
       "      PermitTypeDesc                                        Description  \\\n",
       "4760             NaN    Demolish existing single family home, per plan.   \n",
       "4824             New  Establish use as rowhouse and construct townho...   \n",
       "39690            New  Construct 6 rowhouses.  Existing structure to ...   \n",
       "\n",
       "       HousingUnits  HousingUnitsRemoved  HousingUnitsAdded  EstProjectCost  \\\n",
       "4760            1.0                  1.0                6.0             0.0   \n",
       "4824            0.0                  0.0                6.0        921617.0   \n",
       "39690           1.0                  1.0                6.0        120000.0   \n",
       "\n",
       "       ... StatusCurrent OriginalAddress1 OriginalCity OriginalState  \\\n",
       "4760   ...        Issued     121 ALOHA ST      SEATTLE            WA   \n",
       "4824   ...        Issued     121 ALOHA ST      SEATTLE            WA   \n",
       "39690  ...     Scheduled     121 ALOHA ST      SEATTLE            WA   \n",
       "\n",
       "      OriginalZip ContractorCompanyName  \\\n",
       "4760      98109.0                   NaN   \n",
       "4824      98109.0                   NaN   \n",
       "39690     98109.0                   NaN   \n",
       "\n",
       "                                                    Link  Latitude  \\\n",
       "4760   https://cosaccela.seattle.gov/portal/customize...  47.62702   \n",
       "4824   https://cosaccela.seattle.gov/portal/customize...  47.62702   \n",
       "39690  https://cosaccela.seattle.gov/portal/customize...  47.62702   \n",
       "\n",
       "        Longitude                                          Location1  \n",
       "4760  -122.354324  121 ALOHA ST\\nSEATTLE, WA 98109\\n(47.62701995,...  \n",
       "4824  -122.354324  121 ALOHA ST\\nSEATTLE, WA 98109\\n(47.62701995,...  \n",
       "39690 -122.354324  121 ALOHA ST\\nSEATTLE, WA 98109\\n(47.62701995,...  \n",
       "\n",
       "[3 rows x 24 columns]"
      ]
     },
     "execution_count": 54,
     "metadata": {},
     "output_type": "execute_result"
    }
   ],
   "source": [
    "allpermits[allpermits['OriginalAddress1']=='121 ALOHA ST']"
   ]
  },
  {
   "cell_type": "code",
   "execution_count": 56,
   "metadata": {},
   "outputs": [
    {
     "data": {
      "text/plain": [
       "PermitNum                                                       6698076-DM\n",
       "PermitClass                                                    Multifamily\n",
       "PermitClassMapped                                              Residential\n",
       "PermitTypeMapped                                                Demolition\n",
       "PermitTypeDesc                                                         NaN\n",
       "Description                Demolish existing single family home, per plan.\n",
       "HousingUnits                                                             1\n",
       "HousingUnitsRemoved                                                      1\n",
       "HousingUnitsAdded                                                        6\n",
       "EstProjectCost                                                           0\n",
       "AppliedDate                                                     2018-12-21\n",
       "IssuedDate                                                      2019-09-16\n",
       "ExpiresDate                                                     2021-03-16\n",
       "CompletedDate                                                          NaN\n",
       "StatusCurrent                                                       Issued\n",
       "OriginalAddress1                                              121 ALOHA ST\n",
       "OriginalCity                                                       SEATTLE\n",
       "OriginalState                                                           WA\n",
       "OriginalZip                                                          98109\n",
       "ContractorCompanyName                                                  NaN\n",
       "Link                     https://cosaccela.seattle.gov/portal/customize...\n",
       "Latitude                                                            47.627\n",
       "Longitude                                                         -122.354\n",
       "Location1                121 ALOHA ST\\nSEATTLE, WA 98109\\n(47.62701995,...\n",
       "Name: 4760, dtype: object"
      ]
     },
     "execution_count": 56,
     "metadata": {},
     "output_type": "execute_result"
    }
   ],
   "source": [
    "allpermits.iloc[4760]"
   ]
  },
  {
   "cell_type": "code",
   "execution_count": 63,
   "metadata": {},
   "outputs": [
    {
     "data": {
      "text/plain": [
       "131642"
      ]
     },
     "execution_count": 63,
     "metadata": {},
     "output_type": "execute_result"
    }
   ],
   "source": [
    "allpermits.shape[0]"
   ]
  },
  {
   "cell_type": "code",
   "execution_count": 60,
   "metadata": {},
   "outputs": [
    {
     "data": {
      "text/plain": [
       "Addition/Alteration                        77532\n",
       "New                                        21447\n",
       "Environmentally Critical Area Exemption     9723\n",
       "Demolition                                  6022\n",
       "Tenant Improvment                           3673\n",
       "Shoreline Exemption                         3310\n",
       "Temporary                                    740\n",
       "Curb Cut                                     731\n",
       "Street Improvement Exception                 456\n",
       "NONE                                         388\n",
       "Tenant Improvement Pre-Approval              262\n",
       "Change of Use Only - No Construction         122\n",
       "Deconstruction                                24\n",
       "Relocation                                    20\n",
       "Name: PermitTypeDesc, dtype: int64"
      ]
     },
     "execution_count": 60,
     "metadata": {},
     "output_type": "execute_result"
    }
   ],
   "source": [
    "allpermits['PermitTypeDesc'].value_counts()"
   ]
  },
  {
   "cell_type": "code",
   "execution_count": 61,
   "metadata": {},
   "outputs": [
    {
     "data": {
      "text/plain": [
       "Building      120909\n",
       "Demolition      9973\n",
       "Grading          595\n",
       "Roof             165\n",
       "Name: PermitTypeMapped, dtype: int64"
      ]
     },
     "execution_count": 61,
     "metadata": {},
     "output_type": "execute_result"
    }
   ],
   "source": [
    "allpermits['PermitTypeMapped'].value_counts()"
   ]
  },
  {
   "cell_type": "code",
   "execution_count": 3,
   "metadata": {},
   "outputs": [],
   "source": [
    "predictions = pd.read_csv('data/predictions_20191114-205617.csv')"
   ]
  },
  {
   "cell_type": "code",
   "execution_count": 4,
   "metadata": {},
   "outputs": [
    {
     "data": {
      "text/html": [
       "<div>\n",
       "<style scoped>\n",
       "    .dataframe tbody tr th:only-of-type {\n",
       "        vertical-align: middle;\n",
       "    }\n",
       "\n",
       "    .dataframe tbody tr th {\n",
       "        vertical-align: top;\n",
       "    }\n",
       "\n",
       "    .dataframe thead th {\n",
       "        text-align: right;\n",
       "    }\n",
       "</style>\n",
       "<table border=\"1\" class=\"dataframe\">\n",
       "  <thead>\n",
       "    <tr style=\"text-align: right;\">\n",
       "      <th></th>\n",
       "      <th>Unnamed: 0</th>\n",
       "      <th>PIN</th>\n",
       "      <th>MAJOR</th>\n",
       "      <th>MINOR</th>\n",
       "      <th>ADDR_FULL</th>\n",
       "      <th>TARGET</th>\n",
       "      <th>Prediction</th>\n",
       "      <th>prob0</th>\n",
       "      <th>prob1</th>\n",
       "    </tr>\n",
       "  </thead>\n",
       "  <tbody>\n",
       "    <tr>\n",
       "      <td>0</td>\n",
       "      <td>0</td>\n",
       "      <td>225039151</td>\n",
       "      <td>22503</td>\n",
       "      <td>9151</td>\n",
       "      <td>8066 27TH AVE NW</td>\n",
       "      <td>0</td>\n",
       "      <td>0.0</td>\n",
       "      <td>0.990855</td>\n",
       "      <td>0.009145</td>\n",
       "    </tr>\n",
       "    <tr>\n",
       "      <td>1</td>\n",
       "      <td>1</td>\n",
       "      <td>455000115</td>\n",
       "      <td>45500</td>\n",
       "      <td>115</td>\n",
       "      <td>5828 1ST AVE NW</td>\n",
       "      <td>0</td>\n",
       "      <td>0.0</td>\n",
       "      <td>0.990855</td>\n",
       "      <td>0.009145</td>\n",
       "    </tr>\n",
       "    <tr>\n",
       "      <td>2</td>\n",
       "      <td>2</td>\n",
       "      <td>525049149</td>\n",
       "      <td>52504</td>\n",
       "      <td>9149</td>\n",
       "      <td>7530 12TH AVE NE</td>\n",
       "      <td>0</td>\n",
       "      <td>0.0</td>\n",
       "      <td>0.990855</td>\n",
       "      <td>0.009145</td>\n",
       "    </tr>\n",
       "    <tr>\n",
       "      <td>3</td>\n",
       "      <td>3</td>\n",
       "      <td>579000004</td>\n",
       "      <td>57900</td>\n",
       "      <td>4</td>\n",
       "      <td>1705 NW 100TH ST</td>\n",
       "      <td>0</td>\n",
       "      <td>0.0</td>\n",
       "      <td>0.990855</td>\n",
       "      <td>0.009145</td>\n",
       "    </tr>\n",
       "    <tr>\n",
       "      <td>4</td>\n",
       "      <td>4</td>\n",
       "      <td>579000955</td>\n",
       "      <td>57900</td>\n",
       "      <td>955</td>\n",
       "      <td>9806 21ST AVE NW</td>\n",
       "      <td>0</td>\n",
       "      <td>0.0</td>\n",
       "      <td>0.990855</td>\n",
       "      <td>0.009145</td>\n",
       "    </tr>\n",
       "    <tr>\n",
       "      <td>...</td>\n",
       "      <td>...</td>\n",
       "      <td>...</td>\n",
       "      <td>...</td>\n",
       "      <td>...</td>\n",
       "      <td>...</td>\n",
       "      <td>...</td>\n",
       "      <td>...</td>\n",
       "      <td>...</td>\n",
       "      <td>...</td>\n",
       "    </tr>\n",
       "    <tr>\n",
       "      <td>174643</td>\n",
       "      <td>174643</td>\n",
       "      <td>9547203740</td>\n",
       "      <td>954720</td>\n",
       "      <td>3740</td>\n",
       "      <td>7057 19TH AVE NE</td>\n",
       "      <td>0</td>\n",
       "      <td>0.0</td>\n",
       "      <td>0.990795</td>\n",
       "      <td>0.009205</td>\n",
       "    </tr>\n",
       "    <tr>\n",
       "      <td>174644</td>\n",
       "      <td>174644</td>\n",
       "      <td>9550201540</td>\n",
       "      <td>955020</td>\n",
       "      <td>1540</td>\n",
       "      <td>5223 KIRKWOOD PL N</td>\n",
       "      <td>0</td>\n",
       "      <td>0.0</td>\n",
       "      <td>0.990795</td>\n",
       "      <td>0.009205</td>\n",
       "    </tr>\n",
       "    <tr>\n",
       "      <td>174645</td>\n",
       "      <td>174645</td>\n",
       "      <td>9828702130</td>\n",
       "      <td>982870</td>\n",
       "      <td>2130</td>\n",
       "      <td>1830 25TH AVE</td>\n",
       "      <td>0</td>\n",
       "      <td>0.0</td>\n",
       "      <td>0.990795</td>\n",
       "      <td>0.009205</td>\n",
       "    </tr>\n",
       "    <tr>\n",
       "      <td>174646</td>\n",
       "      <td>174646</td>\n",
       "      <td>9834201440</td>\n",
       "      <td>983420</td>\n",
       "      <td>1440</td>\n",
       "      <td>3600 35TH AVE S</td>\n",
       "      <td>0</td>\n",
       "      <td>0.0</td>\n",
       "      <td>0.991046</td>\n",
       "      <td>0.008954</td>\n",
       "    </tr>\n",
       "    <tr>\n",
       "      <td>174647</td>\n",
       "      <td>174647</td>\n",
       "      <td>9839300170</td>\n",
       "      <td>983930</td>\n",
       "      <td>170</td>\n",
       "      <td>1434 31ST AVE</td>\n",
       "      <td>0</td>\n",
       "      <td>0.0</td>\n",
       "      <td>0.990795</td>\n",
       "      <td>0.009205</td>\n",
       "    </tr>\n",
       "  </tbody>\n",
       "</table>\n",
       "<p>174648 rows × 9 columns</p>\n",
       "</div>"
      ],
      "text/plain": [
       "        Unnamed: 0         PIN   MAJOR  MINOR           ADDR_FULL  TARGET  \\\n",
       "0                0   225039151   22503   9151    8066 27TH AVE NW       0   \n",
       "1                1   455000115   45500    115     5828 1ST AVE NW       0   \n",
       "2                2   525049149   52504   9149    7530 12TH AVE NE       0   \n",
       "3                3   579000004   57900      4    1705 NW 100TH ST       0   \n",
       "4                4   579000955   57900    955    9806 21ST AVE NW       0   \n",
       "...            ...         ...     ...    ...                 ...     ...   \n",
       "174643      174643  9547203740  954720   3740    7057 19TH AVE NE       0   \n",
       "174644      174644  9550201540  955020   1540  5223 KIRKWOOD PL N       0   \n",
       "174645      174645  9828702130  982870   2130       1830 25TH AVE       0   \n",
       "174646      174646  9834201440  983420   1440     3600 35TH AVE S       0   \n",
       "174647      174647  9839300170  983930    170       1434 31ST AVE       0   \n",
       "\n",
       "        Prediction     prob0     prob1  \n",
       "0              0.0  0.990855  0.009145  \n",
       "1              0.0  0.990855  0.009145  \n",
       "2              0.0  0.990855  0.009145  \n",
       "3              0.0  0.990855  0.009145  \n",
       "4              0.0  0.990855  0.009145  \n",
       "...            ...       ...       ...  \n",
       "174643         0.0  0.990795  0.009205  \n",
       "174644         0.0  0.990795  0.009205  \n",
       "174645         0.0  0.990795  0.009205  \n",
       "174646         0.0  0.991046  0.008954  \n",
       "174647         0.0  0.990795  0.009205  \n",
       "\n",
       "[174648 rows x 9 columns]"
      ]
     },
     "execution_count": 4,
     "metadata": {},
     "output_type": "execute_result"
    }
   ],
   "source": [
    "predictions"
   ]
  },
  {
   "cell_type": "code",
   "execution_count": 87,
   "metadata": {},
   "outputs": [
    {
     "data": {
      "text/plain": [
       "1.2901995815803815"
      ]
     },
     "execution_count": 87,
     "metadata": {},
     "output_type": "execute_result"
    }
   ],
   "source": [
    "predictions[predictions['TARGET']==1]['prob1'].mean()/predictions['prob1'].mean()"
   ]
  },
  {
   "cell_type": "code",
   "execution_count": 103,
   "metadata": {},
   "outputs": [
    {
     "data": {
      "image/png": "[encoded data removed]",
      "text/plain": [
       "<Figure size 1152x576 with 2 Axes>"
      ]
     },
     "metadata": {},
     "output_type": "display_data"
    }
   ],
   "source": [
    "import matplotlib.pyplot as plt\n",
    "plt.style.use('ggplot')\n",
    "fig, ax = plt.subplots(2,1, figsize=(16,8))\n",
    "fig.tight_layout\n",
    "# ax.hist(predictions['prob1'],bins=500,density=True)\n",
    "ax[0].boxplot(predictions[predictions['TARGET']==1]['prob1'])\n",
    "ax[1].boxplot(predictions[predictions['TARGET']==0]['prob1'])\n",
    "fig.suptitle('Redevelopment Probability Predictions', fontsize=16)\n",
    "ax[0].set_title(\"Properties scheduled for redevelopment\")\n",
    "ax[1].set_title(\"Properties not scheduled for redevelopment\");"
   ]
  },
  {
   "cell_type": "code",
   "execution_count": 93,
   "metadata": {},
   "outputs": [
    {
     "data": {
      "image/png": "[encoded data removed]",
      "text/plain": [
       "<Figure size 1152x576 with 2 Axes>"
      ]
     },
     "metadata": {},
     "output_type": "display_data"
    }
   ],
   "source": [
    "import matplotlib.pyplot as plt\n",
    "plt.style.use('ggplot')\n",
    "fig, ax = plt.subplots(2,1, figsize=(16,8))\n",
    "fig.tight_layout\n",
    "# ax.hist(predictions['prob1'],bins=500,density=True)\n",
    "ax[0].hist(predictions[predictions['TARGET']==1]['prob1'],bins=500,density=True,color='b')\n",
    "ax[1].hist(predictions[predictions['TARGET']==0]['prob1'],bins=500,density=True,color='r');\n",
    "fig.suptitle('Redevelopment Probability Predictions', fontsize=16)\n",
    "ax[0].set_title(\"Properties scheduled for redevelopment\")\n",
    "ax[1].set_title(\"Properties not scheduled for redevelopment\")\n",
    "ax[0].set_xlim(.005,.06)\n",
    "ax[1].set_xlim(.005,.06);"
   ]
  },
  {
   "cell_type": "code",
   "execution_count": null,
   "metadata": {},
   "outputs": [],
   "source": []
  },
  {
   "cell_type": "code",
   "execution_count": 89,
   "metadata": {},
   "outputs": [
    {
     "data": {
      "text/plain": [
       "(0.008373053, 0.010226693710197353, 0.11604152599999999)"
      ]
     },
     "execution_count": 89,
     "metadata": {},
     "output_type": "execute_result"
    }
   ],
   "source": [
    "predictions['prob1'].min(),predictions['prob1'].mean(), predictions['prob1'].max()"
   ]
  },
  {
   "cell_type": "code",
   "execution_count": 7,
   "metadata": {},
   "outputs": [
    {
     "data": {
      "text/plain": [
       "<matplotlib.axes._subplots.AxesSubplot at 0x124da8810>"
      ]
     },
     "execution_count": 7,
     "metadata": {},
     "output_type": "execute_result"
    },
    {
     "data": {
      "image/png": "[encoded data removed]",
      "text/plain": [
       "<Figure size 1440x576 with 1 Axes>"
      ]
     },
     "metadata": {
      "needs_background": "light"
     },
     "output_type": "display_data"
    }
   ],
   "source": [
    "predictions['prob0'].hist(bins=500, figsize=(20,8))"
   ]
  },
  {
   "cell_type": "code",
   "execution_count": 8,
   "metadata": {},
   "outputs": [
    {
     "data": {
      "text/plain": [
       "<matplotlib.axes._subplots.AxesSubplot at 0x124d5d6d0>"
      ]
     },
     "execution_count": 8,
     "metadata": {},
     "output_type": "execute_result"
    },
    {
     "data": {
      "image/png": "[encoded data removed]",
      "text/plain": [
       "<Figure size 1440x576 with 1 Axes>"
      ]
     },
     "metadata": {
      "needs_background": "light"
     },
     "output_type": "display_data"
    }
   ],
   "source": [
    "predictions[predictions['TARGET']==1]['prob0'].hist(bins=500, figsize=(20,8))"
   ]
  },
  {
   "cell_type": "code",
   "execution_count": 9,
   "metadata": {},
   "outputs": [
    {
     "data": {
      "text/plain": [
       "<matplotlib.axes._subplots.AxesSubplot at 0x126142450>"
      ]
     },
     "execution_count": 9,
     "metadata": {},
     "output_type": "execute_result"
    },
    {
     "data": {
      "image/png": "[encoded data removed]",
      "text/plain": [
       "<Figure size 1440x576 with 1 Axes>"
      ]
     },
     "metadata": {
      "needs_background": "light"
     },
     "output_type": "display_data"
    }
   ],
   "source": [
    "predictions[predictions['TARGET']==0]['prob0'].hist(bins=500, figsize=(20,8))"
   ]
  },
  {
   "cell_type": "code",
   "execution_count": 10,
   "metadata": {},
   "outputs": [
    {
     "data": {
      "text/plain": [
       "count    1782.000000\n",
       "mean        0.013194\n",
       "std         0.005249\n",
       "min         0.008387\n",
       "25%         0.009472\n",
       "50%         0.010948\n",
       "75%         0.016669\n",
       "max         0.116042\n",
       "Name: prob1, dtype: float64"
      ]
     },
     "execution_count": 10,
     "metadata": {},
     "output_type": "execute_result"
    }
   ],
   "source": [
    "predictions[predictions['TARGET']==1]['prob1'].describe()"
   ]
  },
  {
   "cell_type": "code",
   "execution_count": 11,
   "metadata": {},
   "outputs": [
    {
     "data": {
      "text/plain": [
       "count    172866.000000\n",
       "mean          0.010196\n",
       "std           0.002636\n",
       "min           0.008373\n",
       "25%           0.009062\n",
       "50%           0.009359\n",
       "75%           0.009881\n",
       "max           0.113446\n",
       "Name: prob1, dtype: float64"
      ]
     },
     "execution_count": 11,
     "metadata": {},
     "output_type": "execute_result"
    }
   ],
   "source": [
    "predictions[predictions['TARGET']==0]['prob1'].describe()"
   ]
  },
  {
   "cell_type": "code",
   "execution_count": 12,
   "metadata": {},
   "outputs": [
    {
     "data": {
      "text/plain": [
       "1.2940708470362416"
      ]
     },
     "execution_count": 12,
     "metadata": {},
     "output_type": "execute_result"
    }
   ],
   "source": [
    "(predictions[predictions['TARGET']==1]['prob1'].mean())/(predictions[predictions['TARGET']==0]['prob1'].mean())"
   ]
  },
  {
   "cell_type": "code",
   "execution_count": 13,
   "metadata": {},
   "outputs": [
    {
     "data": {
      "text/html": [
       "<div>\n",
       "<style scoped>\n",
       "    .dataframe tbody tr th:only-of-type {\n",
       "        vertical-align: middle;\n",
       "    }\n",
       "\n",
       "    .dataframe tbody tr th {\n",
       "        vertical-align: top;\n",
       "    }\n",
       "\n",
       "    .dataframe thead th {\n",
       "        text-align: right;\n",
       "    }\n",
       "</style>\n",
       "<table border=\"1\" class=\"dataframe\">\n",
       "  <thead>\n",
       "    <tr style=\"text-align: right;\">\n",
       "      <th></th>\n",
       "      <th>Unnamed: 0</th>\n",
       "      <th>PIN</th>\n",
       "      <th>MAJOR</th>\n",
       "      <th>MINOR</th>\n",
       "      <th>ADDR_FULL</th>\n",
       "      <th>TARGET</th>\n",
       "      <th>Prediction</th>\n",
       "      <th>prob0</th>\n",
       "      <th>prob1</th>\n",
       "    </tr>\n",
       "  </thead>\n",
       "  <tbody>\n",
       "    <tr>\n",
       "      <td>164871</td>\n",
       "      <td>164871</td>\n",
       "      <td>9352900035</td>\n",
       "      <td>935290</td>\n",
       "      <td>35</td>\n",
       "      <td>9225 16TH AVE SW</td>\n",
       "      <td>1</td>\n",
       "      <td>0.0</td>\n",
       "      <td>0.883958</td>\n",
       "      <td>0.116042</td>\n",
       "    </tr>\n",
       "    <tr>\n",
       "      <td>155645</td>\n",
       "      <td>155645</td>\n",
       "      <td>8850000730</td>\n",
       "      <td>885000</td>\n",
       "      <td>730</td>\n",
       "      <td>1529 RAINIER AVE S</td>\n",
       "      <td>0</td>\n",
       "      <td>0.0</td>\n",
       "      <td>0.886554</td>\n",
       "      <td>0.113446</td>\n",
       "    </tr>\n",
       "    <tr>\n",
       "      <td>4529</td>\n",
       "      <td>4529</td>\n",
       "      <td>6003500825</td>\n",
       "      <td>600350</td>\n",
       "      <td>825</td>\n",
       "      <td>1110 E DENNY WAY</td>\n",
       "      <td>0</td>\n",
       "      <td>0.0</td>\n",
       "      <td>0.890700</td>\n",
       "      <td>0.109300</td>\n",
       "    </tr>\n",
       "    <tr>\n",
       "      <td>35371</td>\n",
       "      <td>35371</td>\n",
       "      <td>3333001780</td>\n",
       "      <td>333300</td>\n",
       "      <td>1780</td>\n",
       "      <td>3345 S GRAHAM ST</td>\n",
       "      <td>0</td>\n",
       "      <td>0.0</td>\n",
       "      <td>0.891445</td>\n",
       "      <td>0.108555</td>\n",
       "    </tr>\n",
       "    <tr>\n",
       "      <td>20546</td>\n",
       "      <td>20546</td>\n",
       "      <td>8813400250</td>\n",
       "      <td>881340</td>\n",
       "      <td>250</td>\n",
       "      <td>4504 37TH AVE NE</td>\n",
       "      <td>0</td>\n",
       "      <td>0.0</td>\n",
       "      <td>0.891465</td>\n",
       "      <td>0.108535</td>\n",
       "    </tr>\n",
       "    <tr>\n",
       "      <td>102468</td>\n",
       "      <td>102468</td>\n",
       "      <td>3732800185</td>\n",
       "      <td>373280</td>\n",
       "      <td>185</td>\n",
       "      <td>1355 S PEARL ST</td>\n",
       "      <td>0</td>\n",
       "      <td>0.0</td>\n",
       "      <td>0.891536</td>\n",
       "      <td>0.108464</td>\n",
       "    </tr>\n",
       "    <tr>\n",
       "      <td>18091</td>\n",
       "      <td>18091</td>\n",
       "      <td>4443801650</td>\n",
       "      <td>444380</td>\n",
       "      <td>1650</td>\n",
       "      <td>8053 25TH AVE NW</td>\n",
       "      <td>0</td>\n",
       "      <td>0.0</td>\n",
       "      <td>0.891537</td>\n",
       "      <td>0.108463</td>\n",
       "    </tr>\n",
       "    <tr>\n",
       "      <td>17220</td>\n",
       "      <td>17220</td>\n",
       "      <td>7595700006</td>\n",
       "      <td>759570</td>\n",
       "      <td>6</td>\n",
       "      <td>8844 9TH AVE NW</td>\n",
       "      <td>0</td>\n",
       "      <td>0.0</td>\n",
       "      <td>0.891750</td>\n",
       "      <td>0.108250</td>\n",
       "    </tr>\n",
       "    <tr>\n",
       "      <td>20836</td>\n",
       "      <td>20836</td>\n",
       "      <td>2770600630</td>\n",
       "      <td>277060</td>\n",
       "      <td>630</td>\n",
       "      <td>2326 W DRAVUS ST</td>\n",
       "      <td>0</td>\n",
       "      <td>0.0</td>\n",
       "      <td>0.908019</td>\n",
       "      <td>0.091981</td>\n",
       "    </tr>\n",
       "    <tr>\n",
       "      <td>52239</td>\n",
       "      <td>52239</td>\n",
       "      <td>8820900390</td>\n",
       "      <td>882090</td>\n",
       "      <td>390</td>\n",
       "      <td>3835 NE 125TH ST</td>\n",
       "      <td>0</td>\n",
       "      <td>0.0</td>\n",
       "      <td>0.922842</td>\n",
       "      <td>0.077158</td>\n",
       "    </tr>\n",
       "    <tr>\n",
       "      <td>52453</td>\n",
       "      <td>52453</td>\n",
       "      <td>7857001565</td>\n",
       "      <td>785700</td>\n",
       "      <td>1565</td>\n",
       "      <td>6418 29TH AVE S</td>\n",
       "      <td>0</td>\n",
       "      <td>0.0</td>\n",
       "      <td>0.923045</td>\n",
       "      <td>0.076955</td>\n",
       "    </tr>\n",
       "    <tr>\n",
       "      <td>40822</td>\n",
       "      <td>40822</td>\n",
       "      <td>287000190</td>\n",
       "      <td>28700</td>\n",
       "      <td>190</td>\n",
       "      <td>10919 39TH AVE SW</td>\n",
       "      <td>0</td>\n",
       "      <td>0.0</td>\n",
       "      <td>0.923045</td>\n",
       "      <td>0.076955</td>\n",
       "    </tr>\n",
       "    <tr>\n",
       "      <td>42065</td>\n",
       "      <td>42065</td>\n",
       "      <td>1443500300</td>\n",
       "      <td>144350</td>\n",
       "      <td>300</td>\n",
       "      <td>7710 48TH AVE S</td>\n",
       "      <td>0</td>\n",
       "      <td>0.0</td>\n",
       "      <td>0.923045</td>\n",
       "      <td>0.076955</td>\n",
       "    </tr>\n",
       "    <tr>\n",
       "      <td>20256</td>\n",
       "      <td>20256</td>\n",
       "      <td>7408700025</td>\n",
       "      <td>740870</td>\n",
       "      <td>25</td>\n",
       "      <td>5818 17TH AVE NE</td>\n",
       "      <td>0</td>\n",
       "      <td>0.0</td>\n",
       "      <td>0.924399</td>\n",
       "      <td>0.075601</td>\n",
       "    </tr>\n",
       "    <tr>\n",
       "      <td>117650</td>\n",
       "      <td>117650</td>\n",
       "      <td>3528901015</td>\n",
       "      <td>352890</td>\n",
       "      <td>1015</td>\n",
       "      <td>708 MCGRAW ST</td>\n",
       "      <td>0</td>\n",
       "      <td>0.0</td>\n",
       "      <td>0.930669</td>\n",
       "      <td>0.069331</td>\n",
       "    </tr>\n",
       "    <tr>\n",
       "      <td>120930</td>\n",
       "      <td>120930</td>\n",
       "      <td>1370800265</td>\n",
       "      <td>137080</td>\n",
       "      <td>265</td>\n",
       "      <td>2240 W VIEWMONT WAY W</td>\n",
       "      <td>0</td>\n",
       "      <td>0.0</td>\n",
       "      <td>0.931135</td>\n",
       "      <td>0.068865</td>\n",
       "    </tr>\n",
       "    <tr>\n",
       "      <td>146922</td>\n",
       "      <td>146922</td>\n",
       "      <td>1498302700</td>\n",
       "      <td>149830</td>\n",
       "      <td>2700</td>\n",
       "      <td>2052 RAINIER AVE S</td>\n",
       "      <td>0</td>\n",
       "      <td>0.0</td>\n",
       "      <td>0.932530</td>\n",
       "      <td>0.067470</td>\n",
       "    </tr>\n",
       "    <tr>\n",
       "      <td>16723</td>\n",
       "      <td>16723</td>\n",
       "      <td>8816400715</td>\n",
       "      <td>881640</td>\n",
       "      <td>715</td>\n",
       "      <td>5255 UNIVERSITY WAY NE</td>\n",
       "      <td>0</td>\n",
       "      <td>0.0</td>\n",
       "      <td>0.932719</td>\n",
       "      <td>0.067281</td>\n",
       "    </tr>\n",
       "    <tr>\n",
       "      <td>101927</td>\n",
       "      <td>101927</td>\n",
       "      <td>7904700095</td>\n",
       "      <td>790470</td>\n",
       "      <td>95</td>\n",
       "      <td>4411 CALIFORNIA AVE SW</td>\n",
       "      <td>0</td>\n",
       "      <td>0.0</td>\n",
       "      <td>0.933444</td>\n",
       "      <td>0.066556</td>\n",
       "    </tr>\n",
       "    <tr>\n",
       "      <td>65829</td>\n",
       "      <td>65829</td>\n",
       "      <td>5101405259</td>\n",
       "      <td>510140</td>\n",
       "      <td>5259</td>\n",
       "      <td>2033 NE 98TH ST</td>\n",
       "      <td>0</td>\n",
       "      <td>0.0</td>\n",
       "      <td>0.933839</td>\n",
       "      <td>0.066161</td>\n",
       "    </tr>\n",
       "  </tbody>\n",
       "</table>\n",
       "</div>"
      ],
      "text/plain": [
       "        Unnamed: 0         PIN   MAJOR  MINOR               ADDR_FULL  TARGET  \\\n",
       "164871      164871  9352900035  935290     35        9225 16TH AVE SW       1   \n",
       "155645      155645  8850000730  885000    730      1529 RAINIER AVE S       0   \n",
       "4529          4529  6003500825  600350    825        1110 E DENNY WAY       0   \n",
       "35371        35371  3333001780  333300   1780        3345 S GRAHAM ST       0   \n",
       "20546        20546  8813400250  881340    250        4504 37TH AVE NE       0   \n",
       "102468      102468  3732800185  373280    185         1355 S PEARL ST       0   \n",
       "18091        18091  4443801650  444380   1650        8053 25TH AVE NW       0   \n",
       "17220        17220  7595700006  759570      6         8844 9TH AVE NW       0   \n",
       "20836        20836  2770600630  277060    630        2326 W DRAVUS ST       0   \n",
       "52239        52239  8820900390  882090    390        3835 NE 125TH ST       0   \n",
       "52453        52453  7857001565  785700   1565         6418 29TH AVE S       0   \n",
       "40822        40822   287000190   28700    190       10919 39TH AVE SW       0   \n",
       "42065        42065  1443500300  144350    300         7710 48TH AVE S       0   \n",
       "20256        20256  7408700025  740870     25        5818 17TH AVE NE       0   \n",
       "117650      117650  3528901015  352890   1015           708 MCGRAW ST       0   \n",
       "120930      120930  1370800265  137080    265   2240 W VIEWMONT WAY W       0   \n",
       "146922      146922  1498302700  149830   2700      2052 RAINIER AVE S       0   \n",
       "16723        16723  8816400715  881640    715  5255 UNIVERSITY WAY NE       0   \n",
       "101927      101927  7904700095  790470     95  4411 CALIFORNIA AVE SW       0   \n",
       "65829        65829  5101405259  510140   5259         2033 NE 98TH ST       0   \n",
       "\n",
       "        Prediction     prob0     prob1  \n",
       "164871         0.0  0.883958  0.116042  \n",
       "155645         0.0  0.886554  0.113446  \n",
       "4529           0.0  0.890700  0.109300  \n",
       "35371          0.0  0.891445  0.108555  \n",
       "20546          0.0  0.891465  0.108535  \n",
       "102468         0.0  0.891536  0.108464  \n",
       "18091          0.0  0.891537  0.108463  \n",
       "17220          0.0  0.891750  0.108250  \n",
       "20836          0.0  0.908019  0.091981  \n",
       "52239          0.0  0.922842  0.077158  \n",
       "52453          0.0  0.923045  0.076955  \n",
       "40822          0.0  0.923045  0.076955  \n",
       "42065          0.0  0.923045  0.076955  \n",
       "20256          0.0  0.924399  0.075601  \n",
       "117650         0.0  0.930669  0.069331  \n",
       "120930         0.0  0.931135  0.068865  \n",
       "146922         0.0  0.932530  0.067470  \n",
       "16723          0.0  0.932719  0.067281  \n",
       "101927         0.0  0.933444  0.066556  \n",
       "65829          0.0  0.933839  0.066161  "
      ]
     },
     "execution_count": 13,
     "metadata": {},
     "output_type": "execute_result"
    }
   ],
   "source": [
    "predictions.sort_values('prob1', ascending=False).head(20)"
   ]
  },
  {
   "cell_type": "code",
   "execution_count": 14,
   "metadata": {},
   "outputs": [
    {
     "data": {
      "text/html": [
       "<div>\n",
       "<style scoped>\n",
       "    .dataframe tbody tr th:only-of-type {\n",
       "        vertical-align: middle;\n",
       "    }\n",
       "\n",
       "    .dataframe tbody tr th {\n",
       "        vertical-align: top;\n",
       "    }\n",
       "\n",
       "    .dataframe thead th {\n",
       "        text-align: right;\n",
       "    }\n",
       "</style>\n",
       "<table border=\"1\" class=\"dataframe\">\n",
       "  <thead>\n",
       "    <tr style=\"text-align: right;\">\n",
       "      <th></th>\n",
       "      <th>Unnamed: 0</th>\n",
       "      <th>PIN</th>\n",
       "      <th>MAJOR</th>\n",
       "      <th>MINOR</th>\n",
       "      <th>ADDR_FULL</th>\n",
       "      <th>TARGET</th>\n",
       "      <th>Prediction</th>\n",
       "      <th>prob0</th>\n",
       "      <th>prob1</th>\n",
       "    </tr>\n",
       "  </thead>\n",
       "  <tbody>\n",
       "    <tr>\n",
       "      <td>9058</td>\n",
       "      <td>9058</td>\n",
       "      <td>5457300320</td>\n",
       "      <td>545730</td>\n",
       "      <td>320</td>\n",
       "      <td>121 ALOHA ST</td>\n",
       "      <td>1</td>\n",
       "      <td>0.0</td>\n",
       "      <td>0.989322</td>\n",
       "      <td>0.010678</td>\n",
       "    </tr>\n",
       "  </tbody>\n",
       "</table>\n",
       "</div>"
      ],
      "text/plain": [
       "      Unnamed: 0         PIN   MAJOR  MINOR     ADDR_FULL  TARGET  Prediction  \\\n",
       "9058        9058  5457300320  545730    320  121 ALOHA ST       1         0.0   \n",
       "\n",
       "         prob0     prob1  \n",
       "9058  0.989322  0.010678  "
      ]
     },
     "execution_count": 14,
     "metadata": {},
     "output_type": "execute_result"
    }
   ],
   "source": [
    "predictions[predictions['ADDR_FULL']=='121 ALOHA ST']"
   ]
  },
  {
   "cell_type": "code",
   "execution_count": 15,
   "metadata": {},
   "outputs": [],
   "source": [
    "import matplotlib.pyplot as plt\n",
    "from sklearn.metrics import roc_curve"
   ]
  },
  {
   "cell_type": "code",
   "execution_count": 16,
   "metadata": {},
   "outputs": [],
   "source": [
    "fper, tper, thresholds = roc_curve(predictions['TARGET'],predictions['prob1'])"
   ]
  },
  {
   "cell_type": "code",
   "execution_count": 106,
   "metadata": {},
   "outputs": [],
   "source": [
    "def plot_roc_cur(fper, tper):  \n",
    "    plt.plot(fper, tper, color='red', label='ROC')\n",
    "    plt.figure(figsize=(16,16))\n",
    "    plt.plot([0, 1], [0, 1], color='darkblue', linestyle='--')\n",
    "    plt.xlabel('False Positive Rate')\n",
    "    plt.ylabel('True Positive Rate')\n",
    "    plt.title('Receiver Operating Characteristic (ROC) Curve')\n",
    "    plt.legend()\n",
    "    plt.show()"
   ]
  },
  {
   "cell_type": "code",
   "execution_count": 107,
   "metadata": {},
   "outputs": [
    {
     "name": "stderr",
     "output_type": "stream",
     "text": [
      "No handles with labels found to put in legend.\n"
     ]
    },
    {
     "data": {
      "image/png": "[encoded data removed]",
      "text/plain": [
       "<Figure size 432x288 with 1 Axes>"
      ]
     },
     "metadata": {},
     "output_type": "display_data"
    },
    {
     "data": {
      "image/png": "[encoded data removed]",
      "text/plain": [
       "<Figure size 1152x1152 with 1 Axes>"
      ]
     },
     "metadata": {},
     "output_type": "display_data"
    }
   ],
   "source": [
    "plot_roc_cur(fper, tper)"
   ]
  },
  {
   "cell_type": "code",
   "execution_count": 19,
   "metadata": {},
   "outputs": [
    {
     "data": {
      "text/plain": [
       "0.377528925760437"
      ]
     },
     "execution_count": 19,
     "metadata": {},
     "output_type": "execute_result"
    }
   ],
   "source": [
    "tper.mean()"
   ]
  },
  {
   "cell_type": "code",
   "execution_count": 20,
   "metadata": {},
   "outputs": [
    {
     "data": {
      "text/plain": [
       "[<matplotlib.lines.Line2D at 0x11c328e50>]"
      ]
     },
     "execution_count": 20,
     "metadata": {},
     "output_type": "execute_result"
    },
    {
     "data": {
      "image/png": "[encoded data removed]",
      "text/plain": [
       "<Figure size 432x288 with 1 Axes>"
      ]
     },
     "metadata": {
      "needs_background": "light"
     },
     "output_type": "display_data"
    }
   ],
   "source": [
    "plt.plot(fper, tper)"
   ]
  },
  {
   "cell_type": "code",
   "execution_count": 21,
   "metadata": {},
   "outputs": [
    {
     "data": {
      "text/plain": [
       "0.004560700294783181"
      ]
     },
     "execution_count": 21,
     "metadata": {},
     "output_type": "execute_result"
    }
   ],
   "source": [
    "(tper*thresholds).mean()"
   ]
  },
  {
   "cell_type": "code",
   "execution_count": 22,
   "metadata": {},
   "outputs": [
    {
     "data": {
      "text/plain": [
       "0.7336769501423048"
      ]
     },
     "execution_count": 22,
     "metadata": {},
     "output_type": "execute_result"
    }
   ],
   "source": [
    "(np.diff(fper)*tper[1:]).sum()\n",
    "    "
   ]
  },
  {
   "cell_type": "code",
   "execution_count": 23,
   "metadata": {},
   "outputs": [
    {
     "data": {
      "text/plain": [
       "array([1.11604153, 0.11604153, 0.07715841, ..., 0.00838862, 0.00838673,\n",
       "       0.00837305])"
      ]
     },
     "execution_count": 23,
     "metadata": {},
     "output_type": "execute_result"
    }
   ],
   "source": [
    "thresholds"
   ]
  },
  {
   "cell_type": "code",
   "execution_count": 24,
   "metadata": {},
   "outputs": [
    {
     "name": "stdout",
     "output_type": "stream",
     "text": [
      "20200219-142831\n"
     ]
    }
   ],
   "source": [
    "import time\n",
    "timestr = time.strftime(\"%Y%m%d-%H%M%S\")\n",
    "print(timestr)"
   ]
  },
  {
   "cell_type": "code",
   "execution_count": 25,
   "metadata": {},
   "outputs": [],
   "source": [
    "zz = pd.DataFrame(thresholds)"
   ]
  },
  {
   "cell_type": "code",
   "execution_count": 26,
   "metadata": {},
   "outputs": [],
   "source": [
    "zz.to_csv('predictions_'+timestr+'.csv')"
   ]
  },
  {
   "cell_type": "code",
   "execution_count": 27,
   "metadata": {},
   "outputs": [
    {
     "data": {
      "text/plain": [
       "0.05486301480183117"
      ]
     },
     "execution_count": 27,
     "metadata": {},
     "output_type": "execute_result"
    }
   ],
   "source": [
    "from sklearn.metrics import log_loss\n",
    "\n",
    "log_loss(predictions['TARGET'], predictions['prob1'])"
   ]
  },
  {
   "cell_type": "code",
   "execution_count": null,
   "metadata": {},
   "outputs": [],
   "source": []
  }
 ],
 "metadata": {
  "kernelspec": {
   "display_name": "Python 3",
   "language": "python",
   "name": "python3"
  },
  "language_info": {
   "codemirror_mode": {
    "name": "ipython",
    "version": 3
   },
   "file_extension": ".py",
   "mimetype": "text/x-python",
   "name": "python",
   "nbconvert_exporter": "python",
   "pygments_lexer": "ipython3",
   "version": "3.7.4"
  }
 },
 "nbformat": 4,
 "nbformat_minor": 4
}
