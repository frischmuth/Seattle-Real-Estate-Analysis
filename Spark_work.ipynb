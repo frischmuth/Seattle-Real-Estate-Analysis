{
 "cells": [
  {
   "cell_type": "code",
   "execution_count": 43,
   "metadata": {},
   "outputs": [],
   "source": [
    "import pyspark as ps\n",
    "import pandas as pd"
   ]
  },
  {
   "cell_type": "code",
   "execution_count": 44,
   "metadata": {},
   "outputs": [],
   "source": [
    "pdvalues = pd.read_csv('data/csv_to_sql/completed_directory/EXTR_ValueHistory_V.csv',nrows=10)"
   ]
  },
  {
   "cell_type": "code",
   "execution_count": 48,
   "metadata": {},
   "outputs": [
    {
     "data": {
      "text/plain": [
       "Index(['Major', 'Minor', 'TaxYr', 'OmitYr', 'ApprLandVal', 'ApprImpsVal',\n",
       "       'ApprImpIncr', 'LandVal', 'ImpsVal', 'TaxValReason', 'TaxStatus',\n",
       "       'LevyCode', 'ChangeDate', 'ChangeDocId', 'Reason', 'SplitCode'],\n",
       "      dtype='object')"
      ]
     },
     "execution_count": 48,
     "metadata": {},
     "output_type": "execute_result"
    }
   ],
   "source": [
    "pdvalues.columns"
   ]
  },
  {
   "cell_type": "code",
   "execution_count": 57,
   "metadata": {},
   "outputs": [
    {
     "data": {
      "text/plain": [
       "Major            int64\n",
       "Minor            int64\n",
       "TaxYr            int64\n",
       "OmitYr           int64\n",
       "ApprLandVal      int64\n",
       "ApprImpsVal      int64\n",
       "ApprImpIncr      int64\n",
       "LandVal          int64\n",
       "ImpsVal          int64\n",
       "TaxValReason    object\n",
       "TaxStatus       object\n",
       "LevyCode         int64\n",
       "ChangeDate      object\n",
       "ChangeDocId     object\n",
       "Reason          object\n",
       "SplitCode        int64\n",
       "dtype: object"
      ]
     },
     "execution_count": 57,
     "metadata": {},
     "output_type": "execute_result"
    }
   ],
   "source": [
    "a = pdvalues.dtypes\n",
    "a"
   ]
  },
  {
   "cell_type": "code",
   "execution_count": 2,
   "metadata": {},
   "outputs": [],
   "source": [
    "spark = (ps.sql.SparkSession\n",
    "         .builder\n",
    "         .master('local[4]')\n",
    "         .appName('lecture')\n",
    "         .getOrCreate()\n",
    "        )\n",
    "sc = spark.sparkContext"
   ]
  },
  {
   "cell_type": "code",
   "execution_count": 113,
   "metadata": {},
   "outputs": [],
   "source": [
    "values = spark.read.csv('data/EXTR_ValueHistory_V.csv', header=True, inferSchema=True )\n"
   ]
  },
  {
   "cell_type": "code",
   "execution_count": 77,
   "metadata": {},
   "outputs": [
    {
     "data": {
      "text/plain": [
       "[Row(Major=701485, Minor=40, TaxYr=1995, OmitYr=0, ApprLandVal=0, ApprImpsVal=0, ApprImpIncr=0, LandVal=12300, ImpsVal=62500, TaxValReason='  ', TaxStatus='T', LevyCode=10, ChangeDate=datetime.datetime(1994, 8, 12, 0, 0), ChangeDocId=' ', Reason='REVALUE', SplitCode=0),\n",
       " Row(Major=701485, Minor=40, TaxYr=1995, OmitYr=0, ApprLandVal=0, ApprImpsVal=0, ApprImpIncr=0, LandVal=12315, ImpsVal=38480, TaxValReason='  ', TaxStatus='T', LevyCode=10, ChangeDate=datetime.datetime(1994, 5, 10, 0, 0), ChangeDocId='U051001', Reason='MAINTENANCE', SplitCode=0),\n",
       " Row(Major=701485, Minor=40, TaxYr=1994, OmitYr=0, ApprLandVal=0, ApprImpsVal=0, ApprImpIncr=0, LandVal=12315, ImpsVal=38480, TaxValReason='  ', TaxStatus='T', LevyCode=10, ChangeDate=datetime.datetime(1994, 5, 10, 0, 0), ChangeDocId='U051001', Reason='MAINTENANCE', SplitCode=0),\n",
       " Row(Major=701485, Minor=40, TaxYr=1997, OmitYr=0, ApprLandVal=0, ApprImpsVal=0, ApprImpIncr=0, LandVal=12300, ImpsVal=62500, TaxValReason='  ', TaxStatus='T', LevyCode=10, ChangeDate=datetime.datetime(1996, 10, 8, 0, 0), ChangeDocId=' ', Reason='REVALUE', SplitCode=0),\n",
       " Row(Major=701485, Minor=40, TaxYr=1998, OmitYr=0, ApprLandVal=0, ApprImpsVal=0, ApprImpIncr=0, LandVal=12300, ImpsVal=62500, TaxValReason='  ', TaxStatus='T', LevyCode=10, ChangeDate=datetime.datetime(1997, 8, 8, 0, 0), ChangeDocId=' ', Reason='REVALUE', SplitCode=0)]"
      ]
     },
     "execution_count": 77,
     "metadata": {},
     "output_type": "execute_result"
    }
   ],
   "source": [
    "values.take(5)"
   ]
  },
  {
   "cell_type": "code",
   "execution_count": 76,
   "metadata": {},
   "outputs": [
    {
     "data": {
      "text/plain": [
       "[('Major', 'int'),\n",
       " ('Minor', 'int'),\n",
       " ('TaxYr', 'int'),\n",
       " ('OmitYr', 'int'),\n",
       " ('ApprLandVal', 'int'),\n",
       " ('ApprImpsVal', 'int'),\n",
       " ('ApprImpIncr', 'int'),\n",
       " ('LandVal', 'int'),\n",
       " ('ImpsVal', 'int'),\n",
       " ('TaxValReason', 'string'),\n",
       " ('TaxStatus', 'string'),\n",
       " ('LevyCode', 'int'),\n",
       " ('ChangeDate', 'timestamp'),\n",
       " ('ChangeDocId', 'string'),\n",
       " ('Reason', 'string'),\n",
       " ('SplitCode', 'int')]"
      ]
     },
     "execution_count": 76,
     "metadata": {},
     "output_type": "execute_result"
    }
   ],
   "source": [
    "values.dtypes"
   ]
  },
  {
   "cell_type": "code",
   "execution_count": 67,
   "metadata": {},
   "outputs": [],
   "source": [
    "from pyspark.sql.functions import udf\n",
    "from pyspark.sql.types import DataType, IntegerType, StringType"
   ]
  },
  {
   "cell_type": "code",
   "execution_count": 116,
   "metadata": {},
   "outputs": [],
   "source": [
    "def create_PIN(major, minor):\n",
    "    return str(major).zfill(6) + str(minor).zfill(4)\n",
    "create_PIN_udf = udf(create_PIN, StringType())"
   ]
  },
  {
   "cell_type": "code",
   "execution_count": 117,
   "metadata": {},
   "outputs": [],
   "source": [
    "values = values.withColumn(\"PIN\", create_PIN_udf(values['Major'], values['Minor']))"
   ]
  },
  {
   "cell_type": "code",
   "execution_count": 118,
   "metadata": {},
   "outputs": [],
   "source": [
    "values = values.withColumn(\"TotalVal\", (values['LandVal'] + values['ImpsVal']))"
   ]
  },
  {
   "cell_type": "code",
   "execution_count": 92,
   "metadata": {},
   "outputs": [
    {
     "data": {
      "text/plain": [
       "Row(Major=701485, Minor=40, TaxYr=1995, OmitYr=0, ApprLandVal=0, ApprImpsVal=0, ApprImpIncr=0, LandVal=12300, ImpsVal=62500, TaxValReason='  ', TaxStatus='T', LevyCode=10, ChangeDate=datetime.datetime(1994, 8, 12, 0, 0), ChangeDocId=' ', Reason='REVALUE', SplitCode=0, PIN='7014850040', TotalVal=74800)"
      ]
     },
     "execution_count": 92,
     "metadata": {},
     "output_type": "execute_result"
    }
   ],
   "source": [
    "values.head()"
   ]
  },
  {
   "cell_type": "code",
   "execution_count": 93,
   "metadata": {},
   "outputs": [],
   "source": [
    "values_pivot = values.groupBy('PIN').pivot('TaxYr').sum('TotalVal')"
   ]
  },
  {
   "cell_type": "code",
   "execution_count": 94,
   "metadata": {},
   "outputs": [
    {
     "data": {
      "text/plain": [
       "Row(PIN='3352401605', 1953=None, 1966=None, 1973=None, 1975=None, 1976=None, 1977=None, 1978=None, 1979=None, 1980=None, 1981=None, 1982=None, 1983=60400, 1984=None, 1985=60400, 1986=None, 1987=55500, 1988=None, 1989=59200, 1990=None, 1991=78000, 1992=None, 1993=92800, 1994=None, 1995=95700, 1996=None, 1997=95700, 1998=103000, 1999=216000, 2000=126000, 2001=139000, 2002=152000, 2003=169000, 2004=180000, 2005=193000, 2006=224000, 2007=234000, 2008=263000, 2009=289000, 2010=269000, 2011=269000, 2012=239000, 2013=239000, 2014=168000, 2015=213000, 2016=248000, 2017=279000, 2018=324000, 2019=401000, 2020=420000, 2051=None)"
      ]
     },
     "execution_count": 94,
     "metadata": {},
     "output_type": "execute_result"
    }
   ],
   "source": [
    "values_pivot.head()"
   ]
  },
  {
   "cell_type": "code",
   "execution_count": 120,
   "metadata": {},
   "outputs": [
    {
     "name": "stdout",
     "output_type": "stream",
     "text": [
      "root\n",
      " |-- Major: integer (nullable = true)\n",
      " |-- Minor: integer (nullable = true)\n",
      " |-- TaxYr: integer (nullable = true)\n",
      " |-- OmitYr: integer (nullable = true)\n",
      " |-- ApprLandVal: integer (nullable = true)\n",
      " |-- ApprImpsVal: integer (nullable = true)\n",
      " |-- ApprImpIncr: integer (nullable = true)\n",
      " |-- LandVal: integer (nullable = true)\n",
      " |-- ImpsVal: integer (nullable = true)\n",
      " |-- TaxValReason: string (nullable = true)\n",
      " |-- TaxStatus: string (nullable = true)\n",
      " |-- LevyCode: integer (nullable = true)\n",
      " |-- ChangeDate: timestamp (nullable = true)\n",
      " |-- ChangeDocId: string (nullable = true)\n",
      " |-- Reason: string (nullable = true)\n",
      " |-- SplitCode: integer (nullable = true)\n",
      " |-- PIN: string (nullable = true)\n",
      " |-- TotalVal: integer (nullable = true)\n",
      "\n"
     ]
    }
   ],
   "source": [
    "values.printSchema()"
   ]
  },
  {
   "cell_type": "code",
   "execution_count": 108,
   "metadata": {},
   "outputs": [
    {
     "data": {
      "text/plain": [
       "<bound method DataFrame.summary of DataFrame[Major: int, Minor: int, TaxYr: int, OmitYr: int, ApprLandVal: int, ApprImpsVal: int, ApprImpIncr: int, LandVal: int, ImpsVal: int, TaxValReason: string, TaxStatus: string, LevyCode: int, ChangeDate: timestamp, ChangeDocId: string, Reason: string, SplitCode: int, PIN: string, TotalVal: int]>"
      ]
     },
     "execution_count": 108,
     "metadata": {},
     "output_type": "execute_result"
    }
   ],
   "source": [
    "values.summary"
   ]
  },
  {
   "cell_type": "code",
   "execution_count": 105,
   "metadata": {},
   "outputs": [
    {
     "data": {
      "text/plain": [
       "['__class__',\n",
       " '__delattr__',\n",
       " '__dict__',\n",
       " '__dir__',\n",
       " '__doc__',\n",
       " '__eq__',\n",
       " '__format__',\n",
       " '__ge__',\n",
       " '__getattr__',\n",
       " '__getattribute__',\n",
       " '__getitem__',\n",
       " '__gt__',\n",
       " '__hash__',\n",
       " '__init__',\n",
       " '__init_subclass__',\n",
       " '__le__',\n",
       " '__lt__',\n",
       " '__module__',\n",
       " '__ne__',\n",
       " '__new__',\n",
       " '__reduce__',\n",
       " '__reduce_ex__',\n",
       " '__repr__',\n",
       " '__setattr__',\n",
       " '__sizeof__',\n",
       " '__str__',\n",
       " '__subclasshook__',\n",
       " '__weakref__',\n",
       " '_collectAsArrow',\n",
       " '_jcols',\n",
       " '_jdf',\n",
       " '_jmap',\n",
       " '_jseq',\n",
       " '_lazy_rdd',\n",
       " '_repr_html_',\n",
       " '_sc',\n",
       " '_schema',\n",
       " '_sort_cols',\n",
       " '_support_repr_html',\n",
       " 'agg',\n",
       " 'alias',\n",
       " 'approxQuantile',\n",
       " 'cache',\n",
       " 'checkpoint',\n",
       " 'coalesce',\n",
       " 'colRegex',\n",
       " 'collect',\n",
       " 'columns',\n",
       " 'corr',\n",
       " 'count',\n",
       " 'cov',\n",
       " 'createGlobalTempView',\n",
       " 'createOrReplaceGlobalTempView',\n",
       " 'createOrReplaceTempView',\n",
       " 'createTempView',\n",
       " 'crossJoin',\n",
       " 'crosstab',\n",
       " 'cube',\n",
       " 'describe',\n",
       " 'distinct',\n",
       " 'drop',\n",
       " 'dropDuplicates',\n",
       " 'drop_duplicates',\n",
       " 'dropna',\n",
       " 'dtypes',\n",
       " 'exceptAll',\n",
       " 'explain',\n",
       " 'fillna',\n",
       " 'filter',\n",
       " 'first',\n",
       " 'foreach',\n",
       " 'foreachPartition',\n",
       " 'freqItems',\n",
       " 'groupBy',\n",
       " 'groupby',\n",
       " 'head',\n",
       " 'hint',\n",
       " 'intersect',\n",
       " 'intersectAll',\n",
       " 'isLocal',\n",
       " 'isStreaming',\n",
       " 'is_cached',\n",
       " 'join',\n",
       " 'limit',\n",
       " 'localCheckpoint',\n",
       " 'na',\n",
       " 'orderBy',\n",
       " 'persist',\n",
       " 'printSchema',\n",
       " 'randomSplit',\n",
       " 'rdd',\n",
       " 'registerTempTable',\n",
       " 'repartition',\n",
       " 'repartitionByRange',\n",
       " 'replace',\n",
       " 'rollup',\n",
       " 'sample',\n",
       " 'sampleBy',\n",
       " 'schema',\n",
       " 'select',\n",
       " 'selectExpr',\n",
       " 'show',\n",
       " 'sort',\n",
       " 'sortWithinPartitions',\n",
       " 'sql_ctx',\n",
       " 'stat',\n",
       " 'storageLevel',\n",
       " 'subtract',\n",
       " 'summary',\n",
       " 'take',\n",
       " 'toDF',\n",
       " 'toJSON',\n",
       " 'toLocalIterator',\n",
       " 'toPandas',\n",
       " 'union',\n",
       " 'unionAll',\n",
       " 'unionByName',\n",
       " 'unpersist',\n",
       " 'where',\n",
       " 'withColumn',\n",
       " 'withColumnRenamed',\n",
       " 'withWatermark',\n",
       " 'write',\n",
       " 'writeStream']"
      ]
     },
     "execution_count": 105,
     "metadata": {},
     "output_type": "execute_result"
    }
   ],
   "source": [
    "dir(values)"
   ]
  },
  {
   "cell_type": "code",
   "execution_count": 121,
   "metadata": {},
   "outputs": [],
   "source": [
    "values.createOrReplaceTempView('values')"
   ]
  },
  {
   "cell_type": "code",
   "execution_count": 123,
   "metadata": {},
   "outputs": [
    {
     "name": "stdout",
     "output_type": "stream",
     "text": [
      "+------+-----+-----+------+-----------+-----------+-----------+-------+-------+------------+---------+--------+-------------------+-----------+---------+---------+----------+--------+\n",
      "| Major|Minor|TaxYr|OmitYr|ApprLandVal|ApprImpsVal|ApprImpIncr|LandVal|ImpsVal|TaxValReason|TaxStatus|LevyCode|         ChangeDate|ChangeDocId|   Reason|SplitCode|       PIN|TotalVal|\n",
      "+------+-----+-----+------+-----------+-----------+-----------+-------+-------+------------+---------+--------+-------------------+-----------+---------+---------+----------+--------+\n",
      "|335240| 1605| 1995|     0|          0|          0|          0|  31600|  64100|            |        T|      10|1994-10-25 00:00:00|           |  REVALUE|        0|3352401605|   95700|\n",
      "|335240| 1605| 1993|     0|          0|          0|          0|  29000|  63800|            |        T|      10|1992-03-27 00:00:00|           |  REVALUE|        0|3352401605|   92800|\n",
      "|335240| 1605| 1991|     0|          0|          0|          0|  24400|  53600|            |        T|      10|1990-04-27 00:00:00|           |  REVALUE|        0|3352401605|   78000|\n",
      "|335240| 1605| 1989|     0|          0|          0|          0|  14400|  44800|            |        T|      10|1987-12-31 00:00:00|           |  REVALUE|        0|3352401605|   59200|\n",
      "|335240| 1605| 1987|     0|          0|          0|          0|  18000|  37500|            |        T|      10|1986-07-22 00:00:00|           |  REVALUE|        0|3352401605|   55500|\n",
      "|335240| 1605| 1985|     0|          0|          0|          0|  17500|  42900|            |        T|      10|1984-04-05 00:00:00|           |  REVALUE|        0|3352401605|   60400|\n",
      "|335240| 1605| 1983|     0|          0|          0|          0|  17500|  42900|            |        T|      10|1982-02-20 00:00:00|           |  REVALUE|        0|3352401605|   60400|\n",
      "|335240| 1605| 1997|     0|          0|          0|          0|  31600|  64100|            |        T|      10|1996-09-05 00:00:00|           |  REVALUE|        0|3352401605|   95700|\n",
      "|335240| 1605| 1998|     0|          0|          0|          0|  36000|  67000|            |        T|      10|1997-09-29 00:00:00|           |  REVALUE|        0|3352401605|  103000|\n",
      "|335240| 1605| 1999|     0|      36000|      67000|          0|  36000|  67000|            |        T|      10|1998-04-18 00:00:00|    R470000|EXTENSION|        0|3352401605|  103000|\n",
      "|335240| 1605| 1999|     0|      39000|      74000|          0|  39000|  74000|            |        T|      10|1998-08-13 00:00:00|           |  REVALUE|        0|3352401605|  113000|\n",
      "|335240| 1605| 2000|     0|      46000|      80000|          0|  46000|  80000|            |        T|      10|1999-07-19 00:00:00|           |  REVALUE|        0|3352401605|  126000|\n",
      "|335240| 1605| 2001|     0|      51000|      88000|          0|  51000|  88000|            |        T|      10|2000-06-13 00:00:00|           |  REVALUE|        0|3352401605|  139000|\n",
      "|335240| 1605| 2002|     0|      55000|      97000|          0|  55000|  97000|            |        T|      10|2001-04-18 00:00:00|           |  REVALUE|        0|3352401605|  152000|\n",
      "|335240| 1605| 2003|     0|      61000|     108000|          0|  61000| 108000|            |        T|      10|2002-09-09 00:00:00|           |  REVALUE|        0|3352401605|  169000|\n",
      "|335240| 1605| 2004|     0|      67000|     113000|          0|  67000| 113000|            |        T|      10|2003-04-21 00:00:00|           |  REVALUE|        0|3352401605|  180000|\n",
      "|335240| 1605| 2005|     0|      72000|     121000|          0|  72000| 121000|            |        T|      10|2004-08-02 00:00:00|           |  REVALUE|        0|3352401605|  193000|\n",
      "|335240| 1605| 2006|     0|      77000|     147000|          0|  77000| 147000|            |        T|      10|2005-06-07 00:00:00|           |  REVALUE|        0|3352401605|  224000|\n",
      "|335240| 1605| 2007|     0|      84000|     150000|          0|  84000| 150000|            |        T|      10|2006-05-08 00:00:00|           |  REVALUE|        0|3352401605|  234000|\n",
      "|335240| 1605| 2008|     0|      93000|     170000|          0|  93000| 170000|            |        T|      10|2007-07-30 00:00:00|           |  REVALUE|        0|3352401605|  263000|\n",
      "|335240| 1605| 2009|     0|     102000|     187000|          0| 102000| 187000|            |        T|      10|2008-07-02 00:00:00|           |  REVALUE|        0|3352401605|  289000|\n",
      "|335240| 1605| 2010|     0|     119000|     150000|      41000| 119000| 150000|            |        T|      10|2009-08-17 00:00:00|           |  REVALUE|        0|3352401605|  269000|\n",
      "|335240| 1605| 2011|     0|     119000|     150000|          0| 119000| 150000|            |        T|      10|2010-07-26 00:00:00|           |  REVALUE|        0|3352401605|  269000|\n",
      "|335240| 1605| 2012|     0|     109000|     130000|          0| 109000| 130000|            |        T|      10|2011-08-29 00:00:00|           |  REVALUE|        0|3352401605|  239000|\n",
      "|335240| 1605| 2013|     0|     101000|     138000|          0| 101000| 138000|            |        T|      10|2012-08-13 00:00:00|           |  REVALUE|        0|3352401605|  239000|\n",
      "|335240| 1605| 2014|     0|      65000|     103000|          0|  65000| 103000|            |        T|      10|2013-08-05 00:00:00|           |  REVALUE|        0|3352401605|  168000|\n",
      "|335240| 1605| 2015|     0|      74000|     139000|          0|  74000| 139000|            |        T|      10|2014-05-14 00:00:00|           |  REVALUE|        0|3352401605|  213000|\n",
      "|335240| 1605| 2016|     0|      85000|     163000|          0|  85000| 163000|            |        T|      10|2015-08-18 00:00:00|           |  REVALUE|        0|3352401605|  248000|\n",
      "|335240| 1605| 2017|     0|      95000|     184000|          0|  95000| 184000|            |        T|      10|2016-09-19 00:00:00|           |  REVALUE|        0|3352401605|  279000|\n",
      "|335240| 1605| 2018|     0|     107000|     217000|          0| 107000| 217000|            |        T|      10|2017-06-14 00:00:00|           |  REVALUE|        0|3352401605|  324000|\n",
      "|335240| 1605| 2019|     0|     132000|     269000|          0| 132000| 269000|            |        T|      10|2018-08-07 00:00:00|           |  REVALUE|        0|3352401605|  401000|\n",
      "|335240| 1605| 2020|     0|     135000|     285000|          0| 135000| 285000|            |        T|      10|2019-09-23 00:00:00|           |  REVALUE|        0|3352401605|  420000|\n",
      "+------+-----+-----+------+-----------+-----------+-----------+-------+-------+------------+---------+--------+-------------------+-----------+---------+---------+----------+--------+\n",
      "\n"
     ]
    }
   ],
   "source": [
    "query = '''SELECT * \n",
    "            FROM values \n",
    "            WHERE PIN = '3352401605' \n",
    "            '''\n",
    "\n",
    "this_house = spark.sql(query).show(50)"
   ]
  },
  {
   "cell_type": "code",
   "execution_count": 124,
   "metadata": {},
   "outputs": [
    {
     "name": "stdout",
     "output_type": "stream",
     "text": [
      "+------------------+\n",
      "|            Reason|\n",
      "+------------------+\n",
      "|          NEW PLAT|\n",
      "|    KILL BY CANCEL|\n",
      "|   LEGAL/ABATEMENT|\n",
      "|       COURT ORDER|\n",
      "| MOBILE HOME X-FER|\n",
      "| MERGE/STATUS CHNG|\n",
      "|        REACTVATED|\n",
      "|      LEGAL CHANGE|\n",
      "|   BOARD EXTENSION|\n",
      "|              null|\n",
      "|           REVALUE|\n",
      "|         AMENDMENT|\n",
      "|  HOME IMP EXPIRED|\n",
      "|  JUNE BOARD ORDER|\n",
      "|        CORRECTION|\n",
      "|   OMIT CORRECTION|\n",
      "|   MERGE/CODE CHNG|\n",
      "| 100% VALUE LAW 73|\n",
      "|             MAINT|\n",
      "|     OMIT REVISION|\n",
      "|         EXTENSION|\n",
      "|       FOREST LAND|\n",
      "|   NOV BOARD ORDER|\n",
      "|    LEVY CODE CHNG|\n",
      "|            MERGER|\n",
      "|   TAX STATUS CHNG|\n",
      "|     SR CIT CHANGE|\n",
      "|        NEW PARCEL|\n",
      "| HISTORIC PROPERTY|\n",
      "|     SEG/CODE CHNG|\n",
      "| S.C. FROZEN VALUE|\n",
      "|       SEGREGATION|\n",
      "|        OPEN SPACE|\n",
      "|       MAINTENANCE|\n",
      "|  JULY BOARD ORDER|\n",
      "|DESTROYED PROPERTY|\n",
      "|     KILL BY MERGE|\n",
      "|  CORRECTION BOARD|\n",
      "|                  |\n",
      "|   SEG/STATUS CHNG|\n",
      "| STATE BOARD ORDER|\n",
      "|   CO-OP SR CIT EX|\n",
      "|      CONDEMNATION|\n",
      "|     OMITTED ASSMT|\n",
      "|HOME IMP EXEMPTION|\n",
      "+------------------+\n",
      "\n"
     ]
    }
   ],
   "source": [
    "query = '''SELECT DISTINCT Reason \n",
    "            FROM values \n",
    "\n",
    "            '''\n",
    "\n",
    "this_house = spark.sql(query).show(50)"
   ]
  },
  {
   "cell_type": "code",
   "execution_count": 126,
   "metadata": {},
   "outputs": [
    {
     "name": "stdout",
     "output_type": "stream",
     "text": [
      "+------+-----+-----+------+-----------+-----------+-----------+-------+-------+------------+---------+--------+-------------------+-----------+----------+---------+----------+--------+\n",
      "| Major|Minor|TaxYr|OmitYr|ApprLandVal|ApprImpsVal|ApprImpIncr|LandVal|ImpsVal|TaxValReason|TaxStatus|LevyCode|         ChangeDate|ChangeDocId|    Reason|SplitCode|       PIN|TotalVal|\n",
      "+------+-----+-----+------+-----------+-----------+-----------+-------+-------+------------+---------+--------+-------------------+-----------+----------+---------+----------+--------+\n",
      "|192205| 9466| 2018|     0|       1000|          0|          0|   1000|      0|            |        T|    1525|2017-05-02 00:00:00|    D001005|NEW PARCEL|        0|1922059466|    1000|\n",
      "|105650|  350| 2018|     0|          0|          0|          0|      0|      0|            |        T|    1518|2017-04-10 00:00:00|    D000832|NEW PARCEL|        0|1056500350|       0|\n",
      "| 82505| 9361| 2018|     0|     171000|          0|          0| 171000|      0|            |        T|    1701|2017-07-05 00:00:00|    D001546|NEW PARCEL|        0|0825059361|  171000|\n",
      "| 67001|   40| 2018|     0|          0|          0|          0|      0|      0|            |        T|     330|2018-03-21 00:00:00|    E000784|NEW PARCEL|        0|0670010040|       0|\n",
      "|745800|  670| 2018|     0|          0|          0|          0|      0|      0|            |        T|      10|2017-04-05 00:00:00|    D000766|NEW PARCEL|        0|7458000670|       0|\n",
      "| 67001|   90| 2018|     0|          0|          0|          0|      0|      0|            |        T|     330|2018-03-21 00:00:00|    E000789|NEW PARCEL|        0|0670010090|       0|\n",
      "|105650|  450| 2018|     0|          0|          0|          0|      0|      0|            |        T|    1518|2017-04-10 00:00:00|    D000832|NEW PARCEL|        0|1056500450|       0|\n",
      "| 67001|  120| 2018|     0|          0|          0|          0|      0|      0|            |        T|     330|2018-03-21 00:00:00|    E000791|NEW PARCEL|        0|0670010120|       0|\n",
      "| 67001|  140| 2018|     0|        100|          0|          0|    100|      0|            |        T|     330|2018-05-08 00:00:00|    E001374|NEW PARCEL|        0|0670010140|     100|\n",
      "|421960|  760| 2018|     0|       1000|          0|          0|   1000|      0|            |        T|    2100|2018-03-01 00:00:00|    E000283|NEW PARCEL|        0|4219600760|    1000|\n",
      "| 67001|  130| 2018|     0|          0|          0|          0|      0|      0|            |        T|     330|2018-03-21 00:00:00|    E000792|NEW PARCEL|        0|0670010130|       0|\n",
      "| 67001|   80| 2018|     0|          0|          0|          0|      0|      0|            |        T|     330|2018-03-21 00:00:00|    E000788|NEW PARCEL|        0|0670010080|       0|\n",
      "|105650|  380| 2018|     0|          0|          0|          0|      0|      0|            |        T|    1518|2017-04-10 00:00:00|    D000832|NEW PARCEL|        0|1056500380|       0|\n",
      "|105650|  430| 2018|     0|          0|          0|          0|      0|      0|            |        T|    1518|2017-04-10 00:00:00|    D000832|NEW PARCEL|        0|1056500430|       0|\n",
      "| 67001|   70| 2018|     0|          0|          0|          0|      0|      0|            |        T|     330|2018-03-21 00:00:00|    E000787|NEW PARCEL|        0|0670010070|       0|\n",
      "|122104| 9045| 2018|     0|      70500|          0|          0|  70500|      0|            |        T|     133|2018-05-24 00:00:00|    E001661|NEW PARCEL|        0|1221049045|   70500|\n",
      "| 59000|   13| 2018|     0|          0|          0|          0|      0|      0|            |        T|      10|2017-04-26 00:00:00|    D000978|NEW PARCEL|        0|0590000013|       0|\n",
      "|105650|  420| 2018|     0|          0|          0|          0|      0|      0|            |        T|    1518|2017-04-10 00:00:00|    D000832|NEW PARCEL|        0|1056500420|       0|\n",
      "| 67001|   50| 2018|     0|          0|          0|          0|      0|      0|            |        T|     330|2018-03-21 00:00:00|    E000785|NEW PARCEL|        0|0670010050|       0|\n",
      "|322104| 9164| 2018|     0|       1000|          0|          0|   1000|      0|            |        T|    1848|2017-08-10 00:00:00|    D001801|NEW PARCEL|        0|3221049164|    1000|\n",
      "|105650|  410| 2018|     0|          0|          0|          0|      0|      0|            |        T|    1518|2017-04-10 00:00:00|    D000832|NEW PARCEL|        0|1056500410|       0|\n",
      "| 67001|  150| 2018|     0|        100|          0|          0|    100|      0|            |        T|     330|2018-05-09 00:00:00|    E001375|NEW PARCEL|        0|0670010150|     100|\n",
      "|105650|  460| 2018|     0|          0|          0|          0|      0|      0|            |        T|    1518|2017-04-10 00:00:00|    D000832|NEW PARCEL|        0|1056500460|       0|\n",
      "|536720|   30| 2018|     0|          0|          0|          0|      0|      0|            |        T|      10|2018-02-15 00:00:00|    E000130|NEW PARCEL|        0|5367200030|       0|\n",
      "|194550|  280| 2018|     0|          0|          0|          0|      0|      0|            |        T|      10|2017-03-21 00:00:00|    D000582|NEW PARCEL|        0|1945500280|       0|\n",
      "| 67001|   60| 2018|     0|          0|          0|          0|      0|      0|            |        T|     330|2018-03-21 00:00:00|    E000786|NEW PARCEL|        0|0670010060|       0|\n",
      "|105650|  390| 2018|     0|          0|          0|          0|      0|      0|            |        T|    1518|2017-04-10 00:00:00|    D000832|NEW PARCEL|        0|1056500390|       0|\n",
      "|105650|  400| 2018|     0|          0|          0|          0|      0|      0|            |        T|    1518|2017-04-10 00:00:00|    D000832|NEW PARCEL|        0|1056500400|       0|\n",
      "|105650|  370| 2018|     0|          0|          0|          0|      0|      0|            |        T|    1518|2017-04-10 00:00:00|    D000832|NEW PARCEL|        0|1056500370|       0|\n",
      "|931590|  640| 2018|     0|     315000|          0|          0| 315000|      0|            |        T|    1405|2018-03-06 00:00:00|    E000512|NEW PARCEL|        0|9315900640|  315000|\n",
      "| 52405| 9332| 2018|     0|       1000|          0|          0|   1000|      0|            |        T|     330|2017-12-05 00:00:00|    D003229|NEW PARCEL|        0|0524059332|    1000|\n",
      "| 67001|  110| 2018|     0|          0|          0|          0|      0|      0|            |        T|     330|2018-03-21 00:00:00|    E000790|NEW PARCEL|        0|0670010110|       0|\n",
      "|304320|    1| 2018|     0|       1000|          0|          0|   1000|      0|            |        T|      10|2017-08-31 00:00:00|    D002032|NEW PARCEL|        0|3043200001|    1000|\n",
      "|105650|  360| 2018|     0|          0|          0|          0|      0|      0|            |        T|    1518|2017-04-10 00:00:00|    D000832|NEW PARCEL|        0|1056500360|       0|\n",
      "|282505| 9331| 2018|     0|       1000|          0|          0|   1000|      0|            |        T|     330|2017-11-16 00:00:00|    D003033|NEW PARCEL|        0|2825059331|    1000|\n",
      "|105650|  440| 2018|     0|          0|          0|          0|      0|      0|            |        T|    1518|2017-04-10 00:00:00|    D000832|NEW PARCEL|        0|1056500440|       0|\n",
      "|381000|  856| 2018|     0|       1000|          0|          0|   1000|      0|            |        T|    4205|2017-06-29 00:00:00|    D001525|NEW PARCEL|        0|3810000856|    1000|\n",
      "+------+-----+-----+------+-----------+-----------+-----------+-------+-------+------------+---------+--------+-------------------+-----------+----------+---------+----------+--------+\n",
      "\n"
     ]
    }
   ],
   "source": [
    "query = '''SELECT * \n",
    "            FROM values \n",
    "            WHERE TaxYr = 2018 and Reason = 'NEW PARCEL'\n",
    "            '''\n",
    "\n",
    "this_house = spark.sql(query).show(9999999)"
   ]
  },
  {
   "cell_type": "code",
   "execution_count": 127,
   "metadata": {},
   "outputs": [
    {
     "name": "stdout",
     "output_type": "stream",
     "text": [
      "+------+-----+-----+------+-----------+-----------+-----------+-------+-------+------------+---------+--------+-------------------+-----------+-----------+---------+----------+--------+\n",
      "| Major|Minor|TaxYr|OmitYr|ApprLandVal|ApprImpsVal|ApprImpIncr|LandVal|ImpsVal|TaxValReason|TaxStatus|LevyCode|         ChangeDate|ChangeDocId|     Reason|SplitCode|       PIN|TotalVal|\n",
      "+------+-----+-----+------+-----------+-----------+-----------+-------+-------+------------+---------+--------+-------------------+-----------+-----------+---------+----------+--------+\n",
      "|685270|  555| 1995|     0|          0|          0|          0|  98000|  28400|            |        T|      10|1994-11-01 00:00:00|           |    REVALUE|        0|6852700555|  126400|\n",
      "|685270|  555| 1993|     0|          0|          0|          0|  89100|  48200|            |        T|      10|1992-05-08 00:00:00|           |    REVALUE|        0|6852700555|  137300|\n",
      "|685270|  555| 1991|     0|          0|          0|          0|  65600|  28200|            |        T|      10|1990-03-30 00:00:00|           |    REVALUE|        0|6852700555|   93800|\n",
      "|685270|  555| 1989|     0|          0|          0|          0|  50000|  27700|            |        T|      10|1988-03-21 00:00:00|           |    REVALUE|        0|6852700555|   77700|\n",
      "|685270|  555| 1987|     0|          0|          0|          0|  39700|  42700|            |        T|      10|1986-02-01 00:00:00|           |    REVALUE|        0|6852700555|   82400|\n",
      "|685270|  555| 1985|     0|          0|          0|          0|  38000|  38700|            |        T|      10|1984-02-03 00:00:00|           |    REVALUE|        0|6852700555|   76700|\n",
      "|685270|  555| 1983|     0|          0|          0|          0|  38000|  38700|            |        T|      10|1982-05-01 00:00:00|           |    REVALUE|        0|6852700555|   76700|\n",
      "|685270|  555| 1997|     0|          0|          0|          0|  98000|  28400|            |        T|      10|1996-10-15 00:00:00|           |    REVALUE|        0|6852700555|  126400|\n",
      "|685270|  555| 1998|     0|          0|          0|          0|  99000|  53000|            |        T|      10|1997-09-04 00:00:00|           |MAINTENANCE|        0|6852700555|  152000|\n",
      "|685270|  555| 1999|     0|      99000|      53000|          0|  99000|  53000|            |        T|      10|1998-04-18 00:00:00|    R470000|  EXTENSION|        0|6852700555|  152000|\n",
      "|685270|  555| 1999|     0|     119000|      63000|          0| 119000|  63000|            |        T|      10|1998-10-06 00:00:00|           |    REVALUE|        0|6852700555|  182000|\n",
      "|685270|  555| 2000|     0|     131000|      89000|          0| 131000|  89000|            |        T|      10|1999-09-15 00:00:00|           |    REVALUE|        0|6852700555|  220000|\n",
      "|685270|  555| 2001|     0|     161000|     110000|          0| 161000| 110000|            |        T|      10|2000-04-27 00:00:00|           |    REVALUE|        0|6852700555|  271000|\n",
      "|685270|  555| 2002|     0|     240000|     101000|          0| 240000| 101000|            |        T|      10|2001-09-19 00:00:00|           |    REVALUE|        0|6852700555|  341000|\n",
      "|685270|  555| 2003|     0|     256000|     105000|          0| 256000| 105000|            |        T|      10|2002-09-09 00:00:00|           |    REVALUE|        0|6852700555|  361000|\n",
      "|685270|  555| 2004|     0|     256000|     105000|          0| 256000| 105000|            |        T|      10|2003-08-04 00:00:00|           |    REVALUE|        0|6852700555|  361000|\n",
      "|685270|  555| 2005|     0|     281000|     109000|          0| 281000| 109000|            |        T|      10|2004-06-02 00:00:00|           |    REVALUE|        0|6852700555|  390000|\n",
      "|685270|  555| 2006|     0|     318000|     108000|          0| 318000| 108000|            |        T|      10|2005-05-25 00:00:00|           |    REVALUE|        0|6852700555|  426000|\n",
      "|685270|  555| 2007|     0|     318000|     108000|          0| 318000| 108000|            |        T|      10|2006-08-21 00:00:00|           |    REVALUE|        0|6852700555|  426000|\n",
      "|685270|  555| 2008|     0|     455000|      19000|          0| 455000|  19000|            |        T|      10|2007-08-29 00:00:00|           |    REVALUE|        0|6852700555|  474000|\n",
      "|685270|  555| 2009|     0|     491000|      19000|          0| 491000|  19000|            |        T|      10|2008-08-19 00:00:00|           |    REVALUE|        0|6852700555|  510000|\n",
      "|685270|  555| 2010|     0|     401000|      16000|          0| 401000|  16000|            |        T|      10|2009-06-08 00:00:00|           |    REVALUE|        0|6852700555|  417000|\n",
      "|685270|  555| 2011|     0|     412000|      16000|          0| 412000|  16000|            |        T|      10|2010-07-13 00:00:00|           |    REVALUE|        0|6852700555|  428000|\n",
      "|685270|  555| 2012|     0|     383000|      15000|          0| 383000|  15000|            |        T|      10|2011-09-06 00:00:00|           |    REVALUE|        0|6852700555|  398000|\n",
      "|685270|  555| 2013|     0|     357000|      41000|          0| 357000|  41000|            |        T|      10|2012-08-29 00:00:00|           |    REVALUE|        0|6852700555|  398000|\n",
      "|685270|  555| 2014|     0|     383000|      69000|          0| 383000|  69000|            |        T|      10|2013-07-09 00:00:00|           |    REVALUE|        0|6852700555|  452000|\n",
      "|685270|  555| 2015|     0|     336000|     220000|          0| 336000| 220000|            |        T|      10|2014-07-28 00:00:00|           |    REVALUE|        0|6852700555|  556000|\n",
      "|685270|  555| 2016|     0|     436000|     190000|          0| 436000| 190000|            |        T|      10|2015-07-29 00:00:00|           |    REVALUE|        0|6852700555|  626000|\n",
      "|685270|  555| 2017|     0|     470000|     241000|          0| 470000| 241000|            |        T|      10|2016-09-20 00:00:00|           |    REVALUE|        0|6852700555|  711000|\n",
      "|685270|  555| 2018|     0|     564000|     306000|          0| 564000| 306000|            |        T|      10|2017-08-22 00:00:00|           |    REVALUE|        0|6852700555|  870000|\n",
      "|685270|  555| 2018|     0|     564000|          0|          0| 564000|      0|            |        T|      10|2017-09-13 00:00:00|           |MAINTENANCE|        0|6852700555|  564000|\n",
      "|685270|  555| 2019|     0|     661000|          0|          0| 661000|      0|            |        T|      10|2018-06-19 00:00:00|           |    REVALUE|        0|6852700555|  661000|\n",
      "|685270|  555| 2019|     0|     661000|    1396000|    1202000| 661000|1396000|            |        T|      10|2018-09-18 00:00:00|           |MAINTENANCE|        0|6852700555| 2057000|\n",
      "|685270|  555| 2020|     0|     170500|     349000|          0| 170500| 349000|            |        T|      10|2018-11-08 00:00:00|    E003464|SEGREGATION|        0|6852700555|  519500|\n",
      "|685270|  555| 2019|     0|     170500|     349000|          0| 170500| 349000|            |        T|      10|2018-11-08 00:00:00|    E003464|SEGREGATION|        0|6852700555|  519500|\n",
      "|685270|  555| 2018|     0|     141000|          0|          0| 141000|      0|            |        T|      10|2018-11-08 00:00:00|    E003464|SEGREGATION|        0|6852700555|  141000|\n",
      "|685270|  555| 2020|     0|     172000|     350000|          0| 172000| 350000|            |        T|      10|2019-07-10 00:00:00|           |    REVALUE|        0|6852700555|  522000|\n",
      "|685270|  555| 2020|     0|     170000|     350000|          0| 170000| 350000|            |        T|      10|2019-09-18 00:00:00|           |    REVALUE|        0|6852700555|  520000|\n",
      "+------+-----+-----+------+-----------+-----------+-----------+-------+-------+------------+---------+--------+-------------------+-----------+-----------+---------+----------+--------+\n",
      "\n"
     ]
    }
   ],
   "source": [
    "cap_hill = query = '''SELECT * \n",
    "            FROM values \n",
    "            WHERE PIN = '6852700555' \n",
    "            '''\n",
    "\n",
    "this_house = spark.sql(query).show(9999)"
   ]
  },
  {
   "cell_type": "code",
   "execution_count": 129,
   "metadata": {},
   "outputs": [
    {
     "data": {
      "text/plain": [
       "NoneType"
      ]
     },
     "execution_count": 129,
     "metadata": {},
     "output_type": "execute_result"
    }
   ],
   "source": [
    "type(this_house)"
   ]
  },
  {
   "cell_type": "code",
   "execution_count": 130,
   "metadata": {},
   "outputs": [
    {
     "name": "stdout",
     "output_type": "stream",
     "text": [
      "+------+-----+-----+------+-----------+-----------+-----------+-------+-------+------------+---------+--------+-------------------+-----------+-----------+---------+----------+--------+\n",
      "| Major|Minor|TaxYr|OmitYr|ApprLandVal|ApprImpsVal|ApprImpIncr|LandVal|ImpsVal|TaxValReason|TaxStatus|LevyCode|         ChangeDate|ChangeDocId|     Reason|SplitCode|       PIN|TotalVal|\n",
      "+------+-----+-----+------+-----------+-----------+-----------+-------+-------+------------+---------+--------+-------------------+-----------+-----------+---------+----------+--------+\n",
      "|685270|  559| 2020|     0|     160000|     349000|          0| 160000| 349000|            |        T|      10|2018-11-08 00:00:00|    E003464|SEGREGATION|        0|6852700559|  509000|\n",
      "|685270|  559| 2019|     0|     160000|     349000|          0| 160000| 349000|            |        T|      10|2018-11-08 00:00:00|    E003464|SEGREGATION|        0|6852700559|  509000|\n",
      "|685270|  559| 2018|     0|     141000|          0|          0| 141000|      0|            |        T|      10|2018-11-08 00:00:00|    E003464|SEGREGATION|        0|6852700559|  141000|\n",
      "|685270|  559| 2020|     0|     161000|     350000|          0| 161000| 350000|            |        T|      10|2019-07-10 00:00:00|           |    REVALUE|        0|6852700559|  511000|\n",
      "|685270|  559| 2020|     0|     160000|     350000|          0| 160000| 350000|            |        T|      10|2019-09-18 00:00:00|           |    REVALUE|        0|6852700559|  510000|\n",
      "+------+-----+-----+------+-----------+-----------+-----------+-------+-------+------------+---------+--------+-------------------+-----------+-----------+---------+----------+--------+\n",
      "\n"
     ]
    }
   ],
   "source": [
    "cap_hill = query = '''SELECT * \n",
    "            FROM values \n",
    "            WHERE PIN = '6852700559' \n",
    "            '''\n",
    "\n",
    "this_house = spark.sql(query).show(9999)"
   ]
  },
  {
   "cell_type": "code",
   "execution_count": null,
   "metadata": {},
   "outputs": [],
   "source": []
  }
 ],
 "metadata": {
  "kernelspec": {
   "display_name": "Python 3",
   "language": "python",
   "name": "python3"
  },
  "language_info": {
   "codemirror_mode": {
    "name": "ipython",
    "version": 3
   },
   "file_extension": ".py",
   "mimetype": "text/x-python",
   "name": "python",
   "nbconvert_exporter": "python",
   "pygments_lexer": "ipython3",
   "version": "3.7.4"
  }
 },
 "nbformat": 4,
 "nbformat_minor": 4
}
